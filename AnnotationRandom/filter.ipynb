{
 "cells": [
  {
   "cell_type": "code",
   "execution_count": 1,
   "metadata": {},
   "outputs": [],
   "source": [
    "import os\n",
    "import json"
   ]
  },
  {
   "cell_type": "code",
   "execution_count": null,
   "metadata": {},
   "outputs": [
    {
     "name": "stdout",
     "output_type": "stream",
     "text": [
      "过滤出 1 条数据。\n"
     ]
    }
   ],
   "source": [
    "import json\n",
    "\n",
    "# 加载JSON文件\n",
    "with open('./split2_output_gpt4o.json', 'r', encoding='utf-8') as f:\n",
    "    data_440 = json.load(f)\n",
    "\n",
    "with open('./split2.json', 'r', encoding='utf-8') as f:\n",
    "    data_500 = json.load(f)\n",
    "\n",
    "# 创建集合\n",
    "\n",
    "questions_set = set(item['question'] for item in data_440)\n",
    "source_code_set = set(item['source_code'] for item in data_500)\n",
    "\n",
    "# 获取不在questions_set中的元素，即差集\n",
    "remaining_source_codes = source_code_set - questions_set\n",
    "\n",
    "# 从data_500中筛选出source_code在差集remaining_source_codes中的条目\n",
    "remaining_data = [item for item in data_500 if item['source_code'] in remaining_source_codes]\n",
    "\n",
    "# 输出或保存结果\n",
    "with open('split2_remain.json', 'w', encoding='utf-8') as f:\n",
    "    json.dump(remaining_data, f, ensure_ascii=False, indent=4)\n",
    "\n",
    "print(f\"过滤出 {len(remaining_data)} 条数据。\")"
   ]
  },
  {
   "cell_type": "code",
   "execution_count": null,
   "metadata": {},
   "outputs": [],
   "source": [
    "with open('./split2_remain_output_gpt4o.json','r') as f:\n",
    "    data1 = json.load(f)\n",
    "with open('./split2_output_gpt4o.json','r') as f:\n",
    "    data2 = json.load(f)\n",
    "data2.extend(data1)"
   ]
  },
  {
   "cell_type": "code",
   "execution_count": 9,
   "metadata": {},
   "outputs": [
    {
     "data": {
      "text/plain": [
       "500"
      ]
     },
     "execution_count": 9,
     "metadata": {},
     "output_type": "execute_result"
    }
   ],
   "source": [
    "len(data2)"
   ]
  },
  {
   "cell_type": "code",
   "execution_count": 10,
   "metadata": {},
   "outputs": [],
   "source": [
    "with open('./split2_output_gpt--4o.json','w') as f:\n",
    "    json.dump(data2, f,ensure_ascii=False,indent=4)"
   ]
  }
 ],
 "metadata": {
  "kernelspec": {
   "display_name": "torch",
   "language": "python",
   "name": "python3"
  },
  "language_info": {
   "codemirror_mode": {
    "name": "ipython",
    "version": 3
   },
   "file_extension": ".py",
   "mimetype": "text/x-python",
   "name": "python",
   "nbconvert_exporter": "python",
   "pygments_lexer": "ipython3",
   "version": "3.10.14"
  }
 },
 "nbformat": 4,
 "nbformat_minor": 2
}
