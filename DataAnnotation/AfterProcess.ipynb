{
 "cells": [
  {
   "cell_type": "code",
   "execution_count": null,
   "metadata": {},
   "outputs": [],
   "source": [
    "import os\n",
    "import json\n",
    "with open('./DataAnnotation/small_sample_1500_dataset/split2.json', 'r') as f:\n",
    "    data = json.load(f)\n",
    "with open('./Annotation/results/split2_output_gpt--4o_all.json', 'r') as f:\n",
    "    data_process = json.load(f)\n",
    "\n",
    "for item1 in data_process:\n",
    "    for item2 in data:\n",
    "        if item1['question'] == item2['source_code']:\n",
    "            item1['fixed_code'] = item2['fixed_code']\n",
    "            \n",
    "\n"
   ]
  },
  {
   "cell_type": "code",
   "execution_count": null,
   "metadata": {},
   "outputs": [],
   "source": [
    "with open('./Annotation/results/split2_output_gpt--4o_all.json', 'w') as f:\n",
    "    json.dump(data_process, f, indent=4, ensure_ascii=False)"
   ]
  },
  {
   "cell_type": "markdown",
   "metadata": {},
   "source": [
    "在数据标注完成后，对标注的数据进行过滤"
   ]
  },
  {
   "cell_type": "code",
   "execution_count": 2,
   "metadata": {},
   "outputs": [],
   "source": [
    "import os\n",
    "import json\n",
    "import re"
   ]
  },
  {
   "cell_type": "code",
   "execution_count": null,
   "metadata": {},
   "outputs": [
    {
     "data": {
      "text/plain": [
       "{'question': 'import sys, os, io\\r\\ninput = io.BytesIO(os.read(0, os.fstat(0).st_size)).readline\\r\\n\\r\\ndef binary_search(c1, c2):\\r\\n    m = (c1 + c2 + 1) // 2\\r\\n    while abs(c1 - c2) > 1:\\r\\n        m = (c1 + c2 + 1) // 2\\r\\n        if ok(m):\\r\\n            c1 = m\\r\\n        else:\\r\\n            c2 = m\\r\\n    m = max(m - 1, 1)\\r\\n    while ok(m):\\r\\n        m += 1\\r\\n    return m - 1\\r\\n\\r\\ndef ok(m):\\r\\n    c = [0] * k\\r\\n    s0 = 0\\r\\n    for i in range(n - 1, n - m, -1):\\r\\n        si = s[i] - 97\\r\\n        if si >= 0:\\r\\n            c[si] += 1\\r\\n            s0 += 1\\r\\n    for i in range(n - m, -1, -1):\\r\\n        si = s[i] - 97\\r\\n        if si >= 0:\\r\\n            c[si] += 1\\r\\n            s0 += 1\\r\\n        u = i + m - 1\\r\\n        for j in range(k):\\r\\n            if not c[j] ^ s0:\\r\\n                x[j][i] = i\\r\\n            else:\\r\\n                x[j][i] = x[j][i + 1]\\r\\n        su = s[u] - 97\\r\\n        if su >= 0:\\r\\n            c[su] -= 1\\r\\n            s0 -= 1\\r\\n    dp = [inf] * l\\r\\n    dp[0] = 0\\r\\n    for i in range(l):\\r\\n        dpi = dp[i]\\r\\n        if dpi >= n:\\r\\n            continue\\r\\n        for j in range(k):\\r\\n            if i & pow2[j]:\\r\\n                continue\\r\\n            u = x[j][dpi]\\r\\n            v = i ^ pow2[j]\\r\\n            dp[v] = min(dp[v], u + m)\\r\\n    return True if dp[-1] ^ inf else False\\r\\n\\r\\nn, k = map(int, input().split())\\r\\ns = list(input().rstrip())\\r\\npow2 = [1]\\r\\nfor _ in range(k):\\r\\n    pow2.append(2 * pow2[-1])\\r\\ninf = pow(10, 9) + 1\\r\\nl = pow2[k]\\r\\nx = [[inf] * (n + 1) for _ in range(k)]\\r\\nans = binary_search(0, n // k + 1)\\r\\nprint(ans)',\n",
       " 'function_description': '该代码功能：在特定条件下进行分组优化的二分搜索。',\n",
       " 'vulnerability_analysis': \"[\\n   {'CWE_Type':'CWE-20', 'CWE_Code':'n, k = map(int, input().split())', 'CWE_Description':'未对输入的范围和合法性进行验证，可能导致异常或未定义行为。'},\\n\\n   {'CWE_Type':'CWE-125', 'CWE_Code':'for i in range(n - 1, n - m, -1):\\\\n        si = s[i] - 97', 'CWE_Description':'在对`s`数组访问时，未检查`n - m`是否可能小于0，可能导致数组越界读取。'},\\n\\n   {'CWE_Type':'CWE-125', 'CWE_Code':'for i in range(n - m, -1, -1):\\\\n        si = s[i] - 97', 'CWE_Description':'在对`s`数组访问时，未检查`n - m`是否有效，可能导致越界读取。'},\\n\\n   {'CWE_Type':'CWE-787', 'CWE_Code':'x[j][i] = i\\\\nx[j][i] = x[j][i + 1]', 'CWE_Description':'数组`x`的索引未检查`i + 1`是否越界，可能导致越界写入。'},\\n\\n   {'CWE_Type':'CWE-20', 'CWE_Code':'s = list(input().rstrip())', 'CWE_Description':'对字符串`s`的内容未验证输入是否合法，可能导致非法字符处理问题。'}\\n]\",\n",
       " 'repaired_code': '[\\n    {\\n        \\'repair_code\\': \\'\\'\\'\\nimport sys, os, io\\ninput = io.BytesIO(os.read(0, os.fstat(0).st_size)).readline\\n\\ndef is_valid_input(n, k, s):\\n    if n < 1 or k < 1:\\n        return False\\n    if len(s) != n:\\n        return False\\n    return all(97 <= ord(ch) <= 122 for ch in s)\\n\\ndef binary_search(c1, c2):\\n    m = (c1 + c2 + 1) // 2\\n    while abs(c1 - c2) > 1:\\n        m = (c1 + c2 + 1) // 2\\n        if ok(m):\\n            c1 = m\\n        else:\\n            c2 = m\\n    m = max(m - 1, 1)\\n    while ok(m):\\n        m += 1\\n    return m - 1\\n\\ndef ok(m):\\n    c = [0] * k\\n    s0 = 0\\n    start_index = max(0, n - m)\\n\\n    for i in range(n - 1, start_index - 1, -1):\\n        si = s[i] - 97\\n        if si >= 0:\\n            c[si] += 1\\n            s0 += 1\\n\\n    for i in range(start_index, -1, -1):\\n        si = s[i] - 97\\n        if si >= 0:\\n            c[si] += 1\\n            s0 += 1\\n        u = i + m - 1\\n        if u < n:\\n            for j in range(k):\\n                if not c[j] ^ s0:\\n                    x[j][i] = i\\n                else:\\n                    x[j][i] = x[j][i + 1] if i + 1 < n else inf\\n        su = s[u] - 97 if u < n else -1\\n        if su >= 0:\\n            c[su] -= 1\\n            s0 -= 1\\n\\n    dp = [inf] * l\\n    dp[0] = 0\\n    for i in range(l):\\n        dpi = dp[i]\\n        if dpi >= n:\\n            continue\\n        for j in range(k):\\n            if i & pow2[j]:\\n                continue\\n            u = x[j][dpi] if dpi < n else inf\\n            v = i ^ pow2[j]\\n            dp[v] = min(dp[v], u + m)\\n    return dp[-1] != inf\\n\\ntry:\\n    n, k = map(int, input().split())\\n    s = list(input().rstrip())\\n    if not is_valid_input(n, k, s):\\n        raise ValueError(\"Invalid input values.\")\\nexcept Exception as e:\\n    print(\"Input error:\", e)\\n    sys.exit(1)\\n\\npow2 = [1]\\nfor _ in range(k):\\n    pow2.append(2 * pow2[-1])\\ninf = pow(10, 9) + 1\\nl = pow2[k]\\nx = [[inf] * (n + 1) for _ in range(k)]\\nans = binary_search(0, n // k + 1)\\nprint(ans)\\n        \\'\\'\\',\\n        \\'repair_method\\': \\'修复了输入验证以确保 n、k 范围和 s 字符串合法性。增加了数组访问的边界检查，避免越界读取和写入。\\'\\n    }\\n]',\n",
       " 'llm_model': 'gpt-4o',\n",
       " 'source': 'Python_461356.json'}"
      ]
     },
     "execution_count": 3,
     "metadata": {},
     "output_type": "execute_result"
    }
   ],
   "source": [
    "summary = []\n",
    "with open('./DataAnnotation/small_sample_output_dir/split0_output_gpt4o.json', 'r') as f:\n",
    "    data = json.load(f)\n",
    "data[0]"
   ]
  },
  {
   "cell_type": "code",
   "execution_count": 4,
   "metadata": {},
   "outputs": [
    {
     "data": {
      "text/plain": [
       "(500,\n",
       " {'question': 'import sys, os, io\\r\\ninput = io.BytesIO(os.read(0, os.fstat(0).st_size)).readline\\r\\n\\r\\ndef binary_search(c1, c2):\\r\\n    m = (c1 + c2 + 1) // 2\\r\\n    while abs(c1 - c2) > 1:\\r\\n        m = (c1 + c2 + 1) // 2\\r\\n        if ok(m):\\r\\n            c1 = m\\r\\n        else:\\r\\n            c2 = m\\r\\n    m = max(m - 1, 1)\\r\\n    while ok(m):\\r\\n        m += 1\\r\\n    return m - 1\\r\\n\\r\\ndef ok(m):\\r\\n    c = [0] * k\\r\\n    s0 = 0\\r\\n    for i in range(n - 1, n - m, -1):\\r\\n        si = s[i] - 97\\r\\n        if si >= 0:\\r\\n            c[si] += 1\\r\\n            s0 += 1\\r\\n    for i in range(n - m, -1, -1):\\r\\n        si = s[i] - 97\\r\\n        if si >= 0:\\r\\n            c[si] += 1\\r\\n            s0 += 1\\r\\n        u = i + m - 1\\r\\n        for j in range(k):\\r\\n            if not c[j] ^ s0:\\r\\n                x[j][i] = i\\r\\n            else:\\r\\n                x[j][i] = x[j][i + 1]\\r\\n        su = s[u] - 97\\r\\n        if su >= 0:\\r\\n            c[su] -= 1\\r\\n            s0 -= 1\\r\\n    dp = [inf] * l\\r\\n    dp[0] = 0\\r\\n    for i in range(l):\\r\\n        dpi = dp[i]\\r\\n        if dpi >= n:\\r\\n            continue\\r\\n        for j in range(k):\\r\\n            if i & pow2[j]:\\r\\n                continue\\r\\n            u = x[j][dpi]\\r\\n            v = i ^ pow2[j]\\r\\n            dp[v] = min(dp[v], u + m)\\r\\n    return True if dp[-1] ^ inf else False\\r\\n\\r\\nn, k = map(int, input().split())\\r\\ns = list(input().rstrip())\\r\\npow2 = [1]\\r\\nfor _ in range(k):\\r\\n    pow2.append(2 * pow2[-1])\\r\\ninf = pow(10, 9) + 1\\r\\nl = pow2[k]\\r\\nx = [[inf] * (n + 1) for _ in range(k)]\\r\\nans = binary_search(0, n // k + 1)\\r\\nprint(ans)',\n",
       "  'gpt4o': {'function_description': '该代码功能：在特定条件下进行分组优化的二分搜索。',\n",
       "   'vulnerability_analysis': \"[\\n   {'CWE_Type':'CWE-20', 'CWE_Code':'n, k = map(int, input().split())', 'CWE_Description':'未对输入的范围和合法性进行验证，可能导致异常或未定义行为。'},\\n\\n   {'CWE_Type':'CWE-125', 'CWE_Code':'for i in range(n - 1, n - m, -1):\\\\n        si = s[i] - 97', 'CWE_Description':'在对`s`数组访问时，未检查`n - m`是否可能小于0，可能导致数组越界读取。'},\\n\\n   {'CWE_Type':'CWE-125', 'CWE_Code':'for i in range(n - m, -1, -1):\\\\n        si = s[i] - 97', 'CWE_Description':'在对`s`数组访问时，未检查`n - m`是否有效，可能导致越界读取。'},\\n\\n   {'CWE_Type':'CWE-787', 'CWE_Code':'x[j][i] = i\\\\nx[j][i] = x[j][i + 1]', 'CWE_Description':'数组`x`的索引未检查`i + 1`是否越界，可能导致越界写入。'},\\n\\n   {'CWE_Type':'CWE-20', 'CWE_Code':'s = list(input().rstrip())', 'CWE_Description':'对字符串`s`的内容未验证输入是否合法，可能导致非法字符处理问题。'}\\n]\",\n",
       "   'repaired_code': '[\\n    {\\n        \\'repair_code\\': \\'\\'\\'\\nimport sys, os, io\\ninput = io.BytesIO(os.read(0, os.fstat(0).st_size)).readline\\n\\ndef is_valid_input(n, k, s):\\n    if n < 1 or k < 1:\\n        return False\\n    if len(s) != n:\\n        return False\\n    return all(97 <= ord(ch) <= 122 for ch in s)\\n\\ndef binary_search(c1, c2):\\n    m = (c1 + c2 + 1) // 2\\n    while abs(c1 - c2) > 1:\\n        m = (c1 + c2 + 1) // 2\\n        if ok(m):\\n            c1 = m\\n        else:\\n            c2 = m\\n    m = max(m - 1, 1)\\n    while ok(m):\\n        m += 1\\n    return m - 1\\n\\ndef ok(m):\\n    c = [0] * k\\n    s0 = 0\\n    start_index = max(0, n - m)\\n\\n    for i in range(n - 1, start_index - 1, -1):\\n        si = s[i] - 97\\n        if si >= 0:\\n            c[si] += 1\\n            s0 += 1\\n\\n    for i in range(start_index, -1, -1):\\n        si = s[i] - 97\\n        if si >= 0:\\n            c[si] += 1\\n            s0 += 1\\n        u = i + m - 1\\n        if u < n:\\n            for j in range(k):\\n                if not c[j] ^ s0:\\n                    x[j][i] = i\\n                else:\\n                    x[j][i] = x[j][i + 1] if i + 1 < n else inf\\n        su = s[u] - 97 if u < n else -1\\n        if su >= 0:\\n            c[su] -= 1\\n            s0 -= 1\\n\\n    dp = [inf] * l\\n    dp[0] = 0\\n    for i in range(l):\\n        dpi = dp[i]\\n        if dpi >= n:\\n            continue\\n        for j in range(k):\\n            if i & pow2[j]:\\n                continue\\n            u = x[j][dpi] if dpi < n else inf\\n            v = i ^ pow2[j]\\n            dp[v] = min(dp[v], u + m)\\n    return dp[-1] != inf\\n\\ntry:\\n    n, k = map(int, input().split())\\n    s = list(input().rstrip())\\n    if not is_valid_input(n, k, s):\\n        raise ValueError(\"Invalid input values.\")\\nexcept Exception as e:\\n    print(\"Input error:\", e)\\n    sys.exit(1)\\n\\npow2 = [1]\\nfor _ in range(k):\\n    pow2.append(2 * pow2[-1])\\ninf = pow(10, 9) + 1\\nl = pow2[k]\\nx = [[inf] * (n + 1) for _ in range(k)]\\nans = binary_search(0, n // k + 1)\\nprint(ans)\\n        \\'\\'\\',\\n        \\'repair_method\\': \\'修复了输入验证以确保 n、k 范围和 s 字符串合法性。增加了数组访问的边界检查，避免越界读取和写入。\\'\\n    }\\n]'},\n",
       "  'deepseekv3': {'function_description': '',\n",
       "   'vulnerability_analysis': '',\n",
       "   'repaired_code': ''},\n",
       "  'claude3.5-1022': {'function_description': '',\n",
       "   'vulnerability_analysis': '',\n",
       "   'repaired_code': ''},\n",
       "  'gemini1.5-pro-latest': {'function_description': '',\n",
       "   'vulnerability_analysis': '',\n",
       "   'repaired_code': ''},\n",
       "  'yi-lightning': {'function_description': '',\n",
       "   'vulnerability_analysis': '',\n",
       "   'repaired_code': ''},\n",
       "  'source': 'Python_461356.json'})"
      ]
     },
     "execution_count": 4,
     "metadata": {},
     "output_type": "execute_result"
    }
   ],
   "source": [
    "\n",
    "for item in data:\n",
    "    summary.append({\n",
    "        'question': item['question'],\n",
    "        'gpt4o': {\n",
    "            'function_description': item['function_description'],\n",
    "            'vulnerability_analysis': item['vulnerability_analysis'],\n",
    "            'repaired_code': item['repaired_code']\n",
    "        },\n",
    "        'deepseekv3':{\n",
    "            'function_description': '',\n",
    "            'vulnerability_analysis': '',\n",
    "            'repaired_code': ''\n",
    "        },\n",
    "        'claude3.5-1022':{\n",
    "            'function_description': '',\n",
    "            'vulnerability_analysis': '',\n",
    "            'repaired_code': ''\n",
    "        },\n",
    "        'gemini1.5-pro-latest':{\n",
    "            'function_description': '',\n",
    "            'vulnerability_analysis': '',\n",
    "            'repaired_code': ''\n",
    "        },\n",
    "        'yi-lightning':{\n",
    "            'function_description': '',\n",
    "            'vulnerability_analysis': '',\n",
    "            'repaired_code': ''\n",
    "        },\n",
    "        'source': item['source']\n",
    "    })\n",
    "len(summary),summary[0]"
   ]
  },
  {
   "cell_type": "code",
   "execution_count": null,
   "metadata": {},
   "outputs": [],
   "source": [
    "with open('./DataAnnotation/small_sample_output_dir/split0_output_gemini15-pro-latest.json', 'r') as f:\n",
    "    data = json.load(f)\n",
    "for item in data:\n",
    "    for index in summary:\n",
    "        if item['question'] == index['question']:\n",
    "            index['gemini1.5-pro-latest']['function_description'] = item['function_description']\n",
    "            index['gemini1.5-pro-latest']['vulnerability_analysis'] = item['vulnerability_analysis']\n",
    "            index['gemini1.5-pro-latest']['repaired_code'] = item['repaired_code']\n",
    "            break"
   ]
  },
  {
   "cell_type": "code",
   "execution_count": null,
   "metadata": {},
   "outputs": [],
   "source": [
    "with open('./DataAnnotation/small_sample_output_dir/split0_output_deepseek-chat.json','r') as f:\n",
    "    data = json.load(f)\n",
    "for item in data:\n",
    "    for index in summary:\n",
    "        if item['question'] == index['question']:\n",
    "            index['deepseekv3']['function_description'] = item['function_description']\n",
    "            index['deepseekv3']['vulnerability_analysis'] = item['vulnerability_analysis']\n",
    "            index['deepseekv3']['repaired_code'] = item['repaired_code']\n",
    "            break"
   ]
  },
  {
   "cell_type": "code",
   "execution_count": null,
   "metadata": {},
   "outputs": [],
   "source": [
    "with open('./DataAnnotation/small_sample_output_dir/split0_output_claude35-1022.json','r') as f:\n",
    "    data = json.load(f)\n",
    "for item in data:\n",
    "    for index in summary:\n",
    "        if item['question'] == index['question']:\n",
    "            index['claude3.5-1022']['function_description'] = item['function_description']\n",
    "            index['claude3.5-1022']['vulnerability_analysis'] = item['vulnerability_analysis']\n",
    "            index['claude3.5-1022']['repaired_code'] = item['repaired_code']\n",
    "            break"
   ]
  },
  {
   "cell_type": "code",
   "execution_count": null,
   "metadata": {},
   "outputs": [],
   "source": [
    "with open('./DataAnnotation/small_sample_output_dir/split0_output_new_yi-lightning.json','r') as f:\n",
    "    data = json.load(f)\n",
    "for item in data:\n",
    "    for index in summary:\n",
    "        if item['question'] == index['question']:\n",
    "            index['yi-lightning']['function_description'] = item['function_description']\n",
    "            index['yi-lightning']['vulnerability_analysis'] = item['vulnerability_analysis']\n",
    "            index['yi-lightning']['repaired_code'] = item['repaired_code']\n",
    "            break"
   ]
  },
  {
   "cell_type": "code",
   "execution_count": 9,
   "metadata": {},
   "outputs": [
    {
     "data": {
      "text/plain": [
       "{'question': 'import sys, os, io\\r\\ninput = io.BytesIO(os.read(0, os.fstat(0).st_size)).readline\\r\\n\\r\\ndef binary_search(c1, c2):\\r\\n    m = (c1 + c2 + 1) // 2\\r\\n    while abs(c1 - c2) > 1:\\r\\n        m = (c1 + c2 + 1) // 2\\r\\n        if ok(m):\\r\\n            c1 = m\\r\\n        else:\\r\\n            c2 = m\\r\\n    m = max(m - 1, 1)\\r\\n    while ok(m):\\r\\n        m += 1\\r\\n    return m - 1\\r\\n\\r\\ndef ok(m):\\r\\n    c = [0] * k\\r\\n    s0 = 0\\r\\n    for i in range(n - 1, n - m, -1):\\r\\n        si = s[i] - 97\\r\\n        if si >= 0:\\r\\n            c[si] += 1\\r\\n            s0 += 1\\r\\n    for i in range(n - m, -1, -1):\\r\\n        si = s[i] - 97\\r\\n        if si >= 0:\\r\\n            c[si] += 1\\r\\n            s0 += 1\\r\\n        u = i + m - 1\\r\\n        for j in range(k):\\r\\n            if not c[j] ^ s0:\\r\\n                x[j][i] = i\\r\\n            else:\\r\\n                x[j][i] = x[j][i + 1]\\r\\n        su = s[u] - 97\\r\\n        if su >= 0:\\r\\n            c[su] -= 1\\r\\n            s0 -= 1\\r\\n    dp = [inf] * l\\r\\n    dp[0] = 0\\r\\n    for i in range(l):\\r\\n        dpi = dp[i]\\r\\n        if dpi >= n:\\r\\n            continue\\r\\n        for j in range(k):\\r\\n            if i & pow2[j]:\\r\\n                continue\\r\\n            u = x[j][dpi]\\r\\n            v = i ^ pow2[j]\\r\\n            dp[v] = min(dp[v], u + m)\\r\\n    return True if dp[-1] ^ inf else False\\r\\n\\r\\nn, k = map(int, input().split())\\r\\ns = list(input().rstrip())\\r\\npow2 = [1]\\r\\nfor _ in range(k):\\r\\n    pow2.append(2 * pow2[-1])\\r\\ninf = pow(10, 9) + 1\\r\\nl = pow2[k]\\r\\nx = [[inf] * (n + 1) for _ in range(k)]\\r\\nans = binary_search(0, n // k + 1)\\r\\nprint(ans)',\n",
       " 'gpt4o': {'function_description': '该代码功能：在特定条件下进行分组优化的二分搜索。',\n",
       "  'vulnerability_analysis': \"[\\n   {'CWE_Type':'CWE-20', 'CWE_Code':'n, k = map(int, input().split())', 'CWE_Description':'未对输入的范围和合法性进行验证，可能导致异常或未定义行为。'},\\n\\n   {'CWE_Type':'CWE-125', 'CWE_Code':'for i in range(n - 1, n - m, -1):\\\\n        si = s[i] - 97', 'CWE_Description':'在对`s`数组访问时，未检查`n - m`是否可能小于0，可能导致数组越界读取。'},\\n\\n   {'CWE_Type':'CWE-125', 'CWE_Code':'for i in range(n - m, -1, -1):\\\\n        si = s[i] - 97', 'CWE_Description':'在对`s`数组访问时，未检查`n - m`是否有效，可能导致越界读取。'},\\n\\n   {'CWE_Type':'CWE-787', 'CWE_Code':'x[j][i] = i\\\\nx[j][i] = x[j][i + 1]', 'CWE_Description':'数组`x`的索引未检查`i + 1`是否越界，可能导致越界写入。'},\\n\\n   {'CWE_Type':'CWE-20', 'CWE_Code':'s = list(input().rstrip())', 'CWE_Description':'对字符串`s`的内容未验证输入是否合法，可能导致非法字符处理问题。'}\\n]\",\n",
       "  'repaired_code': '[\\n    {\\n        \\'repair_code\\': \\'\\'\\'\\nimport sys, os, io\\ninput = io.BytesIO(os.read(0, os.fstat(0).st_size)).readline\\n\\ndef is_valid_input(n, k, s):\\n    if n < 1 or k < 1:\\n        return False\\n    if len(s) != n:\\n        return False\\n    return all(97 <= ord(ch) <= 122 for ch in s)\\n\\ndef binary_search(c1, c2):\\n    m = (c1 + c2 + 1) // 2\\n    while abs(c1 - c2) > 1:\\n        m = (c1 + c2 + 1) // 2\\n        if ok(m):\\n            c1 = m\\n        else:\\n            c2 = m\\n    m = max(m - 1, 1)\\n    while ok(m):\\n        m += 1\\n    return m - 1\\n\\ndef ok(m):\\n    c = [0] * k\\n    s0 = 0\\n    start_index = max(0, n - m)\\n\\n    for i in range(n - 1, start_index - 1, -1):\\n        si = s[i] - 97\\n        if si >= 0:\\n            c[si] += 1\\n            s0 += 1\\n\\n    for i in range(start_index, -1, -1):\\n        si = s[i] - 97\\n        if si >= 0:\\n            c[si] += 1\\n            s0 += 1\\n        u = i + m - 1\\n        if u < n:\\n            for j in range(k):\\n                if not c[j] ^ s0:\\n                    x[j][i] = i\\n                else:\\n                    x[j][i] = x[j][i + 1] if i + 1 < n else inf\\n        su = s[u] - 97 if u < n else -1\\n        if su >= 0:\\n            c[su] -= 1\\n            s0 -= 1\\n\\n    dp = [inf] * l\\n    dp[0] = 0\\n    for i in range(l):\\n        dpi = dp[i]\\n        if dpi >= n:\\n            continue\\n        for j in range(k):\\n            if i & pow2[j]:\\n                continue\\n            u = x[j][dpi] if dpi < n else inf\\n            v = i ^ pow2[j]\\n            dp[v] = min(dp[v], u + m)\\n    return dp[-1] != inf\\n\\ntry:\\n    n, k = map(int, input().split())\\n    s = list(input().rstrip())\\n    if not is_valid_input(n, k, s):\\n        raise ValueError(\"Invalid input values.\")\\nexcept Exception as e:\\n    print(\"Input error:\", e)\\n    sys.exit(1)\\n\\npow2 = [1]\\nfor _ in range(k):\\n    pow2.append(2 * pow2[-1])\\ninf = pow(10, 9) + 1\\nl = pow2[k]\\nx = [[inf] * (n + 1) for _ in range(k)]\\nans = binary_search(0, n // k + 1)\\nprint(ans)\\n        \\'\\'\\',\\n        \\'repair_method\\': \\'修复了输入验证以确保 n、k 范围和 s 字符串合法性。增加了数组访问的边界检查，避免越界读取和写入。\\'\\n    }\\n]'},\n",
       " 'deepseekv3': {'function_description': '实现二分查找优化字符串匹配算法。',\n",
       "  'vulnerability_analysis': \"```json\\n[\\n    {'CWE_Type':'CWE-125', 'CWE_Code':'si = s[i] - 97', 'CWE_Description':'数组访问时未验证索引范围，可能导致越界读取。'},\\n    {'CWE_Type':'CWE-20', 'CWE_Code':'n, k = map(int, input().split())', 'CWE_Description':'未对输入进行充分验证，可能导致无效或恶意输入。'},\\n    {'CWE_Type':'CWE-125', 'CWE_Code':'c = [0] * k', 'CWE_Description':'数组大小依赖于未经验证的输入k，可能导致越界访问。'}\\n]\\n```\",\n",
       "  'repaired_code': '```json\\n[\\n    {\\n        \\'repair_code\\': \\'\\'\\'\\nimport sys, os, io\\ninput = io.BytesIO(os.read(0, os.fstat(0).st_size)).readline\\n\\ndef binary_search(c1, c2):\\n    m = (c1 + c2 + 1) // 2\\n    while abs(c1 - c2) > 1:\\n        m = (c1 + c2 + 1) // 2\\n        if ok(m):\\n            c1 = m\\n        else:\\n            c2 = m\\n    m = max(m - 1, 1)\\n    while ok(m):\\n        m += 1\\n    return m - 1\\n\\ndef ok(m):\\n    c = [0] * k\\n    s0 = 0\\n    for i in range(n - 1, n - m, -1):\\n        if i < 0 or i >= len(s):\\n            continue\\n        si = s[i] - 97\\n        if si >= 0 and si < k:\\n            c[si] += 1\\n            s0 += 1\\n    for i in range(n - m, -1, -1):\\n        if i < 0 or i >= len(s):\\n            continue\\n        si = s[i] - 97\\n        if si >= 0 and si < k:\\n            c[si] += 1\\n            s0 += 1\\n        u = i + m - 1\\n        for j in range(k):\\n            if not c[j] ^ s0:\\n                x[j][i] = i\\n            else:\\n                x[j][i] = x[j][i + 1]\\n        if u < 0 or u >= len(s):\\n            continue\\n        su = s[u] - 97\\n        if su >= 0 and su < k:\\n            c[su] -= 1\\n            s0 -= 1\\n    dp = [inf] * l\\n    dp[0] = 0\\n    for i in range(l):\\n        dpi = dp[i]\\n        if dpi >= n:\\n            continue\\n        for j in range(k):\\n            if i & pow2[j]:\\n                continue\\n            u = x[j][dpi]\\n            v = i ^ pow2[j]\\n            dp[v] = min(dp[v], u + m)\\n    return True if dp[-1] ^ inf else False\\n\\nn, k = map(int, input().split())\\nif n <= 0 or k <= 0:\\n    print(\"Invalid input\")\\n    sys.exit()\\ns = list(input().rstrip())\\npow2 = [1]\\nfor _ in range(k):\\n    pow2.append(2 * pow2[-1])\\ninf = pow(10, 9) + 1\\nl = pow2[k]\\nx = [[inf] * (n + 1) for _ in range(k)]\\nans = binary_search(0, n // k + 1)\\nprint(ans)\\n\\'\\'\\',\\n        \\'repair_method\\': \\'添加数组索引范围检查，验证输入有效性，防止越界访问和无效输入。\\'\\n    }\\n]\\n```'},\n",
       " 'claude3.5-1022': {'function_description': '这段代码实现了一个二分查找算法，用于寻找满足特定字符串条件的最大长度。\\n\\n让我用中文详细分析这段代码的主要部分：\\n\\n1. **整体结构**：\\n- 使用二分查找来寻找最优解\\n- 包含两个主要函数：`binary_search` 和 `ok`\\n- 处理输入的字符串和相关参数\\n\\n2. **关键函数分析**：\\n```python\\ndef binary_search(c1, c2):\\n    # 标准的二分查找实现\\n    # 通过调用 ok() 函数来验证中间值是否满足条件\\n    # ... 代码省略 ...\\n    return m - 1\\n\\ndef ok(m):\\n    # 复杂的验证函数\\n    # 使用动态规划检查给定长度 m 是否满足条件\\n    # ... 代码省略 ...\\n    return True if dp[-1] ^ inf else False\\n```\\n\\n3. **主要数据结构**：\\n```python\\n# 2的幂次表\\npow2 = [1]\\nfor _ in range(k):\\n    pow2.append(2 * pow2[-1])\\n\\n# DP数组和辅助数组\\nx = [[inf] * (n + 1) for _ in range(k)]\\n```\\n\\n这段代码的一些潜在改进建议：\\n\\n1. 代码可读性：\\n- 添加更多的注释来解释算法逻辑\\n- 使用更有意义的变量名（如 `s0`, `si`, `u`, `v` 等可以更具描述性）\\n\\n2. 性能优化：\\n- `ok` 函数中的嵌套循环可能在大规模输入时性能较差\\n- 可以考虑使用更优的数据结构来优化空间复杂度\\n\\n3. 安全性：\\n- 需要添加输入验证\\n- 对于大数据输入可能需要考虑内存限制\\n\\n4. 代码风格：\\n- 可以遵循 PEP 8 规范\\n- 建议添加类型提示以提高代码可维护性',\n",
       "  'vulnerability_analysis': '经过分析，这段代码存在以下潜在安全问题：\\n\\n```json\\n[\\n    {\\n        \"CWE_Type\": \"CWE-20\",\\n        \"CWE_Code\": \"n, k = map(int, input().split())\\\\ns = list(input().rstrip())\",\\n        \"CWE_Description\": \"代码没有对输入参数n和k进行有效性验证，可能导致程序在接收到非预期输入时崩溃或产生未定义行为\"\\n    },\\n    {\\n        \"CWE_Type\": \"CWE-125\",\\n        \"CWE_Code\": \"for i in range(n - 1, n - m, -1):\\\\n    si = s[i] - 97\\\\n    if si >= 0:\",\\n        \"CWE_Description\": \"在ok函数中，对数组s的访问没有进行边界检查，当m值过大时可能导致数组越界读取\"\\n    },\\n    {\\n        \"CWE_Type\": \"CWE-787\",\\n        \"CWE_Code\": \"c[si] += 1\",\\n        \"CWE_Description\": \"在ok函数中，si的值（s[i] - 97）没有上界检查，可能导致数组c的越界写入\"\\n    }\\n]\\n```\\n\\n这些安全问题都是比较严重的，建议：\\n1. 添加输入参数的合法性检查\\n2. 增加数组访问的边界检查\\n3. 对字符ASCII值的计算结果进行范围验证\\n\\n这些修改可以显著提高代码的安全性和稳定性。',\n",
       "  'repaired_code': '```json\\n[\\n    {\\n        \"repair_code\": \"\"\"import sys, os, io\\ninput = io.BytesIO(os.read(0, os.fstat(0).st_size)).readline\\n\\ndef binary_search(c1, c2):\\n    if not (0 <= c1 <= c2):  # 参数验证\\n        raise ValueError(\"Invalid binary search range\")\\n    m = (c1 + c2 + 1) // 2\\n    while abs(c1 - c2) > 1:\\n        m = (c1 + c2 + 1) // 2\\n        if ok(m):\\n            c1 = m\\n        else:\\n            c2 = m\\n    m = max(m - 1, 1)\\n    while ok(m):\\n        m += 1\\n    return m - 1\\n\\ndef ok(m):\\n    if m > n:  # 验证m的合法性\\n        return False\\n        \\n    c = [0] * k\\n    s0 = 0\\n    \\n    # 验证字符的ASCII范围\\n    for char in s:\\n        if not (97 <= ord(char) <= 122) and char != \\'.\\':\\n            raise ValueError(\"Invalid character in input string\")\\n    \\n    for i in range(n - 1, n - m, -1):\\n        if i < 0:  # 边界检查\\n            break\\n        si = ord(s[i]) - 97\\n        if 0 <= si < k:  # 确保索引在合法范围内\\n            c[si] += 1\\n            s0 += 1\\n            \\n    for i in range(n - m, -1, -1):\\n        si = ord(s[i]) - 97\\n        if 0 <= si < k:\\n            c[si] += 1\\n            s0 += 1\\n        u = i + m - 1\\n        if u >= n:  # 边界检查\\n            continue\\n        for j in range(k):\\n            if not c[j] ^ s0:\\n                x[j][i] = i\\n            else:\\n                x[j][i] = x[j][i + 1]\\n        su = ord(s[u]) - 97\\n        if 0 <= su < k:\\n            c[su] -= 1\\n            s0 -= 1\\n            \\n    dp = [inf] * l\\n    dp[0] = 0\\n    for i in range(l):\\n        dpi = dp[i]\\n        if dpi >= n:\\n            continue\\n        for j in range(k):\\n            if i & pow2[j]:\\n                continue\\n            u = x[j][dpi]\\n            v = i ^ pow2[j]\\n            dp[v] = min(dp[v], u + m)\\n    return True if dp[-1] != inf else False\\n\\n# 输入验证\\ntry:\\n    n, k = map(int, input().split())\\n    if not (1 <= n <= 10**5 and 1 <= k <= 20):\\n        raise ValueError(\"Input parameters out of valid range\")\\n        \\n    s = list(input().rstrip())\\n    if len(s) != n:\\n        raise ValueError(\"String length does not match n\")\\n        \\n    pow2 = [1]\\n    for _ in range(k):\\n        pow2.append(2 * pow2[-1])\\n    inf = pow(10, 9) + 1\\n    l = pow2[k]\\n    x = [[inf] * (n + 1) for _ in range(k)]\\n    ans = binary_search(0, n // k + 1)\\n    print(ans)\\n    \\nexcept (ValueError, IndexError) as e:\\n    print(f\"Error: {e}\")\\n    sys.exit(1)\"\"\",\\n        \"repair_method\": \"1. 添加输入参数n和k的范围验证 2. 增加字符串长度和字符合法性检查 3. 在数组访问前添加边界检查 4. 对ASCII值计算结果添加范围验证 5. 使用异常处理机制处理错误情况\"\\n    }\\n]\\n```'},\n",
       " 'gemini1.5-pro-latest': {'function_description': '该代码实现了一个字符串划分算法，在满足特定条件下，找到字符串的最长划分长度。 \\n',\n",
       "  'vulnerability_analysis': \"```json\\n[\\n  {\\n    'CWE_Type': 'CWE-787',\\n    'CWE_Code': 'for i in range(n - 1, n - m, -1):\\\\n        si = s[i] - 97\\\\n        if si >= 0:\\\\n            c[si] += 1\\\\n            s0 += 1',\\n    'CWE_Description': '代码中存在越界写入的风险，当 `n - m` 小于 0 时，`i` 会小于 0，导致数组 `s` 越界访问。'\\n  },\\n  {\\n    'CWE_Type': 'CWE-787',\\n    'CWE_Code': 'for i in range(n - m, -1, -1):\\\\n        si = s[i] - 97\\\\n        if si >= 0:\\\\n            c[si] += 1\\\\n            s0 += 1',\\n    'CWE_Description': '代码中存在越界写入的风险，当 `n - m` 小于 0 时，`i` 会小于 0，导致数组 `s` 越界访问。'\\n  },\\n  {\\n    'CWE_Type': 'CWE-787',\\n    'CWE_Code': 'for j in range(k):\\\\n            if not c[j] ^ s0:\\\\n                x[j][i] = i\\\\n            else:\\\\n                x[j][i] = x[j][i + 1]',\\n    'CWE_Description': '代码中存在越界写入的风险，当 `i + 1` 大于 `n + 1` 时，`x[j][i + 1]` 会越界访问。'\\n  },\\n  {\\n    'CWE_Type': 'CWE-787',\\n    'CWE_Code': 'for j in range(k):\\\\n            if i & pow2[j]:\\\\n                continue\\\\n            u = x[j][dpi]\\\\n            v = i ^ pow2[j]\\\\n            dp[v] = min(dp[v], u + m)',\\n    'CWE_Description': '代码中存在越界写入的风险，当 `v` 大于 `l` 时，`dp[v]` 会越界访问。'\\n  }\\n]\\n```\\n\\n**解释:**\\n\\n- 代码中存在多个潜在的越界写入漏洞 (CWE-787)。\\n- 在 `ok()` 函数中的循环语句中，存在对数组 `s` 和 `x` 的越界访问风险，当 `n - m` 小于 0 或 `i + 1` 大于 `n + 1` 时。\\n- 在 `ok()` 函数的最后循环中，当 `v` 大于 `l` 时，可能导致对 `dp` 数组的越界访问。\\n\\n**修复建议:**\\n\\n- 在循环开始前添加必要的边界检查，确保访问的索引不会超出数组的范围。\\n- 使用更加安全的编程实践，例如使用安全的容器类或者使用边界检查函数来避免越界访问。\\n\",\n",
       "  'repaired_code': \"```json\\n[\\n    {\\n        'repair_code': 'import sys, os, io\\\\ninput = io.BytesIO(os.read(0, os.fstat(0).st_size)).readline\\\\n\\\\ndef binary_search(c1, c2):\\\\n    m = (c1 + c2 + 1) // 2\\\\n    while abs(c1 - c2) > 1:\\\\n        m = (c1 + c2 + 1) // 2\\\\n        if ok(m):\\\\n            c1 = m\\\\n        else:\\\\n            c2 = m\\\\n    m = max(m - 1, 1)\\\\n    while ok(m):\\\\n        m += 1\\\\n    return m - 1\\\\n\\\\ndef ok(m):\\\\n    c = [0] * k\\\\n    s0 = 0\\\\n    if m > n:  # 添加边界检查\\\\n        return False\\\\n    for i in range(n - 1, n - m, -1):\\\\n        if i < 0:  # 添加边界检查\\\\n            break\\\\n        si = s[i] - 97\\\\n        if si >= 0:\\\\n            c[si] += 1\\\\n            s0 += 1\\\\n    for i in range(n - m, -1, -1):\\\\n        if i < 0:  # 添加边界检查\\\\n            break\\\\n        si = s[i] - 97\\\\n        if si >= 0:\\\\n            c[si] += 1\\\\n            s0 += 1\\\\n        u = i + m - 1\\\\n        if u >= n:  # 添加边界检查\\\\n            break\\\\n        for j in range(k):\\\\n            if not c[j] ^ s0:\\\\n                x[j][i] = i\\\\n            else:\\\\n                x[j][i] = x[j][i + 1] if i + 1 <= n else inf  # 修复越界访问\\\\n        su = s[u] - 97\\\\n        if su >= 0:\\\\n            c[su] -= 1\\\\n            s0 -= 1\\\\n    dp = [inf] * l\\\\n    dp[0] = 0\\\\n    for i in range(l):\\\\n        dpi = dp[i]\\\\n        if dpi >= n:\\\\n            continue\\\\n        for j in range(k):\\\\n            if i & pow2[j]:\\\\n                continue\\\\n            u = x[j][dpi]\\\\n            v = i ^ pow2[j]\\\\n            if v < l:  # 添加边界检查\\\\n                dp[v] = min(dp[v], u + m)\\\\n    return True if dp[-1] ^ inf else False\\\\n\\\\nn, k = map(int, input().split())\\\\ns = list(input().rstrip())\\\\npow2 = [1]\\\\nfor _ in range(k):\\\\n    pow2.append(2 * pow2[-1])\\\\ninf = pow(10, 9) + 1\\\\nl = pow2[k]\\\\nx = [[inf] * (n + 1) for _ in range(k)]\\\\nans = binary_search(0, n // k + 1)\\\\nprint(ans)',\\n        'repair_method': '在循环和条件判断中添加了边界检查，确保索引不会越界访问数组。'\\n    }\\n]\\n```\"},\n",
       " 'yi-lightning': {'function_description': '实现二分搜索以寻找满足条件的最大值，涉及字符统计与动态规划。\\n\\nCWE-129: 未对数组索引进行正确验证（`x[j][i]`, `x[j][i + 1]`等）。\\nCWE-682: 不准确的数值运算（`m - 1`, `m + 1`等潜在溢出）。\\nCWE-476: 空指针解引用风险（`ok`函数内`c[si]`可能越界）。',\n",
       "  'vulnerability_analysis': \"```plaintext\\n[\\n   {'CWE_Type':'CWE-129','CWE_Code':'x[j][i]','CWE_Description':'未对数组索引进行正确验证，可能导致越界访问。'},\\n   \\n   {'CWE_Type':'CWE-125','CWE_Code':'s[i] / s[u]','CWE_Description':'在访问数组元素时可能导致越界读取。'},\\n   \\n   {'CWE_Type':'CWE-20','CWE_Code':'ok(m)','CWE_Description':'对输入参数m的验证不充分，可能导致逻辑错误。'},\\n   \\n   {'CWE_Type':'CWE-416','CWE_Code':'c[si] -= 1 / c[si] += 1','CWE_Description':'对已释放或无效内存的操作可能导致使用后释放（Use After Free）。'}\\n]\\n```\",\n",
       "  'repaired_code': \"```plaintext\\n[\\n    {\\n        'repair_code': '''import sys, os, io\\ninput = io.BytesIO(os.read(0, os.fstat(0).st_size)).readline\\n\\ndef binary_search(c1, c2):\\n    m = (c1 + c2 + 1) // 2\\n    while abs(c1 - c2) > 1:\\n        m = (c1 + c2 + 1) // 2\\n        if ok(m):\\n            c1 = m\\n        else:\\n            c2 = m\\n    m = max(m - 1, 1)\\n    while ok(m):\\n        m += 1\\n    return m - 1\\n\\ndef ok(m):\\n    # 添加边界检查，确保索引不会越界\\n    if m > n or m < 0:\\n        return False\\n    \\n    c = [0] * k\\n    s0 = 0\\n    for i in range(n - 1, n - m, -1):\\n        si = s[i] - 97\\n        if 0 <= si < k:  # 检查数组索引是否在有效范围内\\n            c[si] += 1\\n            s0 += 1\\n    for i in range(n - m, -1, -1):\\n        si = s[i] - 97\\n        if 0 <= si < k:  # 检查数组索引是否在有效范围内\\n            c[si] += 1\\n            s0 += 1\\n        u = i + m - 1\\n        for j in range(k):\\n            if 0 <= j < k and 0 <= i < n:  # 检查二维数组索引是否在有效范围内\\n                if not c[j] ^ s0:\\n                    x[j][i] = i\\n                else:\\n                    x[j][i] = x[j][i + 1]\\n        su = s[u] - 97\\n        if 0 <= su < k:  # 检查数组索引是否在有效范围内\\n            c[su] -= 1\\n            s0 -= 1\\n    dp = [inf] * l\\n    dp[0] = 0\\n    for i in range(l):\\n        dpi = dp[i]\\n        if dpi < n:  # 添加检查，防止越界访问\\n            for j in range(k):\\n                if i & pow2[j]:\\n                    continue\\n                u = x[j][dpi]\\n                v = i ^ pow2[j]\\n                dp[v] = min(dp[v], u + m)\\n    return dp[-1] != inf\\n\\nn, k = map(int, input().split())\\ns = list(input().rstrip())\\npow2 = [1]\\nfor _ in range(k):\\n    pow2.append(2 * pow2[-1])\\ninf = 10**9 + 1\\nl = pow2[k]\\nx = [[inf] * (n + 1) for _ in range(k)]\\nans = binary_search(0, n // k + 1)\\nprint(ans)''',\\n        'repair_method': '通过添加数组索引的边界检查，确保访问数组元素时不会越界，修复了CWE-129和CWE-125类型的漏洞。同时对ok函数的输入参数进行了有效性验证，修复了CWE-20和CWE-416类型的漏洞。'\\n    }\\n]\\n```\"},\n",
       " 'source': 'Python_461356.json'}"
      ]
     },
     "execution_count": 9,
     "metadata": {},
     "output_type": "execute_result"
    }
   ],
   "source": [
    "summary[0]"
   ]
  },
  {
   "cell_type": "code",
   "execution_count": null,
   "metadata": {},
   "outputs": [],
   "source": [
    "with open('./DataAnnotation/small_sample_output_dir/split0_output_summary_five_models.json', 'w') as f:\n",
    "    json.dump(summary, f, indent=4, ensure_ascii=False)"
   ]
  },
  {
   "cell_type": "markdown",
   "metadata": {},
   "source": [
    "Kappa系数计算"
   ]
  },
  {
   "cell_type": "code",
   "execution_count": 49,
   "metadata": {},
   "outputs": [
    {
     "name": "stdout",
     "output_type": "stream",
     "text": [
      "Warning: Could not clean text properly\n"
     ]
    },
    {
     "data": {
      "text/plain": [
       "\"[\\n  {\\n    'CWE_Type': 'CWE-787',\\n    'CWE_Code': 'for i in range(n - 1, n - m, -1):\\\\n        si = s[i] - 97\\\\n        if si >= 0:\\\\n            c[si] += 1\\\\n            s0 += 1',\\n    'CWE_Description': '代码中存在越界写入的风险，当 `n - m` 小于 0 时，`i` 会小于 0，导致数组 `s` 越界访问。'\\n  },\\n  {\\n    'CWE_Type': 'CWE-787',\\n    'CWE_Code': 'for i in range(n - m, -1, -1):\\\\n        si = s[i] - 97\\\\n        if si >= 0:\\\\n            c[si] += 1\\\\n            s0 += 1',\\n    'CWE_Description': '代码中存在越界写入的风险，当 `n - m` 小于 0 时，`i` 会小于 0，导致数组 `s` 越界访问。'\\n  },\\n  {\\n    'CWE_Type': 'CWE-787',\\n    'CWE_Code': 'for j in range(k):\\\\n            if not c[j] ^ s0:\\\\n                x[j][i] = i\\\\n            else:\\\\n                x[j][i] = x[j][i + 1]',\\n    'CWE_Description': '代码中存在越界写入的风险，当 `i + 1` 大于 `n + 1` 时，`x[j][i + 1]` 会越界访问。'\\n  },\\n  {\\n    'CWE_Type': 'CWE-787',\\n    'CWE_Code': 'for j in range(k):\\\\n            if i & pow2[j]:\\\\n                continue\\\\n            u = x[j][dpi]\\\\n            v = i ^ pow2[j]\\\\n            dp[v] = min(dp[v], u + m)',\\n    'CWE_Description': '代码中存在越界写入的风险，当 `v` 大于 `l` 时，`dp[v]` 会越界访问。'\\n  }\\n]\\n\\n**解释:**\\n\\n- 代码中存在多个潜在的越界写入漏洞 (CWE-787)。\\n- 在 `ok()` 函数中的循环语句中，存在对数组 `s` 和 `x` 的越界访问风险，当 `n - m` 小于 0 或 `i + 1` 大于 `n + 1` 时。\\n- 在 `ok()` 函数的最后循环中，当 `v` 大于 `l` 时，可能导致对 `dp` 数组的越界访问。\\n\\n**修复建议:**\\n\\n- 在循环开始前添加必要的边界检查，确保访问的索引不会超出数组的范围。\\n- 使用更加安全的编程实践，例如使用安全的容器类或者使用边界检查函数来避免越界访问。\\n\""
      ]
     },
     "execution_count": 49,
     "metadata": {},
     "output_type": "execute_result"
    }
   ],
   "source": [
    "# gemini问题太大\n",
    "import re\n",
    "def clean_vulnerability_analysis_gemini(text):\n",
    "    # 尝试查找JSON数组格式的内容\n",
    "    try:\n",
    "        # 使用正则表达式找到看起来像JSON数组的部分\n",
    "        # 匹配包含CWE_Type的数组结构\n",
    "        pattern = r'\\[\\s*{[^}]*\"CWE_Type\"[^}]*}(?:\\s*,\\s*{[^}]*\"CWE_Type\"[^}]*})*\\s*\\]'\n",
    "        matches = re.findall(pattern, text)\n",
    "        \n",
    "        if matches:\n",
    "            # 取第一个匹配的结果\n",
    "            json_text = matches[0]\n",
    "            # 尝试解析确保是有效的JSON\n",
    "            json.loads(json_text.replace(\"'\", '\"'))  # 将单引号替换为双引号\n",
    "            return json_text\n",
    "            \n",
    "        # 如果上面的方法失败，尝试直接eval\n",
    "        text = text.replace('```json\\n', '').replace('\\n```', '')\n",
    "        eval(text)  # 验证是否可以被eval解析\n",
    "        return text\n",
    "        \n",
    "    except:\n",
    "        print(f\"Warning: Could not clean text properly\")\n",
    "        return text\n",
    "clean_vulnerability_analysis_gemini(data[0]['gemini1.5-pro-latest']['vulnerability_analysis'])"
   ]
  },
  {
   "cell_type": "code",
   "execution_count": null,
   "metadata": {},
   "outputs": [
    {
     "data": {
      "text/plain": [
       "{'function_description': '测试 Netty 的 SSL 事件触发和处理流程的行为。',\n",
       " 'vulnerability_analysis': None,\n",
       " 'repaired_code': None}"
      ]
     },
     "execution_count": 48,
     "metadata": {},
     "output_type": "execute_result"
    }
   ],
   "source": [
    "with open('./DataAnnotation/small_sample_output_dir/split0_output_summary.json', 'r') as f:\n",
    "    data = json.load(f)\n",
    "data[2]['gpt4o']"
   ]
  },
  {
   "cell_type": "markdown",
   "metadata": {},
   "source": [
    "  'vulnerability_analysis': '```json\\n[\\n  {\\n    \"CWE_Type\": \"CWE-416\",\\n    \"CWE_Code\": \"assertTrue(channel.finishAndReleaseAll());\\\\n    io.netty.handler.ssl.SslCompletionEvent evt = events.take();\",\\n    \"CWE_Description\": \"代码中使用`finishAndReleaseAll()`方法关闭了通道并释放了所有资源，之后又调用`events.take()`尝试从队列中获取事件。由于通道已经关闭，队列中可能没有事件，导致出现`take()`方法阻塞或抛出异常，从而引发潜在的内存泄漏或死锁问题。\"\\n  }\\n]\\n``` \\n',\n",
    "\n",
    "\n",
    "  'vulnerability_analysis': '在代码审查后，我发现以下潜在安全问题：\\n\\n```json\\n[\\n    {\\n        \"CWE_Type\": \"CWE-20\",\\n        \"CWE_Code\": \"javax.net.ssl.SSLEngine engine = javax.net.ssl.SSLContext.getDefault().createSSLEngine();\",\\n        \"CWE_Description\": \"使用默认SSL上下文可能导致不安全的SSL/TLS配置。应该明确指定SSL协议版本和密码套件，以避免使用不安全的默认配置。\"\\n    },\\n    {\\n        \"CWE_Type\": \"CWE-755\",\\n        \"CWE_Code\": \"events.take();\",\\n        \"CWE_Description\": \"使用BlockingQueue.take()方法时没有设置超时限制，可能导致线程永久阻塞。虽然测试方法有timeout注解，但最佳实践是为阻塞操作设置明确的超时时间。\"\\n    }\\n]\\n```\\n\\n这些问题虽然在测试代码中影响可能较小，但在生产环境中应该注意避免。建议：\\n\\n1. 明确配置SSLContext，指定安全的协议版本和密码套件\\n2. 使用poll(timeout, unit)替代take()，为阻塞操作设置合理的超时时间',\n"
   ]
  },
  {
   "cell_type": "code",
   "execution_count": 46,
   "metadata": {},
   "outputs": [],
   "source": [
    "data[2]['gpt4o']['vulnerability_analysis']"
   ]
  },
  {
   "cell_type": "code",
   "execution_count": 70,
   "metadata": {},
   "outputs": [
    {
     "data": {
      "text/plain": [
       "[{'CWE_Type': 'CWE-20',\n",
       "  'CWE_Code': 't = int(input())',\n",
       "  'CWE_Description': '输入未经过验证，如果传入非整数或恶意输入，可能导致程序崩溃。'},\n",
       " {'CWE_Type': 'CWE-20',\n",
       "  'CWE_Code': 'n, m = map(int,input().split())',\n",
       "  'CWE_Description': '输入未经过验证，如果传入非数字或不符合格式的输入，可能导致程序异常。'},\n",
       " {'CWE_Type': 'CWE-125',\n",
       "  'CWE_Code': 'while(a[l[-1]]==\\\\',\n",
       "  'CWE_Description': '存在数组越界读取的风险，当l[-1]小于数组索引范围时，a[l[-1]]访问会导致越界读取。'},\n",
       " {'CWE_Type': 'CWE-787',\n",
       "  'CWE_Code': 'for j in range(l[-1]+1,l[-1]+1+(n-1-l[-1]-tmp2)): a[j]=\"1\"',\n",
       "  'CWE_Description': '存在数组越界写入的风险，当j值超出a数组的范围时，可能修改不属于数组的内存区域。'}]"
      ]
     },
     "execution_count": 70,
     "metadata": {},
     "output_type": "execute_result"
    }
   ],
   "source": [
    "# 最终使用的析出CWE格式的数据\n",
    "def clean_vulnerability_analysis(text):\n",
    "    # print(text)\n",
    "    CWE_Type_pattern = re.compile(r'\"CWE_Type\":\\s*\"([^\"]+)\"')\n",
    "    CWE_Type = CWE_Type_pattern.findall(text)\n",
    "    if not CWE_Type:\n",
    "        CWE_Type_pattern = re.compile(r\"'CWE_Type':\\s*'([^']+)'\")\n",
    "        CWE_Type = CWE_Type_pattern.findall(text)\n",
    "    CWE_Code_pattern = re.compile(r'\"CWE_Code\":\\s*\"([^\"]+)\"')\n",
    "    CWE_Code = CWE_Code_pattern.findall(text)\n",
    "    if not CWE_Code:\n",
    "        CWE_Code_pattern = re.compile(r\"'CWE_Code':\\s*'([^']+)'\")\n",
    "        CWE_Code = CWE_Code_pattern.findall(text)\n",
    "    CWE_Description_pattern = re.compile(r'\"CWE_Description\":\\s*\"([^\"]+)\"')\n",
    "    CWE_description = CWE_Description_pattern.findall(text)\n",
    "    if not CWE_description:\n",
    "        CWE_Description_pattern = re.compile(r\"'CWE_Description':\\s*'([^']+)'\")\n",
    "        CWE_description = CWE_Description_pattern.findall(text)\n",
    "    formatted_json_list = []\n",
    "    for index in range(len(CWE_description)):\n",
    "        js = {\n",
    "            \"CWE_Type\": CWE_Type[index],\n",
    "            \"CWE_Code\": CWE_Code[index],\n",
    "            \"CWE_Description\": CWE_description[index]\n",
    "        }\n",
    "        formatted_json_list.append(js)\n",
    "    return formatted_json_list\n",
    "clean_vulnerability_analysis(data[3]['gpt4o']['vulnerability_analysis'])"
   ]
  },
  {
   "cell_type": "code",
   "execution_count": 84,
   "metadata": {},
   "outputs": [
    {
     "data": {
      "text/plain": [
       "({'CWE-476'}, set(), set(), {'CWE-125', 'CWE-20'})"
      ]
     },
     "execution_count": 84,
     "metadata": {},
     "output_type": "execute_result"
    }
   ],
   "source": [
    "def extract_cwe_types(model_output):\n",
    "    cwe_types = set()\n",
    "    try:\n",
    "        json_list = clean_vulnerability_analysis(model_output['vulnerability_analysis'])\n",
    "        for item in json_list:\n",
    "            cwe_types.add(item['CWE_Type'])\n",
    "    except:\n",
    "        pass\n",
    "    return cwe_types\n",
    "\n",
    "index = 1\n",
    "extract_cwe_types(data[index]['gpt4o']), extract_cwe_types(data[index]['deepseekv3']), extract_cwe_types(data[index]['claude3.5-1022']), extract_cwe_types(data[index]['gemini1.5-pro-latest'])"
   ]
  },
  {
   "cell_type": "code",
   "execution_count": 131,
   "metadata": {},
   "outputs": [
    {
     "name": "stdout",
     "output_type": "stream",
     "text": [
      "['gpt4o', 'deepseekv3', 'claude3.5-1022', 'gemini1.5-pro-latest']Average Fleiss's Kappa coefficient: -0.14427184764243856\n"
     ]
    }
   ],
   "source": [
    "import numpy as np\n",
    "from statsmodels.stats.inter_rater import fleiss_kappa\n",
    "\n",
    "def calculate_fleiss_kappa(models,data):\n",
    "    # models = ['gpt4o', 'deepseekv3', 'claude3.5-1022', 'gemini1.5-pro-latest']\n",
    "\n",
    "    annotations = []\n",
    "\n",
    "    for model in models:\n",
    "        if model in data:\n",
    "            annotations.append(extract_cwe_types(data[model]))\n",
    "    annotations = [list(annotation) for annotation in annotations]\n",
    "    all_cwe_types = [\n",
    "        \"CWE-787\", \"CWE-79\", \"CWE-89\", \"CWE-416\", \"CWE-78\",\n",
    "        \"CWE-20\", \"CWE-125\", \"CWE-22\", \"CWE-352\", \"CWE-434\",\n",
    "        \"CWE-other\", \"\"\n",
    "    ]\n",
    "    # print(annotations)\n",
    "    # 创建评分矩阵\n",
    "    category_matrix = np.zeros((len(models), len(all_cwe_types)))\n",
    "    # print(category_matrix)\n",
    "    for i, annotation in enumerate(annotations):\n",
    "        if annotation == []:\n",
    "            category_matrix[i][-1] += 1\n",
    "        for cwe in annotation:\n",
    "            if cwe in all_cwe_types:\n",
    "                category_matrix[i][all_cwe_types.index(cwe)] += 1\n",
    "    \n",
    "    # print(category_matrix)\n",
    "    n_raters = len(models)\n",
    "    for i in range(category_matrix.shape[0]):\n",
    "        if np.sum(category_matrix[i]) < n_raters:\n",
    "            category_matrix[i][-1] += n_raters - np.sum(category_matrix[i])\n",
    "\n",
    "    # 使用 statsmodels 计算 Fleiss's Kappa\n",
    "    kappa = fleiss_kappa(category_matrix, method='fleiss')\n",
    "    return kappa\n",
    "\n",
    "\n",
    "\n",
    "# calculate_fleiss_kappa(data[31])\n",
    "sum_kappa = 0\n",
    "count = 0\n",
    "models  = ['gpt4o', 'deepseekv3', 'claude3.5-1022', 'gemini1.5-pro-latest']\n",
    "\n",
    "for index in range(len(data)):\n",
    "    try:\n",
    "        kappa = calculate_fleiss_kappa(models,data[index])\n",
    "        data[index]['kappa'] = kappa\n",
    "        if not np.isnan(kappa):\n",
    "            sum_kappa += kappa\n",
    "            count += 1\n",
    "    except:\n",
    "        continue\n",
    "\n",
    "if count > 0:\n",
    "    average_kappa = sum_kappa / count\n",
    "else:\n",
    "    average_kappa = np.nan\n",
    "\n",
    "print(f\"{models}Average Fleiss's Kappa coefficient: {average_kappa}\")"
   ]
  },
  {
   "cell_type": "code",
   "execution_count": 134,
   "metadata": {},
   "outputs": [
    {
     "name": "stdout",
     "output_type": "stream",
     "text": [
      "('gpt4o', 'deepseekv3') Average Fleiss's Kappa coefficient: -0.6684710351377012\n",
      "('gpt4o', 'claude3.5-1022') Average Fleiss's Kappa coefficient: -0.3220870186723837\n",
      "('gpt4o', 'gemini1.5-pro-latest') Average Fleiss's Kappa coefficient: -0.5119710555293371\n",
      "('deepseekv3', 'claude3.5-1022') Average Fleiss's Kappa coefficient: -0.29659315043930357\n",
      "('deepseekv3', 'gemini1.5-pro-latest') Average Fleiss's Kappa coefficient: -0.47979964042956136\n",
      "('claude3.5-1022', 'gemini1.5-pro-latest') Average Fleiss's Kappa coefficient: -0.32901484480431736\n",
      "('gpt4o', 'deepseekv3', 'claude3.5-1022') Average Fleiss's Kappa coefficient: -0.21546116761832887\n",
      "('gpt4o', 'deepseekv3', 'gemini1.5-pro-latest') Average Fleiss's Kappa coefficient: -0.2562690066568809\n",
      "('gpt4o', 'claude3.5-1022', 'gemini1.5-pro-latest') Average Fleiss's Kappa coefficient: -0.17579831906709723\n",
      "('deepseekv3', 'claude3.5-1022', 'gemini1.5-pro-latest') Average Fleiss's Kappa coefficient: -0.17549285204821072\n",
      "('gpt4o', 'deepseekv3', 'claude3.5-1022', 'gemini1.5-pro-latest') Average Fleiss's Kappa coefficient: -0.14427184764243856\n"
     ]
    }
   ],
   "source": [
    "import numpy as np\n",
    "from itertools import combinations\n",
    "from statsmodels.stats.inter_rater import fleiss_kappa\n",
    "\n",
    "def calculate_fleiss_kappa(models, data):\n",
    "    annotations = []\n",
    "    for model in models:\n",
    "        if model in data:\n",
    "            annotations.append(extract_cwe_types(data[model]))\n",
    "    annotations = [list(annotation) for annotation in annotations]\n",
    "    all_cwe_types = [\n",
    "        \"CWE-787\", \"CWE-79\", \"CWE-89\", \"CWE-416\", \"CWE-78\",\n",
    "        \"CWE-20\", \"CWE-125\", \"CWE-22\", \"CWE-352\", \"CWE-434\",\n",
    "        \"CWE-other\", \"\"\n",
    "    ]\n",
    "    category_matrix = np.zeros((len(annotations), len(all_cwe_types)))\n",
    "    for i, annotation in enumerate(annotations):\n",
    "        if annotation == []:\n",
    "            category_matrix[i][-1] += 1\n",
    "        for cwe in annotation:\n",
    "            if cwe in all_cwe_types:\n",
    "                category_matrix[i][all_cwe_types.index(cwe)] += 1\n",
    "    \n",
    "    n_raters = len(models)\n",
    "    for i in range(category_matrix.shape[0]):\n",
    "        if np.sum(category_matrix[i]) < n_raters:\n",
    "            category_matrix[i][-1] += n_raters - np.sum(category_matrix[i])\n",
    "    \n",
    "    kappa = fleiss_kappa(category_matrix, method='fleiss')\n",
    "    return kappa\n",
    "\n",
    "models = ['gpt4o', 'deepseekv3', 'claude3.5-1022', 'gemini1.5-pro-latest']\n",
    "all_combinations = []\n",
    "\n",
    "for r in range(2, len(models) + 1):\n",
    "    all_combinations.extend(combinations(models, r))\n",
    "\n",
    "for model_combination in all_combinations:\n",
    "    combination_kappa_sum = 0\n",
    "    combination_count = 0\n",
    "    for index in range(len(data)):\n",
    "        try:\n",
    "            kappa = calculate_fleiss_kappa(model_combination, data[index])\n",
    "            data[index]['kappa'] = kappa\n",
    "            if not np.isnan(kappa):\n",
    "                combination_kappa_sum += kappa\n",
    "                combination_count += 1\n",
    "        except:\n",
    "            continue\n",
    "    if combination_count > 0:\n",
    "        average_kappa = combination_kappa_sum / combination_count\n",
    "    else:\n",
    "        average_kappa = np.nan\n",
    "    print(f\"{model_combination} Average Fleiss's Kappa coefficient: {average_kappa}\")"
   ]
  },
  {
   "cell_type": "code",
   "execution_count": 112,
   "metadata": {},
   "outputs": [
    {
     "data": {
      "text/plain": [
       "{'question': 'import sys, os, io\\r\\ninput = io.BytesIO(os.read(0, os.fstat(0).st_size)).readline\\r\\n\\r\\ndef binary_search(c1, c2):\\r\\n    m = (c1 + c2 + 1) // 2\\r\\n    while abs(c1 - c2) > 1:\\r\\n        m = (c1 + c2 + 1) // 2\\r\\n        if ok(m):\\r\\n            c1 = m\\r\\n        else:\\r\\n            c2 = m\\r\\n    m = max(m - 1, 1)\\r\\n    while ok(m):\\r\\n        m += 1\\r\\n    return m - 1\\r\\n\\r\\ndef ok(m):\\r\\n    c = [0] * k\\r\\n    s0 = 0\\r\\n    for i in range(n - 1, n - m, -1):\\r\\n        si = s[i] - 97\\r\\n        if si >= 0:\\r\\n            c[si] += 1\\r\\n            s0 += 1\\r\\n    for i in range(n - m, -1, -1):\\r\\n        si = s[i] - 97\\r\\n        if si >= 0:\\r\\n            c[si] += 1\\r\\n            s0 += 1\\r\\n        u = i + m - 1\\r\\n        for j in range(k):\\r\\n            if not c[j] ^ s0:\\r\\n                x[j][i] = i\\r\\n            else:\\r\\n                x[j][i] = x[j][i + 1]\\r\\n        su = s[u] - 97\\r\\n        if su >= 0:\\r\\n            c[su] -= 1\\r\\n            s0 -= 1\\r\\n    dp = [inf] * l\\r\\n    dp[0] = 0\\r\\n    for i in range(l):\\r\\n        dpi = dp[i]\\r\\n        if dpi >= n:\\r\\n            continue\\r\\n        for j in range(k):\\r\\n            if i & pow2[j]:\\r\\n                continue\\r\\n            u = x[j][dpi]\\r\\n            v = i ^ pow2[j]\\r\\n            dp[v] = min(dp[v], u + m)\\r\\n    return True if dp[-1] ^ inf else False\\r\\n\\r\\nn, k = map(int, input().split())\\r\\ns = list(input().rstrip())\\r\\npow2 = [1]\\r\\nfor _ in range(k):\\r\\n    pow2.append(2 * pow2[-1])\\r\\ninf = pow(10, 9) + 1\\r\\nl = pow2[k]\\r\\nx = [[inf] * (n + 1) for _ in range(k)]\\r\\nans = binary_search(0, n // k + 1)\\r\\nprint(ans)',\n",
       " 'gpt4o': {'function_description': '该代码功能：在特定条件下进行分组优化的二分搜索。',\n",
       "  'vulnerability_analysis': \"[\\n   {'CWE_Type':'CWE-20', 'CWE_Code':'n, k = map(int, input().split())', 'CWE_Description':'未对输入的范围和合法性进行验证，可能导致异常或未定义行为。'},\\n\\n   {'CWE_Type':'CWE-125', 'CWE_Code':'for i in range(n - 1, n - m, -1):\\\\n        si = s[i] - 97', 'CWE_Description':'在对`s`数组访问时，未检查`n - m`是否可能小于0，可能导致数组越界读取。'},\\n\\n   {'CWE_Type':'CWE-125', 'CWE_Code':'for i in range(n - m, -1, -1):\\\\n        si = s[i] - 97', 'CWE_Description':'在对`s`数组访问时，未检查`n - m`是否有效，可能导致越界读取。'},\\n\\n   {'CWE_Type':'CWE-787', 'CWE_Code':'x[j][i] = i\\\\nx[j][i] = x[j][i + 1]', 'CWE_Description':'数组`x`的索引未检查`i + 1`是否越界，可能导致越界写入。'},\\n\\n   {'CWE_Type':'CWE-20', 'CWE_Code':'s = list(input().rstrip())', 'CWE_Description':'对字符串`s`的内容未验证输入是否合法，可能导致非法字符处理问题。'}\\n]\",\n",
       "  'repaired_code': '[\\n    {\\n        \\'repair_code\\': \\'\\'\\'\\nimport sys, os, io\\ninput = io.BytesIO(os.read(0, os.fstat(0).st_size)).readline\\n\\ndef is_valid_input(n, k, s):\\n    if n < 1 or k < 1:\\n        return False\\n    if len(s) != n:\\n        return False\\n    return all(97 <= ord(ch) <= 122 for ch in s)\\n\\ndef binary_search(c1, c2):\\n    m = (c1 + c2 + 1) // 2\\n    while abs(c1 - c2) > 1:\\n        m = (c1 + c2 + 1) // 2\\n        if ok(m):\\n            c1 = m\\n        else:\\n            c2 = m\\n    m = max(m - 1, 1)\\n    while ok(m):\\n        m += 1\\n    return m - 1\\n\\ndef ok(m):\\n    c = [0] * k\\n    s0 = 0\\n    start_index = max(0, n - m)\\n\\n    for i in range(n - 1, start_index - 1, -1):\\n        si = s[i] - 97\\n        if si >= 0:\\n            c[si] += 1\\n            s0 += 1\\n\\n    for i in range(start_index, -1, -1):\\n        si = s[i] - 97\\n        if si >= 0:\\n            c[si] += 1\\n            s0 += 1\\n        u = i + m - 1\\n        if u < n:\\n            for j in range(k):\\n                if not c[j] ^ s0:\\n                    x[j][i] = i\\n                else:\\n                    x[j][i] = x[j][i + 1] if i + 1 < n else inf\\n        su = s[u] - 97 if u < n else -1\\n        if su >= 0:\\n            c[su] -= 1\\n            s0 -= 1\\n\\n    dp = [inf] * l\\n    dp[0] = 0\\n    for i in range(l):\\n        dpi = dp[i]\\n        if dpi >= n:\\n            continue\\n        for j in range(k):\\n            if i & pow2[j]:\\n                continue\\n            u = x[j][dpi] if dpi < n else inf\\n            v = i ^ pow2[j]\\n            dp[v] = min(dp[v], u + m)\\n    return dp[-1] != inf\\n\\ntry:\\n    n, k = map(int, input().split())\\n    s = list(input().rstrip())\\n    if not is_valid_input(n, k, s):\\n        raise ValueError(\"Invalid input values.\")\\nexcept Exception as e:\\n    print(\"Input error:\", e)\\n    sys.exit(1)\\n\\npow2 = [1]\\nfor _ in range(k):\\n    pow2.append(2 * pow2[-1])\\ninf = pow(10, 9) + 1\\nl = pow2[k]\\nx = [[inf] * (n + 1) for _ in range(k)]\\nans = binary_search(0, n // k + 1)\\nprint(ans)\\n        \\'\\'\\',\\n        \\'repair_method\\': \\'修复了输入验证以确保 n、k 范围和 s 字符串合法性。增加了数组访问的边界检查，避免越界读取和写入。\\'\\n    }\\n]'},\n",
       " 'deepseekv3': {'function_description': '实现二分查找优化字符串匹配算法。',\n",
       "  'vulnerability_analysis': \"```json\\n[\\n    {'CWE_Type':'CWE-125', 'CWE_Code':'si = s[i] - 97', 'CWE_Description':'数组访问时未验证索引范围，可能导致越界读取。'},\\n    {'CWE_Type':'CWE-20', 'CWE_Code':'n, k = map(int, input().split())', 'CWE_Description':'未对输入进行充分验证，可能导致无效或恶意输入。'},\\n    {'CWE_Type':'CWE-125', 'CWE_Code':'c = [0] * k', 'CWE_Description':'数组大小依赖于未经验证的输入k，可能导致越界访问。'}\\n]\\n```\",\n",
       "  'repaired_code': '```json\\n[\\n    {\\n        \\'repair_code\\': \\'\\'\\'\\nimport sys, os, io\\ninput = io.BytesIO(os.read(0, os.fstat(0).st_size)).readline\\n\\ndef binary_search(c1, c2):\\n    m = (c1 + c2 + 1) // 2\\n    while abs(c1 - c2) > 1:\\n        m = (c1 + c2 + 1) // 2\\n        if ok(m):\\n            c1 = m\\n        else:\\n            c2 = m\\n    m = max(m - 1, 1)\\n    while ok(m):\\n        m += 1\\n    return m - 1\\n\\ndef ok(m):\\n    c = [0] * k\\n    s0 = 0\\n    for i in range(n - 1, n - m, -1):\\n        if i < 0 or i >= len(s):\\n            continue\\n        si = s[i] - 97\\n        if si >= 0 and si < k:\\n            c[si] += 1\\n            s0 += 1\\n    for i in range(n - m, -1, -1):\\n        if i < 0 or i >= len(s):\\n            continue\\n        si = s[i] - 97\\n        if si >= 0 and si < k:\\n            c[si] += 1\\n            s0 += 1\\n        u = i + m - 1\\n        for j in range(k):\\n            if not c[j] ^ s0:\\n                x[j][i] = i\\n            else:\\n                x[j][i] = x[j][i + 1]\\n        if u < 0 or u >= len(s):\\n            continue\\n        su = s[u] - 97\\n        if su >= 0 and su < k:\\n            c[su] -= 1\\n            s0 -= 1\\n    dp = [inf] * l\\n    dp[0] = 0\\n    for i in range(l):\\n        dpi = dp[i]\\n        if dpi >= n:\\n            continue\\n        for j in range(k):\\n            if i & pow2[j]:\\n                continue\\n            u = x[j][dpi]\\n            v = i ^ pow2[j]\\n            dp[v] = min(dp[v], u + m)\\n    return True if dp[-1] ^ inf else False\\n\\nn, k = map(int, input().split())\\nif n <= 0 or k <= 0:\\n    print(\"Invalid input\")\\n    sys.exit()\\ns = list(input().rstrip())\\npow2 = [1]\\nfor _ in range(k):\\n    pow2.append(2 * pow2[-1])\\ninf = pow(10, 9) + 1\\nl = pow2[k]\\nx = [[inf] * (n + 1) for _ in range(k)]\\nans = binary_search(0, n // k + 1)\\nprint(ans)\\n\\'\\'\\',\\n        \\'repair_method\\': \\'添加数组索引范围检查，验证输入有效性，防止越界访问和无效输入。\\'\\n    }\\n]\\n```'},\n",
       " 'claude3.5-1022': {'function_description': '这段代码实现了一个二分查找算法，用于寻找满足特定字符串条件的最大长度。\\n\\n让我用中文详细分析这段代码的主要部分：\\n\\n1. **整体结构**：\\n- 使用二分查找来寻找最优解\\n- 包含两个主要函数：`binary_search` 和 `ok`\\n- 处理输入的字符串和相关参数\\n\\n2. **关键函数分析**：\\n```python\\ndef binary_search(c1, c2):\\n    # 标准的二分查找实现\\n    # 通过调用 ok() 函数来验证中间值是否满足条件\\n    # ... 代码省略 ...\\n    return m - 1\\n\\ndef ok(m):\\n    # 复杂的验证函数\\n    # 使用动态规划检查给定长度 m 是否满足条件\\n    # ... 代码省略 ...\\n    return True if dp[-1] ^ inf else False\\n```\\n\\n3. **主要数据结构**：\\n```python\\n# 2的幂次表\\npow2 = [1]\\nfor _ in range(k):\\n    pow2.append(2 * pow2[-1])\\n\\n# DP数组和辅助数组\\nx = [[inf] * (n + 1) for _ in range(k)]\\n```\\n\\n这段代码的一些潜在改进建议：\\n\\n1. 代码可读性：\\n- 添加更多的注释来解释算法逻辑\\n- 使用更有意义的变量名（如 `s0`, `si`, `u`, `v` 等可以更具描述性）\\n\\n2. 性能优化：\\n- `ok` 函数中的嵌套循环可能在大规模输入时性能较差\\n- 可以考虑使用更优的数据结构来优化空间复杂度\\n\\n3. 安全性：\\n- 需要添加输入验证\\n- 对于大数据输入可能需要考虑内存限制\\n\\n4. 代码风格：\\n- 可以遵循 PEP 8 规范\\n- 建议添加类型提示以提高代码可维护性',\n",
       "  'vulnerability_analysis': '经过分析，这段代码存在以下潜在安全问题：\\n\\n```json\\n[\\n    {\\n        \"CWE_Type\": \"CWE-20\",\\n        \"CWE_Code\": \"n, k = map(int, input().split())\\\\ns = list(input().rstrip())\",\\n        \"CWE_Description\": \"代码没有对输入参数n和k进行有效性验证，可能导致程序在接收到非预期输入时崩溃或产生未定义行为\"\\n    },\\n    {\\n        \"CWE_Type\": \"CWE-125\",\\n        \"CWE_Code\": \"for i in range(n - 1, n - m, -1):\\\\n    si = s[i] - 97\\\\n    if si >= 0:\",\\n        \"CWE_Description\": \"在ok函数中，对数组s的访问没有进行边界检查，当m值过大时可能导致数组越界读取\"\\n    },\\n    {\\n        \"CWE_Type\": \"CWE-787\",\\n        \"CWE_Code\": \"c[si] += 1\",\\n        \"CWE_Description\": \"在ok函数中，si的值（s[i] - 97）没有上界检查，可能导致数组c的越界写入\"\\n    }\\n]\\n```\\n\\n这些安全问题都是比较严重的，建议：\\n1. 添加输入参数的合法性检查\\n2. 增加数组访问的边界检查\\n3. 对字符ASCII值的计算结果进行范围验证\\n\\n这些修改可以显著提高代码的安全性和稳定性。',\n",
       "  'repaired_code': '```json\\n[\\n    {\\n        \"repair_code\": \"\"\"import sys, os, io\\ninput = io.BytesIO(os.read(0, os.fstat(0).st_size)).readline\\n\\ndef binary_search(c1, c2):\\n    if not (0 <= c1 <= c2):  # 参数验证\\n        raise ValueError(\"Invalid binary search range\")\\n    m = (c1 + c2 + 1) // 2\\n    while abs(c1 - c2) > 1:\\n        m = (c1 + c2 + 1) // 2\\n        if ok(m):\\n            c1 = m\\n        else:\\n            c2 = m\\n    m = max(m - 1, 1)\\n    while ok(m):\\n        m += 1\\n    return m - 1\\n\\ndef ok(m):\\n    if m > n:  # 验证m的合法性\\n        return False\\n        \\n    c = [0] * k\\n    s0 = 0\\n    \\n    # 验证字符的ASCII范围\\n    for char in s:\\n        if not (97 <= ord(char) <= 122) and char != \\'.\\':\\n            raise ValueError(\"Invalid character in input string\")\\n    \\n    for i in range(n - 1, n - m, -1):\\n        if i < 0:  # 边界检查\\n            break\\n        si = ord(s[i]) - 97\\n        if 0 <= si < k:  # 确保索引在合法范围内\\n            c[si] += 1\\n            s0 += 1\\n            \\n    for i in range(n - m, -1, -1):\\n        si = ord(s[i]) - 97\\n        if 0 <= si < k:\\n            c[si] += 1\\n            s0 += 1\\n        u = i + m - 1\\n        if u >= n:  # 边界检查\\n            continue\\n        for j in range(k):\\n            if not c[j] ^ s0:\\n                x[j][i] = i\\n            else:\\n                x[j][i] = x[j][i + 1]\\n        su = ord(s[u]) - 97\\n        if 0 <= su < k:\\n            c[su] -= 1\\n            s0 -= 1\\n            \\n    dp = [inf] * l\\n    dp[0] = 0\\n    for i in range(l):\\n        dpi = dp[i]\\n        if dpi >= n:\\n            continue\\n        for j in range(k):\\n            if i & pow2[j]:\\n                continue\\n            u = x[j][dpi]\\n            v = i ^ pow2[j]\\n            dp[v] = min(dp[v], u + m)\\n    return True if dp[-1] != inf else False\\n\\n# 输入验证\\ntry:\\n    n, k = map(int, input().split())\\n    if not (1 <= n <= 10**5 and 1 <= k <= 20):\\n        raise ValueError(\"Input parameters out of valid range\")\\n        \\n    s = list(input().rstrip())\\n    if len(s) != n:\\n        raise ValueError(\"String length does not match n\")\\n        \\n    pow2 = [1]\\n    for _ in range(k):\\n        pow2.append(2 * pow2[-1])\\n    inf = pow(10, 9) + 1\\n    l = pow2[k]\\n    x = [[inf] * (n + 1) for _ in range(k)]\\n    ans = binary_search(0, n // k + 1)\\n    print(ans)\\n    \\nexcept (ValueError, IndexError) as e:\\n    print(f\"Error: {e}\")\\n    sys.exit(1)\"\"\",\\n        \"repair_method\": \"1. 添加输入参数n和k的范围验证 2. 增加字符串长度和字符合法性检查 3. 在数组访问前添加边界检查 4. 对ASCII值计算结果添加范围验证 5. 使用异常处理机制处理错误情况\"\\n    }\\n]\\n```'},\n",
       " 'gemini1.5-pro-latest': {'function_description': '该代码实现了一个字符串划分算法，在满足特定条件下，找到字符串的最长划分长度。 \\n',\n",
       "  'vulnerability_analysis': \"```json\\n[\\n  {\\n    'CWE_Type': 'CWE-787',\\n    'CWE_Code': 'for i in range(n - 1, n - m, -1):\\\\n        si = s[i] - 97\\\\n        if si >= 0:\\\\n            c[si] += 1\\\\n            s0 += 1',\\n    'CWE_Description': '代码中存在越界写入的风险，当 `n - m` 小于 0 时，`i` 会小于 0，导致数组 `s` 越界访问。'\\n  },\\n  {\\n    'CWE_Type': 'CWE-787',\\n    'CWE_Code': 'for i in range(n - m, -1, -1):\\\\n        si = s[i] - 97\\\\n        if si >= 0:\\\\n            c[si] += 1\\\\n            s0 += 1',\\n    'CWE_Description': '代码中存在越界写入的风险，当 `n - m` 小于 0 时，`i` 会小于 0，导致数组 `s` 越界访问。'\\n  },\\n  {\\n    'CWE_Type': 'CWE-787',\\n    'CWE_Code': 'for j in range(k):\\\\n            if not c[j] ^ s0:\\\\n                x[j][i] = i\\\\n            else:\\\\n                x[j][i] = x[j][i + 1]',\\n    'CWE_Description': '代码中存在越界写入的风险，当 `i + 1` 大于 `n + 1` 时，`x[j][i + 1]` 会越界访问。'\\n  },\\n  {\\n    'CWE_Type': 'CWE-787',\\n    'CWE_Code': 'for j in range(k):\\\\n            if i & pow2[j]:\\\\n                continue\\\\n            u = x[j][dpi]\\\\n            v = i ^ pow2[j]\\\\n            dp[v] = min(dp[v], u + m)',\\n    'CWE_Description': '代码中存在越界写入的风险，当 `v` 大于 `l` 时，`dp[v]` 会越界访问。'\\n  }\\n]\\n```\\n\\n**解释:**\\n\\n- 代码中存在多个潜在的越界写入漏洞 (CWE-787)。\\n- 在 `ok()` 函数中的循环语句中，存在对数组 `s` 和 `x` 的越界访问风险，当 `n - m` 小于 0 或 `i + 1` 大于 `n + 1` 时。\\n- 在 `ok()` 函数的最后循环中，当 `v` 大于 `l` 时，可能导致对 `dp` 数组的越界访问。\\n\\n**修复建议:**\\n\\n- 在循环开始前添加必要的边界检查，确保访问的索引不会超出数组的范围。\\n- 使用更加安全的编程实践，例如使用安全的容器类或者使用边界检查函数来避免越界访问。\\n\",\n",
       "  'repaired_code': \"```json\\n[\\n    {\\n        'repair_code': 'import sys, os, io\\\\ninput = io.BytesIO(os.read(0, os.fstat(0).st_size)).readline\\\\n\\\\ndef binary_search(c1, c2):\\\\n    m = (c1 + c2 + 1) // 2\\\\n    while abs(c1 - c2) > 1:\\\\n        m = (c1 + c2 + 1) // 2\\\\n        if ok(m):\\\\n            c1 = m\\\\n        else:\\\\n            c2 = m\\\\n    m = max(m - 1, 1)\\\\n    while ok(m):\\\\n        m += 1\\\\n    return m - 1\\\\n\\\\ndef ok(m):\\\\n    c = [0] * k\\\\n    s0 = 0\\\\n    if m > n:  # 添加边界检查\\\\n        return False\\\\n    for i in range(n - 1, n - m, -1):\\\\n        if i < 0:  # 添加边界检查\\\\n            break\\\\n        si = s[i] - 97\\\\n        if si >= 0:\\\\n            c[si] += 1\\\\n            s0 += 1\\\\n    for i in range(n - m, -1, -1):\\\\n        if i < 0:  # 添加边界检查\\\\n            break\\\\n        si = s[i] - 97\\\\n        if si >= 0:\\\\n            c[si] += 1\\\\n            s0 += 1\\\\n        u = i + m - 1\\\\n        if u >= n:  # 添加边界检查\\\\n            break\\\\n        for j in range(k):\\\\n            if not c[j] ^ s0:\\\\n                x[j][i] = i\\\\n            else:\\\\n                x[j][i] = x[j][i + 1] if i + 1 <= n else inf  # 修复越界访问\\\\n        su = s[u] - 97\\\\n        if su >= 0:\\\\n            c[su] -= 1\\\\n            s0 -= 1\\\\n    dp = [inf] * l\\\\n    dp[0] = 0\\\\n    for i in range(l):\\\\n        dpi = dp[i]\\\\n        if dpi >= n:\\\\n            continue\\\\n        for j in range(k):\\\\n            if i & pow2[j]:\\\\n                continue\\\\n            u = x[j][dpi]\\\\n            v = i ^ pow2[j]\\\\n            if v < l:  # 添加边界检查\\\\n                dp[v] = min(dp[v], u + m)\\\\n    return True if dp[-1] ^ inf else False\\\\n\\\\nn, k = map(int, input().split())\\\\ns = list(input().rstrip())\\\\npow2 = [1]\\\\nfor _ in range(k):\\\\n    pow2.append(2 * pow2[-1])\\\\ninf = pow(10, 9) + 1\\\\nl = pow2[k]\\\\nx = [[inf] * (n + 1) for _ in range(k)]\\\\nans = binary_search(0, n // k + 1)\\\\nprint(ans)',\\n        'repair_method': '在循环和条件判断中添加了边界检查，确保索引不会越界访问数组。'\\n    }\\n]\\n```\"},\n",
       " 'source': 'Python_461356.json',\n",
       " 'kappa': np.float64(0.0572390572390572)}"
      ]
     },
     "execution_count": 112,
     "metadata": {},
     "output_type": "execute_result"
    }
   ],
   "source": [
    "data[0]"
   ]
  }
 ],
 "metadata": {
  "kernelspec": {
   "display_name": "bert",
   "language": "python",
   "name": "python3"
  },
  "language_info": {
   "codemirror_mode": {
    "name": "ipython",
    "version": 3
   },
   "file_extension": ".py",
   "mimetype": "text/x-python",
   "name": "python",
   "nbconvert_exporter": "python",
   "pygments_lexer": "ipython3",
   "version": "3.9.20"
  }
 },
 "nbformat": 4,
 "nbformat_minor": 2
}
