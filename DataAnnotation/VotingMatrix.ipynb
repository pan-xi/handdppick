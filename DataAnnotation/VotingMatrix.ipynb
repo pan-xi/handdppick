{
 "cells": [
  {
   "cell_type": "markdown",
   "metadata": {},
   "source": [
    "第一轮矩阵\n",
    "投票模型，投出模型\n"
   ]
  },
  {
   "cell_type": "markdown",
   "metadata": {},
   "source": [
    "投票模型：\n",
    "deepseekv3:./small_sample_output_dir/split0_output_summary_voted_processed_five_models_deepseek-chat_voted_five_models_new.json\n",
    "yi- Lightning：./small_sample_output_dir/split0_output_summary_voted_processed_five_models_yi-lightning_voted_five_models.json\n",
    "gpt-4o：./small_sample_output_dir/split0_output_summary_voted_processed_five_models_gpt-4o_voted_five_models_1.json\n",
    "o1-mini:./small_sample_output_dir/split0_output_summary_voted_processed_five_models_o1-mini_voted_five_models.json\n",
    "qwen-max:./small_sample_output_dir/split0_output_summary_voted_processed_five_models_qwen-max_voted_five_models_final.json"
   ]
  },
  {
   "cell_type": "code",
   "execution_count": 1,
   "metadata": {},
   "outputs": [],
   "source": [
    "import os\n",
    "import json"
   ]
  },
  {
   "cell_type": "code",
   "execution_count": null,
   "metadata": {},
   "outputs": [],
   "source": [
    "voting_models_results_file_paths = {\n",
    "    'deepseekv3':'./small_sample_output_dir/split0_output_summary_voted_processed_five_models_deepseek-chat_voted_five_models_new.json',\n",
    "    'yi-lightning':'./small_sample_output_dir/split0_output_summary_voted_processed_five_models_yi-lightning_voted_five_models.json',\n",
    "    'gpt-4o':'./small_sample_output_dir/split0_output_summary_voted_processed_five_models_gpt-4o_voted_five_models_1.json',\n",
    "    'o1-mini':'./small_sample_output_dir/split0_output_summary_voted_processed_five_models_o1-mini_voted_five_models.json',\n",
    "    'qwen-max':'./small_sample_output_dir/split0_output_summary_voted_processed_five_models_qwen-max_voted_five_models_final.json'\n",
    "}"
   ]
  },
  {
   "cell_type": "code",
   "execution_count": 3,
   "metadata": {},
   "outputs": [
    {
     "data": {
      "text/plain": [
       "{'question': '@org.junit.Test\\npublic void calculateChangeInPriceSameNumbersShouldReturnZero() throws java.lang.Exception {\\n    ru.unn.agile.ElasticityOfDemand.ElasticityOfDemandCalculator calculator = new ru.unn.agile.ElasticityOfDemand.ElasticityOfDemandCalculator();\\n    double result = calculator.calculateChangeInPrice(java.math.BigDecimal.ONE, java.math.BigDecimal.ONE);\\n    assertEquals(0, result, 0);\\n}',\n",
       " 'function_description': {'A': '测试方法验证相同价格变动计算返回零。',\n",
       "  'B': '测试价格变化计算返回零的功能。',\n",
       "  'C': '这是一个单元测试，验证当价格变化前后相同时，价格变化率应为零。',\n",
       "  'D': '测试当商品价格和数量相同的情况下，价格变动率为零。 \\n',\n",
       "  'E': '测试相同输入时价格变化应返回零。'},\n",
       " 'vulnerability_analysis': {'A': None,\n",
       "  'B': None,\n",
       "  'C': \"[\\n   {\\n      'CWE_Type': 'CWE-20',\\n      'CWE_Code': 'calculator.calculateChangeInPrice(java.math.BigDecimal.ONE, java.math.BigDecimal.ONE)',\\n      'CWE_Description': '未对输入参数进行边界值和异常值校验，如零值、负值或极大值，可能导致计算错误或异常。建议添加输入参数验证。'\\n   }\\n]\\n\\n这个测试用例虽然测试了相等值的情况，但从安全角度来看，缺少对输入参数的有效性验证。在实际应用中，价格计算需要考虑各种边界情况和异常输入，以确保计算结果的准确性和系统的稳定性。\",\n",
       "  'E': None},\n",
       " 'repaired_code': {'A': None,\n",
       "  'B': None,\n",
       "  'C': '[\\n    {\\n        \\'repair_code\\': \\'\\'\\'@org.junit.Test\\npublic void calculateChangeInPriceSameNumbersShouldReturnZero() throws java.lang.Exception {\\n    ru.unn.agile.ElasticityOfDemand.ElasticityOfDemandCalculator calculator = new ru.unn.agile.ElasticityOfDemand.ElasticityOfDemandCalculator();\\n    \\n    // 验证输入参数\\n    java.math.BigDecimal price1 = java.math.BigDecimal.ONE;\\n    java.math.BigDecimal price2 = java.math.BigDecimal.ONE;\\n    \\n    if (price1 == null || price2 == null || \\n        price1.compareTo(java.math.BigDecimal.ZERO) <= 0 || \\n        price2.compareTo(java.math.BigDecimal.ZERO) <= 0) {\\n        throw new IllegalArgumentException(\"价格必须为正数\");\\n    }\\n    \\n    double result = calculator.calculateChangeInPrice(price1, price2);\\n    assertEquals(0, result, 0);\\n}\\'\\'\\',\\n        \\'repair_method\\': \\'添加了输入参数的有效性验证，确保价格为正数且不为空，防止非法输入导致的计算错误。\\'\\n    }\\n]',\n",
       "  'D': \"```json\\n[\\n    {\\n        'repair_code': '@org.junit.Test\\\\n' +\\n                       'public void calculateChangeInPriceSameNumbersShouldReturnZero() throws java.lang.Exception {\\\\n' +\\n                       '    ru.unn.agile.ElasticityOfDemand.ElasticityOfDemandCalculator calculator = new ru.unn.agile.ElasticityOfDemand.ElasticityOfDemandCalculator();\\\\n' +\\n                       '    double result = calculator.calculateChangeInPrice(java.math.BigDecimal.ONE, java.math.BigDecimal.ONE);\\\\n' +\\n                       '    assertEquals(0, result, 0.0001);\\\\n' + // 修复了浮点数比较的精度问题\\n                       '}',\\n        'repair_method': '修改了 assertEquals 的第三个参数，增加了容差范围 0.0001，以解决浮点数精度比较问题。'\\n    }\\n]\\n```\",\n",
       "  'E': None},\n",
       " 'function_description_voted_answer': '首先，我们来分析每位学生的答案：\\n\\n- **A**: \"测试方法验证相同价格变动计算返回零。\"  \\n  这个描述较为简洁，指出了测试的目的是验证在价格变动相同的情况下，计算结果返回零。\\n\\n- **B**: \"测试价格变化计算返回零的功能。\"  \\n  这个描述也比较简洁，指出了测试的目的是验证价格变化计算返回零的功能。\\n\\n- **C**: \"这是一个单元测试，验证当价格变化前后相同时，价格变化率应为零。\"  \\n  这个描述较为详细，明确指出这是一个单元测试，并且验证的是价格变化前后相同时，价格变化率应为零。\\n\\n- **D**: \"测试当商品价格和数量相同的情况下，价格变动率为零。\"  \\n  这个描述提到了“商品价格和数量相同”，这与前几位同学的描述有所不同，因为前几位同学只提到了价格变化相同，而D同学还提到了数量相同。\\n\\n- **E**: \"测试相同输入时价格变化应返回零。\"  \\n  这个描述较为简洁，指出了测试的目的是验证在相同输入时，价格变化应返回零。\\n\\n### 分析：\\n- A、B、C、E 的描述主要集中在“价格变化相同”或“相同输入”时，价格变化应返回零。\\n- D 的描述不仅提到了价格相同，还提到了数量相同，这与前几位同学的描述有所不同。\\n\\n### 结论：\\nD 同学的描述与其他同学的描述在语义上有较大差异，因为它引入了“数量相同”这一额外的条件。\\n\\n所以我的答案是：D！',\n",
       " 'vulnerability_analysis_voted_answer': '现在我们来分析剩余学生的答案（A、B、C、E）关于CWE类型的描述：\\n\\n- **A**: None  \\n  A同学没有提供CWE类型的描述。\\n\\n- **B**: None  \\n  B同学没有提供CWE类型的描述。\\n\\n- **C**:  \\n  C同学提供了详细的CWE类型描述，指出了CWE-20（输入验证不足）的问题，并具体说明了未对输入参数进行边界值和异常值校验可能导致的问题。此外，C同学还提到测试用例虽然测试了相等值的情况，但从安全角度来看，缺少对输入参数的有效性验证。\\n\\n- **E**: None  \\n  E同学没有提供CWE类型的描述。\\n\\n### 分析：\\n- A、B、E 三位同学均未提供CWE类型的描述，他们的答案是一致的。\\n- C 同学提供了详细的CWE类型描述，指出了具体的CWE缺陷（CWE-20）以及相关的安全问题，这与A、B、E三位同学的答案形成了明显的差异。\\n\\n### 结论：\\nC 同学的描述与其他同学的描述在CWE类型描述方面存在显著不一致。\\n\\n所以我的答案是：C！',\n",
       " 'llm_model': 'deepseek-chat',\n",
       " 'source': 'BFP_Java_1190331.json'}"
      ]
     },
     "execution_count": 3,
     "metadata": {},
     "output_type": "execute_result"
    }
   ],
   "source": [
    "with open(voting_models_results_file_paths['deepseekv3'],'r') as f:\n",
    "    data = json.load(f)\n",
    "\n",
    "data[0]"
   ]
  },
  {
   "cell_type": "code",
   "execution_count": 20,
   "metadata": {},
   "outputs": [
    {
     "data": {
      "text/plain": [
       "'D'"
      ]
     },
     "execution_count": 20,
     "metadata": {},
     "output_type": "execute_result"
    }
   ],
   "source": [
    "def get_function_description_voted_answer(data):\n",
    "    import re\n",
    "    answer = re.search(r'所以我的答案是：(None|\\w)', data)\n",
    "    if answer:\n",
    "        extracted_answer = answer.group(1)  # 获取匹配的答案 (A/B/C/D/None)\n",
    "    else:\n",
    "        extracted_answer = None\n",
    "        # print(\"未能找到预期格式的答案\")\n",
    "\n",
    "    return extracted_answer\n",
    "\n",
    "get_function_description_voted_answer(data[499]['function_description_voted_answer'])"
   ]
  },
  {
   "cell_type": "code",
   "execution_count": 44,
   "metadata": {},
   "outputs": [
    {
     "name": "stdout",
     "output_type": "stream",
     "text": [
      "[[4. 4. 1. ... 1. 4. 2.]\n",
      " [3. 3. 3. ... 4. 2. 4.]\n",
      " [4. 2. 5. ... 4. 2. 2.]\n",
      " [4. 4. 4. ... 0. 0. 0.]\n",
      " [5. 0. 5. ... 4. 2. 4.]]\n"
     ]
    }
   ],
   "source": [
    "# 建立一个矩阵，数据量共500，共有5个投票模型，则横轴为1-500，纵轴为5个投票模型，矩阵的值为每个模型对每个样本的投票结果，0表示None，1表示A，2表示B，3表示C，4表示D，5表示E\n",
    "import numpy as np\n",
    "voting_matrix = np.zeros((len(voting_models_results_file_paths), len(data)))\n",
    "for model_index, model_name in enumerate(voting_models_results_file_paths):\n",
    "    with open(voting_models_results_file_paths[model_name], 'r') as f:\n",
    "        data = json.load(f)\n",
    "    for index in range(len(data)):\n",
    "        # 使用get_function_description_voted_answer函数获取每个模型的投票结果\n",
    "        try:\n",
    "            answer = get_function_description_voted_answer(data[index]['function_description_voted_answer'])\n",
    "        except Exception as e:\n",
    "            answer = 'None'\n",
    "        if answer == 'None':\n",
    "            voting_matrix[model_index][index] = 0\n",
    "        elif answer == None:\n",
    "            voting_matrix[model_index][index] = 0\n",
    "        else:\n",
    "            # 将答案转换为数字\n",
    "            answer_to_number = {'A': 1, 'B': 2, 'C': 3, 'D': 4, 'E': 5}\n",
    "            voting_matrix[model_index][index] = answer_to_number[answer]\n",
    "\n",
    "# 打印投票矩阵\n",
    "print(voting_matrix)\n"
   ]
  },
  {
   "cell_type": "code",
   "execution_count": 21,
   "metadata": {},
   "outputs": [
    {
     "name": "stdout",
     "output_type": "stream",
     "text": [
      "[[[0. 0. 1. ... 1. 0. 0.]\n",
      "  [0. 0. 0. ... 0. 0. 1.]\n",
      "  [0. 0. 0. ... 0. 0. 0.]\n",
      "  [1. 1. 0. ... 0. 1. 0.]\n",
      "  [0. 0. 0. ... 0. 0. 0.]]\n",
      "\n",
      " [[0. 0. 0. ... 0. 0. 0.]\n",
      "  [0. 0. 0. ... 0. 1. 0.]\n",
      "  [1. 1. 1. ... 0. 0. 0.]\n",
      "  [0. 0. 0. ... 1. 0. 1.]\n",
      "  [0. 0. 0. ... 0. 0. 0.]]\n",
      "\n",
      " [[0. 0. 0. ... 0. 0. 0.]\n",
      "  [0. 1. 0. ... 0. 1. 1.]\n",
      "  [0. 0. 0. ... 0. 0. 0.]\n",
      "  [1. 0. 0. ... 1. 0. 0.]\n",
      "  [0. 0. 1. ... 0. 0. 0.]]\n",
      "\n",
      " [[0. 0. 0. ... 0. 0. 0.]\n",
      "  [0. 0. 0. ... 0. 0. 0.]\n",
      "  [0. 0. 0. ... 0. 0. 0.]\n",
      "  [1. 1. 1. ... 0. 0. 0.]\n",
      "  [0. 0. 0. ... 0. 0. 0.]]\n",
      "\n",
      " [[0. 0. 0. ... 0. 0. 0.]\n",
      "  [0. 0. 0. ... 0. 1. 0.]\n",
      "  [0. 0. 0. ... 0. 0. 0.]\n",
      "  [0. 0. 0. ... 1. 0. 1.]\n",
      "  [1. 0. 1. ... 0. 0. 0.]]]\n"
     ]
    }
   ],
   "source": [
    "# 第二个矩阵，是一个三维的矩阵，横轴为500，纵轴为5，深度为5，纵轴表示被投出的5个模型，如A,B,C,D,E，深度表示5个投票模型，如deepseekv3,yi-lightning,gpt-4o,o1-mini,qwen-max，矩阵的值为0或1，表示该模型是否被投出，如deepseekv3在第一条数据上投了A，则voting_matrix[0][0][0] = 1，其他为0，其他模型同理,如果答案为None，则表示该模型没有投出，矩阵的值为0。\n",
    "import numpy as np\n",
    "\n",
    "\n",
    "voting_matrix_3d = np.zeros((5, 5, 500))\n",
    "\n",
    "\n",
    "\n",
    "models = ['deepseekv3', 'yi-lightning', 'gpt-4o', 'o1-mini', 'qwen-max']\n",
    "answers = ['A', 'B', 'C', 'D', 'E']\n",
    "answer_to_index = {answer: i for i, answer in enumerate(answers)}\n",
    "\n",
    "# 填充矩阵\n",
    "for model_index, model in enumerate(models):\n",
    "    with open(voting_models_results_file_paths[model], 'r') as f:\n",
    "        data = json.load(f)\n",
    "    for index, sample in enumerate(data):\n",
    "        # print(sample)\n",
    "        try:\n",
    "            # print(sample['function_description_voted_answer'])\n",
    "            answer = get_function_description_voted_answer(sample['function_description_voted_answer'])\n",
    "        except Exception as e:\n",
    "            # print(e)\n",
    "            answer = None\n",
    "        # print(answer)\n",
    "        if answer in answer_to_index:\n",
    "            answer_index = answer_to_index[answer]\n",
    "            # print(model_index,index,answer_index)\n",
    "            # break\n",
    "    \n",
    "            voting_matrix_3d[model_index][answer_index][index] = 1\n",
    "            # break\n",
    "    # break\n",
    "\n",
    "print(voting_matrix_3d)"
   ]
  },
  {
   "cell_type": "markdown",
   "metadata": {},
   "source": [
    "# 第二轮投票\n",
    "在本轮需要考虑可能会投出两个模型"
   ]
  },
  {
   "cell_type": "code",
   "execution_count": 22,
   "metadata": {},
   "outputs": [
    {
     "data": {
      "text/plain": [
       "'B,C'"
      ]
     },
     "execution_count": 22,
     "metadata": {},
     "output_type": "execute_result"
    }
   ],
   "source": [
    "def get_cwe_list(text):\n",
    "    cwe_list = []\n",
    "    import re\n",
    "    if text is None:\n",
    "        return []\n",
    "    cwe_pattern = re.compile(r'CWE-(?:\\d+|other)')\n",
    "    cwe_list = cwe_pattern.findall(text)\n",
    "    return cwe_list\n",
    "\n",
    "def get_vulnerability_voting_result(text):\n",
    "    import re\n",
    "    answer = re.search(r'所以我的答案是：(None|[\\w,]+)！', text)\n",
    "    if answer:\n",
    "        extracted_answer = answer.group(1)  \n",
    "    else:\n",
    "        extracted_answer = None\n",
    "\n",
    "    return extracted_answer\n",
    "\n",
    "get_vulnerability_voting_result(data[0]['vulnerability_analysis_voted_answer'])"
   ]
  },
  {
   "cell_type": "code",
   "execution_count": null,
   "metadata": {},
   "outputs": [
    {
     "name": "stdout",
     "output_type": "stream",
     "text": [
      "[[list([3]) list([3]) list([2, 4, 5]) ... list([3]) list([2, 5])\n",
      "  list([4])]\n",
      " [list([4]) list([1]) list([5]) ... list([0]) list([0]) list([0])]\n",
      " [list([1, 5]) list([1, 5, 3]) list([2, 3]) ... list([3, 5]) list([4])\n",
      "  list([3])]\n",
      " [list([5]) list([1, 2]) list([3, 5]) ... list([0]) list([5]) list([0])]\n",
      " [list([2, 3]) list([5]) list([1, 2]) ... list([2]) list([4]) list([2])]]\n"
     ]
    }
   ],
   "source": [
    "# 建立一个矩阵，数据量共500，共有5个投票模型，则横轴为1-500，纵轴为5个投票模型，矩阵的值为每个模型对每个样本的投票结果，0表示None，1表示A，2表示B，3表示C，4表示D，5表示E\n",
    "import numpy as np\n",
    "voting_matrix = np.empty((5, 500), dtype=object)\n",
    "for i in range(5):\n",
    "    for j in range(500):\n",
    "        voting_matrix[i, j] = []\n",
    "for model_index, model_name in enumerate(voting_models_results_file_paths):\n",
    "    with open(voting_models_results_file_paths[model_name], 'r') as f:\n",
    "        data = json.load(f)\n",
    "    for index in range(len(data)):\n",
    "        # get_vulnerability_voting_result\n",
    "        try:\n",
    "            answer_str = get_vulnerability_voting_result(data[index]['vulnerability_analysis_voted_answer'])\n",
    "            answer_list = answer_str.split(',')\n",
    "        except Exception as e:\n",
    "            answer_list = ['None']\n",
    "        for answer_item in answer_list:  \n",
    "            answer_to_number = {'A': 1, 'B': 2, 'C': 3, 'D': 4, 'E': 5}\n",
    "            if answer_item == 'None':\n",
    "                voting_matrix[model_index][index] = [0]\n",
    "            else:\n",
    "                voting_matrix[model_index][index].append(answer_to_number[answer_item])\n",
    "            \n",
    "print(voting_matrix)\n"
   ]
  },
  {
   "cell_type": "code",
   "execution_count": 32,
   "metadata": {},
   "outputs": [
    {
     "name": "stdout",
     "output_type": "stream",
     "text": [
      "[[[0. 0. 0. ... 0. 0. 0.]\n",
      "  [0. 0. 1. ... 0. 1. 0.]\n",
      "  [1. 1. 0. ... 1. 0. 0.]\n",
      "  [0. 0. 1. ... 0. 0. 1.]\n",
      "  [0. 0. 1. ... 0. 1. 0.]]\n",
      "\n",
      " [[0. 1. 0. ... 0. 0. 0.]\n",
      "  [0. 0. 0. ... 0. 0. 0.]\n",
      "  [0. 0. 0. ... 0. 0. 0.]\n",
      "  [1. 0. 0. ... 0. 0. 0.]\n",
      "  [0. 0. 1. ... 0. 0. 0.]]\n",
      "\n",
      " [[1. 1. 0. ... 0. 0. 0.]\n",
      "  [0. 0. 1. ... 0. 0. 0.]\n",
      "  [0. 1. 1. ... 1. 0. 1.]\n",
      "  [0. 0. 0. ... 0. 1. 0.]\n",
      "  [1. 1. 0. ... 1. 0. 0.]]\n",
      "\n",
      " [[0. 1. 0. ... 0. 0. 0.]\n",
      "  [0. 1. 0. ... 0. 0. 0.]\n",
      "  [0. 0. 1. ... 0. 0. 0.]\n",
      "  [0. 0. 0. ... 0. 0. 0.]\n",
      "  [1. 0. 1. ... 0. 1. 0.]]\n",
      "\n",
      " [[0. 0. 1. ... 0. 0. 0.]\n",
      "  [1. 0. 1. ... 1. 0. 1.]\n",
      "  [1. 0. 0. ... 0. 0. 0.]\n",
      "  [0. 0. 0. ... 0. 1. 0.]\n",
      "  [0. 1. 0. ... 0. 0. 0.]]]\n"
     ]
    }
   ],
   "source": [
    "import numpy as np\n",
    "import json\n",
    "\n",
    "\n",
    "NUM_MODELS = 5\n",
    "NUM_ANSWERS = 5\n",
    "NUM_SAMPLES = 500\n",
    "\n",
    "MODELS = ['deepseekv3', 'yi-lightning', 'gpt-4o', 'o1-mini', 'qwen-max']\n",
    "ANSWERS = ['A', 'B', 'C', 'D', 'E']\n",
    "ANSWER_TO_INDEX = {answer: i for i, answer in enumerate(ANSWERS)}\n",
    "MODEL_TO_INDEX = {model: i for i, model in enumerate(MODELS)}\n",
    "\n",
    "voting_matrix_3d = np.zeros((NUM_MODELS, NUM_ANSWERS, NUM_SAMPLES))\n",
    "\n",
    "for model_index, model_name in enumerate(MODELS):\n",
    "    file_path = voting_models_results_file_paths.get(model_name)\n",
    "    \n",
    "    with open(file_path, 'r') as f:\n",
    "        data = json.load(f)\n",
    "\n",
    "    for sample_index, sample in enumerate(data):\n",
    "        try:\n",
    "            answer_str = get_vulnerability_voting_result(sample['vulnerability_analysis_voted_answer'])\n",
    "            answer_list = answer_str.split(',')\n",
    "        except Exception as e:\n",
    "            answer_list = ['None']\n",
    "        for answer_item in answer_list:\n",
    "            if answer_item in ANSWER_TO_INDEX:\n",
    "                answer_index = ANSWER_TO_INDEX[answer_item]\n",
    "                voting_matrix_3d[model_index][answer_index][sample_index] = 1\n",
    "\n",
    "print(voting_matrix_3d)"
   ]
  },
  {
   "cell_type": "markdown",
   "metadata": {},
   "source": [
    "CWE-Type矩阵"
   ]
  },
  {
   "cell_type": "code",
   "execution_count": null,
   "metadata": {},
   "outputs": [
    {
     "data": {
      "text/plain": [
       "{'question': 'import sys, os, io\\r\\ninput = io.BytesIO(os.read(0, os.fstat(0).st_size)).readline\\r\\n\\r\\ndef binary_search(c1, c2):\\r\\n    m = (c1 + c2 + 1) // 2\\r\\n    while abs(c1 - c2) > 1:\\r\\n        m = (c1 + c2 + 1) // 2\\r\\n        if ok(m):\\r\\n            c1 = m\\r\\n        else:\\r\\n            c2 = m\\r\\n    m = max(m - 1, 1)\\r\\n    while ok(m):\\r\\n        m += 1\\r\\n    return m - 1\\r\\n\\r\\ndef ok(m):\\r\\n    c = [0] * k\\r\\n    s0 = 0\\r\\n    for i in range(n - 1, n - m, -1):\\r\\n        si = s[i] - 97\\r\\n        if si >= 0:\\r\\n            c[si] += 1\\r\\n            s0 += 1\\r\\n    for i in range(n - m, -1, -1):\\r\\n        si = s[i] - 97\\r\\n        if si >= 0:\\r\\n            c[si] += 1\\r\\n            s0 += 1\\r\\n        u = i + m - 1\\r\\n        for j in range(k):\\r\\n            if not c[j] ^ s0:\\r\\n                x[j][i] = i\\r\\n            else:\\r\\n                x[j][i] = x[j][i + 1]\\r\\n        su = s[u] - 97\\r\\n        if su >= 0:\\r\\n            c[su] -= 1\\r\\n            s0 -= 1\\r\\n    dp = [inf] * l\\r\\n    dp[0] = 0\\r\\n    for i in range(l):\\r\\n        dpi = dp[i]\\r\\n        if dpi >= n:\\r\\n            continue\\r\\n        for j in range(k):\\r\\n            if i & pow2[j]:\\r\\n                continue\\r\\n            u = x[j][dpi]\\r\\n            v = i ^ pow2[j]\\r\\n            dp[v] = min(dp[v], u + m)\\r\\n    return True if dp[-1] ^ inf else False\\r\\n\\r\\nn, k = map(int, input().split())\\r\\ns = list(input().rstrip())\\r\\npow2 = [1]\\r\\nfor _ in range(k):\\r\\n    pow2.append(2 * pow2[-1])\\r\\ninf = pow(10, 9) + 1\\r\\nl = pow2[k]\\r\\nx = [[inf] * (n + 1) for _ in range(k)]\\r\\nans = binary_search(0, n // k + 1)\\r\\nprint(ans)',\n",
       " 'gpt4o': {'function_description': '该代码功能：在特定条件下进行分组优化的二分搜索。',\n",
       "  'vulnerability_analysis': \"[\\n   {'CWE_Type':'CWE-20', 'CWE_Code':'n, k = map(int, input().split())', 'CWE_Description':'未对输入的范围和合法性进行验证，可能导致异常或未定义行为。'},\\n\\n   {'CWE_Type':'CWE-125', 'CWE_Code':'for i in range(n - 1, n - m, -1):\\\\n        si = s[i] - 97', 'CWE_Description':'在对`s`数组访问时，未检查`n - m`是否可能小于0，可能导致数组越界读取。'},\\n\\n   {'CWE_Type':'CWE-125', 'CWE_Code':'for i in range(n - m, -1, -1):\\\\n        si = s[i] - 97', 'CWE_Description':'在对`s`数组访问时，未检查`n - m`是否有效，可能导致越界读取。'},\\n\\n   {'CWE_Type':'CWE-787', 'CWE_Code':'x[j][i] = i\\\\nx[j][i] = x[j][i + 1]', 'CWE_Description':'数组`x`的索引未检查`i + 1`是否越界，可能导致越界写入。'},\\n\\n   {'CWE_Type':'CWE-20', 'CWE_Code':'s = list(input().rstrip())', 'CWE_Description':'对字符串`s`的内容未验证输入是否合法，可能导致非法字符处理问题。'}\\n]\",\n",
       "  'repaired_code': '[\\n    {\\n        \\'repair_code\\': \\'\\'\\'\\nimport sys, os, io\\ninput = io.BytesIO(os.read(0, os.fstat(0).st_size)).readline\\n\\ndef is_valid_input(n, k, s):\\n    if n < 1 or k < 1:\\n        return False\\n    if len(s) != n:\\n        return False\\n    return all(97 <= ord(ch) <= 122 for ch in s)\\n\\ndef binary_search(c1, c2):\\n    m = (c1 + c2 + 1) // 2\\n    while abs(c1 - c2) > 1:\\n        m = (c1 + c2 + 1) // 2\\n        if ok(m):\\n            c1 = m\\n        else:\\n            c2 = m\\n    m = max(m - 1, 1)\\n    while ok(m):\\n        m += 1\\n    return m - 1\\n\\ndef ok(m):\\n    c = [0] * k\\n    s0 = 0\\n    start_index = max(0, n - m)\\n\\n    for i in range(n - 1, start_index - 1, -1):\\n        si = s[i] - 97\\n        if si >= 0:\\n            c[si] += 1\\n            s0 += 1\\n\\n    for i in range(start_index, -1, -1):\\n        si = s[i] - 97\\n        if si >= 0:\\n            c[si] += 1\\n            s0 += 1\\n        u = i + m - 1\\n        if u < n:\\n            for j in range(k):\\n                if not c[j] ^ s0:\\n                    x[j][i] = i\\n                else:\\n                    x[j][i] = x[j][i + 1] if i + 1 < n else inf\\n        su = s[u] - 97 if u < n else -1\\n        if su >= 0:\\n            c[su] -= 1\\n            s0 -= 1\\n\\n    dp = [inf] * l\\n    dp[0] = 0\\n    for i in range(l):\\n        dpi = dp[i]\\n        if dpi >= n:\\n            continue\\n        for j in range(k):\\n            if i & pow2[j]:\\n                continue\\n            u = x[j][dpi] if dpi < n else inf\\n            v = i ^ pow2[j]\\n            dp[v] = min(dp[v], u + m)\\n    return dp[-1] != inf\\n\\ntry:\\n    n, k = map(int, input().split())\\n    s = list(input().rstrip())\\n    if not is_valid_input(n, k, s):\\n        raise ValueError(\"Invalid input values.\")\\nexcept Exception as e:\\n    print(\"Input error:\", e)\\n    sys.exit(1)\\n\\npow2 = [1]\\nfor _ in range(k):\\n    pow2.append(2 * pow2[-1])\\ninf = pow(10, 9) + 1\\nl = pow2[k]\\nx = [[inf] * (n + 1) for _ in range(k)]\\nans = binary_search(0, n // k + 1)\\nprint(ans)\\n        \\'\\'\\',\\n        \\'repair_method\\': \\'修复了输入验证以确保 n、k 范围和 s 字符串合法性。增加了数组访问的边界检查，避免越界读取和写入。\\'\\n    }\\n]'},\n",
       " 'deepseekv3': {'function_description': '实现二分查找优化字符串匹配算法。',\n",
       "  'vulnerability_analysis': \"```json\\n[\\n    {'CWE_Type':'CWE-125', 'CWE_Code':'si = s[i] - 97', 'CWE_Description':'数组访问时未验证索引范围，可能导致越界读取。'},\\n    {'CWE_Type':'CWE-20', 'CWE_Code':'n, k = map(int, input().split())', 'CWE_Description':'未对输入进行充分验证，可能导致无效或恶意输入。'},\\n    {'CWE_Type':'CWE-125', 'CWE_Code':'c = [0] * k', 'CWE_Description':'数组大小依赖于未经验证的输入k，可能导致越界访问。'}\\n]\\n```\",\n",
       "  'repaired_code': '```json\\n[\\n    {\\n        \\'repair_code\\': \\'\\'\\'\\nimport sys, os, io\\ninput = io.BytesIO(os.read(0, os.fstat(0).st_size)).readline\\n\\ndef binary_search(c1, c2):\\n    m = (c1 + c2 + 1) // 2\\n    while abs(c1 - c2) > 1:\\n        m = (c1 + c2 + 1) // 2\\n        if ok(m):\\n            c1 = m\\n        else:\\n            c2 = m\\n    m = max(m - 1, 1)\\n    while ok(m):\\n        m += 1\\n    return m - 1\\n\\ndef ok(m):\\n    c = [0] * k\\n    s0 = 0\\n    for i in range(n - 1, n - m, -1):\\n        if i < 0 or i >= len(s):\\n            continue\\n        si = s[i] - 97\\n        if si >= 0 and si < k:\\n            c[si] += 1\\n            s0 += 1\\n    for i in range(n - m, -1, -1):\\n        if i < 0 or i >= len(s):\\n            continue\\n        si = s[i] - 97\\n        if si >= 0 and si < k:\\n            c[si] += 1\\n            s0 += 1\\n        u = i + m - 1\\n        for j in range(k):\\n            if not c[j] ^ s0:\\n                x[j][i] = i\\n            else:\\n                x[j][i] = x[j][i + 1]\\n        if u < 0 or u >= len(s):\\n            continue\\n        su = s[u] - 97\\n        if su >= 0 and su < k:\\n            c[su] -= 1\\n            s0 -= 1\\n    dp = [inf] * l\\n    dp[0] = 0\\n    for i in range(l):\\n        dpi = dp[i]\\n        if dpi >= n:\\n            continue\\n        for j in range(k):\\n            if i & pow2[j]:\\n                continue\\n            u = x[j][dpi]\\n            v = i ^ pow2[j]\\n            dp[v] = min(dp[v], u + m)\\n    return True if dp[-1] ^ inf else False\\n\\nn, k = map(int, input().split())\\nif n <= 0 or k <= 0:\\n    print(\"Invalid input\")\\n    sys.exit()\\ns = list(input().rstrip())\\npow2 = [1]\\nfor _ in range(k):\\n    pow2.append(2 * pow2[-1])\\ninf = pow(10, 9) + 1\\nl = pow2[k]\\nx = [[inf] * (n + 1) for _ in range(k)]\\nans = binary_search(0, n // k + 1)\\nprint(ans)\\n\\'\\'\\',\\n        \\'repair_method\\': \\'添加数组索引范围检查，验证输入有效性，防止越界访问和无效输入。\\'\\n    }\\n]\\n```'},\n",
       " 'claude3.5-1022': {'function_description': '这段代码实现了一个二分查找算法，用于寻找满足特定字符串条件的最大长度。\\n\\n让我用中文详细分析这段代码的主要部分：\\n\\n1. **整体结构**：\\n- 使用二分查找来寻找最优解\\n- 包含两个主要函数：`binary_search` 和 `ok`\\n- 处理输入的字符串和相关参数\\n\\n2. **关键函数分析**：\\n```python\\ndef binary_search(c1, c2):\\n    # 标准的二分查找实现\\n    # 通过调用 ok() 函数来验证中间值是否满足条件\\n    # ... 代码省略 ...\\n    return m - 1\\n\\ndef ok(m):\\n    # 复杂的验证函数\\n    # 使用动态规划检查给定长度 m 是否满足条件\\n    # ... 代码省略 ...\\n    return True if dp[-1] ^ inf else False\\n```\\n\\n3. **主要数据结构**：\\n```python\\n# 2的幂次表\\npow2 = [1]\\nfor _ in range(k):\\n    pow2.append(2 * pow2[-1])\\n\\n# DP数组和辅助数组\\nx = [[inf] * (n + 1) for _ in range(k)]\\n```\\n\\n这段代码的一些潜在改进建议：\\n\\n1. 代码可读性：\\n- 添加更多的注释来解释算法逻辑\\n- 使用更有意义的变量名（如 `s0`, `si`, `u`, `v` 等可以更具描述性）\\n\\n2. 性能优化：\\n- `ok` 函数中的嵌套循环可能在大规模输入时性能较差\\n- 可以考虑使用更优的数据结构来优化空间复杂度\\n\\n3. 安全性：\\n- 需要添加输入验证\\n- 对于大数据输入可能需要考虑内存限制\\n\\n4. 代码风格：\\n- 可以遵循 PEP 8 规范\\n- 建议添加类型提示以提高代码可维护性',\n",
       "  'vulnerability_analysis': '经过分析，这段代码存在以下潜在安全问题：\\n\\n```json\\n[\\n    {\\n        \"CWE_Type\": \"CWE-20\",\\n        \"CWE_Code\": \"n, k = map(int, input().split())\\\\ns = list(input().rstrip())\",\\n        \"CWE_Description\": \"代码没有对输入参数n和k进行有效性验证，可能导致程序在接收到非预期输入时崩溃或产生未定义行为\"\\n    },\\n    {\\n        \"CWE_Type\": \"CWE-125\",\\n        \"CWE_Code\": \"for i in range(n - 1, n - m, -1):\\\\n    si = s[i] - 97\\\\n    if si >= 0:\",\\n        \"CWE_Description\": \"在ok函数中，对数组s的访问没有进行边界检查，当m值过大时可能导致数组越界读取\"\\n    },\\n    {\\n        \"CWE_Type\": \"CWE-787\",\\n        \"CWE_Code\": \"c[si] += 1\",\\n        \"CWE_Description\": \"在ok函数中，si的值（s[i] - 97）没有上界检查，可能导致数组c的越界写入\"\\n    }\\n]\\n```\\n\\n这些安全问题都是比较严重的，建议：\\n1. 添加输入参数的合法性检查\\n2. 增加数组访问的边界检查\\n3. 对字符ASCII值的计算结果进行范围验证\\n\\n这些修改可以显著提高代码的安全性和稳定性。',\n",
       "  'repaired_code': '```json\\n[\\n    {\\n        \"repair_code\": \"\"\"import sys, os, io\\ninput = io.BytesIO(os.read(0, os.fstat(0).st_size)).readline\\n\\ndef binary_search(c1, c2):\\n    if not (0 <= c1 <= c2):  # 参数验证\\n        raise ValueError(\"Invalid binary search range\")\\n    m = (c1 + c2 + 1) // 2\\n    while abs(c1 - c2) > 1:\\n        m = (c1 + c2 + 1) // 2\\n        if ok(m):\\n            c1 = m\\n        else:\\n            c2 = m\\n    m = max(m - 1, 1)\\n    while ok(m):\\n        m += 1\\n    return m - 1\\n\\ndef ok(m):\\n    if m > n:  # 验证m的合法性\\n        return False\\n        \\n    c = [0] * k\\n    s0 = 0\\n    \\n    # 验证字符的ASCII范围\\n    for char in s:\\n        if not (97 <= ord(char) <= 122) and char != \\'.\\':\\n            raise ValueError(\"Invalid character in input string\")\\n    \\n    for i in range(n - 1, n - m, -1):\\n        if i < 0:  # 边界检查\\n            break\\n        si = ord(s[i]) - 97\\n        if 0 <= si < k:  # 确保索引在合法范围内\\n            c[si] += 1\\n            s0 += 1\\n            \\n    for i in range(n - m, -1, -1):\\n        si = ord(s[i]) - 97\\n        if 0 <= si < k:\\n            c[si] += 1\\n            s0 += 1\\n        u = i + m - 1\\n        if u >= n:  # 边界检查\\n            continue\\n        for j in range(k):\\n            if not c[j] ^ s0:\\n                x[j][i] = i\\n            else:\\n                x[j][i] = x[j][i + 1]\\n        su = ord(s[u]) - 97\\n        if 0 <= su < k:\\n            c[su] -= 1\\n            s0 -= 1\\n            \\n    dp = [inf] * l\\n    dp[0] = 0\\n    for i in range(l):\\n        dpi = dp[i]\\n        if dpi >= n:\\n            continue\\n        for j in range(k):\\n            if i & pow2[j]:\\n                continue\\n            u = x[j][dpi]\\n            v = i ^ pow2[j]\\n            dp[v] = min(dp[v], u + m)\\n    return True if dp[-1] != inf else False\\n\\n# 输入验证\\ntry:\\n    n, k = map(int, input().split())\\n    if not (1 <= n <= 10**5 and 1 <= k <= 20):\\n        raise ValueError(\"Input parameters out of valid range\")\\n        \\n    s = list(input().rstrip())\\n    if len(s) != n:\\n        raise ValueError(\"String length does not match n\")\\n        \\n    pow2 = [1]\\n    for _ in range(k):\\n        pow2.append(2 * pow2[-1])\\n    inf = pow(10, 9) + 1\\n    l = pow2[k]\\n    x = [[inf] * (n + 1) for _ in range(k)]\\n    ans = binary_search(0, n // k + 1)\\n    print(ans)\\n    \\nexcept (ValueError, IndexError) as e:\\n    print(f\"Error: {e}\")\\n    sys.exit(1)\"\"\",\\n        \"repair_method\": \"1. 添加输入参数n和k的范围验证 2. 增加字符串长度和字符合法性检查 3. 在数组访问前添加边界检查 4. 对ASCII值计算结果添加范围验证 5. 使用异常处理机制处理错误情况\"\\n    }\\n]\\n```'},\n",
       " 'gemini1.5-pro-latest': {'function_description': '该代码实现了一个字符串划分算法，在满足特定条件下，找到字符串的最长划分长度。 \\n',\n",
       "  'vulnerability_analysis': \"```json\\n[\\n  {\\n    'CWE_Type': 'CWE-787',\\n    'CWE_Code': 'for i in range(n - 1, n - m, -1):\\\\n        si = s[i] - 97\\\\n        if si >= 0:\\\\n            c[si] += 1\\\\n            s0 += 1',\\n    'CWE_Description': '代码中存在越界写入的风险，当 `n - m` 小于 0 时，`i` 会小于 0，导致数组 `s` 越界访问。'\\n  },\\n  {\\n    'CWE_Type': 'CWE-787',\\n    'CWE_Code': 'for i in range(n - m, -1, -1):\\\\n        si = s[i] - 97\\\\n        if si >= 0:\\\\n            c[si] += 1\\\\n            s0 += 1',\\n    'CWE_Description': '代码中存在越界写入的风险，当 `n - m` 小于 0 时，`i` 会小于 0，导致数组 `s` 越界访问。'\\n  },\\n  {\\n    'CWE_Type': 'CWE-787',\\n    'CWE_Code': 'for j in range(k):\\\\n            if not c[j] ^ s0:\\\\n                x[j][i] = i\\\\n            else:\\\\n                x[j][i] = x[j][i + 1]',\\n    'CWE_Description': '代码中存在越界写入的风险，当 `i + 1` 大于 `n + 1` 时，`x[j][i + 1]` 会越界访问。'\\n  },\\n  {\\n    'CWE_Type': 'CWE-787',\\n    'CWE_Code': 'for j in range(k):\\\\n            if i & pow2[j]:\\\\n                continue\\\\n            u = x[j][dpi]\\\\n            v = i ^ pow2[j]\\\\n            dp[v] = min(dp[v], u + m)',\\n    'CWE_Description': '代码中存在越界写入的风险，当 `v` 大于 `l` 时，`dp[v]` 会越界访问。'\\n  }\\n]\\n```\\n\\n**解释:**\\n\\n- 代码中存在多个潜在的越界写入漏洞 (CWE-787)。\\n- 在 `ok()` 函数中的循环语句中，存在对数组 `s` 和 `x` 的越界访问风险，当 `n - m` 小于 0 或 `i + 1` 大于 `n + 1` 时。\\n- 在 `ok()` 函数的最后循环中，当 `v` 大于 `l` 时，可能导致对 `dp` 数组的越界访问。\\n\\n**修复建议:**\\n\\n- 在循环开始前添加必要的边界检查，确保访问的索引不会超出数组的范围。\\n- 使用更加安全的编程实践，例如使用安全的容器类或者使用边界检查函数来避免越界访问。\\n\",\n",
       "  'repaired_code': \"```json\\n[\\n    {\\n        'repair_code': 'import sys, os, io\\\\ninput = io.BytesIO(os.read(0, os.fstat(0).st_size)).readline\\\\n\\\\ndef binary_search(c1, c2):\\\\n    m = (c1 + c2 + 1) // 2\\\\n    while abs(c1 - c2) > 1:\\\\n        m = (c1 + c2 + 1) // 2\\\\n        if ok(m):\\\\n            c1 = m\\\\n        else:\\\\n            c2 = m\\\\n    m = max(m - 1, 1)\\\\n    while ok(m):\\\\n        m += 1\\\\n    return m - 1\\\\n\\\\ndef ok(m):\\\\n    c = [0] * k\\\\n    s0 = 0\\\\n    if m > n:  # 添加边界检查\\\\n        return False\\\\n    for i in range(n - 1, n - m, -1):\\\\n        if i < 0:  # 添加边界检查\\\\n            break\\\\n        si = s[i] - 97\\\\n        if si >= 0:\\\\n            c[si] += 1\\\\n            s0 += 1\\\\n    for i in range(n - m, -1, -1):\\\\n        if i < 0:  # 添加边界检查\\\\n            break\\\\n        si = s[i] - 97\\\\n        if si >= 0:\\\\n            c[si] += 1\\\\n            s0 += 1\\\\n        u = i + m - 1\\\\n        if u >= n:  # 添加边界检查\\\\n            break\\\\n        for j in range(k):\\\\n            if not c[j] ^ s0:\\\\n                x[j][i] = i\\\\n            else:\\\\n                x[j][i] = x[j][i + 1] if i + 1 <= n else inf  # 修复越界访问\\\\n        su = s[u] - 97\\\\n        if su >= 0:\\\\n            c[su] -= 1\\\\n            s0 -= 1\\\\n    dp = [inf] * l\\\\n    dp[0] = 0\\\\n    for i in range(l):\\\\n        dpi = dp[i]\\\\n        if dpi >= n:\\\\n            continue\\\\n        for j in range(k):\\\\n            if i & pow2[j]:\\\\n                continue\\\\n            u = x[j][dpi]\\\\n            v = i ^ pow2[j]\\\\n            if v < l:  # 添加边界检查\\\\n                dp[v] = min(dp[v], u + m)\\\\n    return True if dp[-1] ^ inf else False\\\\n\\\\nn, k = map(int, input().split())\\\\ns = list(input().rstrip())\\\\npow2 = [1]\\\\nfor _ in range(k):\\\\n    pow2.append(2 * pow2[-1])\\\\ninf = pow(10, 9) + 1\\\\nl = pow2[k]\\\\nx = [[inf] * (n + 1) for _ in range(k)]\\\\nans = binary_search(0, n // k + 1)\\\\nprint(ans)',\\n        'repair_method': '在循环和条件判断中添加了边界检查，确保索引不会越界访问数组。'\\n    }\\n]\\n```\"},\n",
       " 'yi-lightning': {'function_description': '实现二分搜索以寻找满足条件的最大值，涉及字符统计与动态规划。\\n\\nCWE-129: 未对数组索引进行正确验证（`x[j][i]`, `x[j][i + 1]`等）。\\nCWE-682: 不准确的数值运算（`m - 1`, `m + 1`等潜在溢出）。\\nCWE-476: 空指针解引用风险（`ok`函数内`c[si]`可能越界）。',\n",
       "  'vulnerability_analysis': \"```plaintext\\n[\\n   {'CWE_Type':'CWE-129','CWE_Code':'x[j][i]','CWE_Description':'未对数组索引进行正确验证，可能导致越界访问。'},\\n   \\n   {'CWE_Type':'CWE-125','CWE_Code':'s[i] / s[u]','CWE_Description':'在访问数组元素时可能导致越界读取。'},\\n   \\n   {'CWE_Type':'CWE-20','CWE_Code':'ok(m)','CWE_Description':'对输入参数m的验证不充分，可能导致逻辑错误。'},\\n   \\n   {'CWE_Type':'CWE-416','CWE_Code':'c[si] -= 1 / c[si] += 1','CWE_Description':'对已释放或无效内存的操作可能导致使用后释放（Use After Free）。'}\\n]\\n```\",\n",
       "  'repaired_code': \"```plaintext\\n[\\n    {\\n        'repair_code': '''import sys, os, io\\ninput = io.BytesIO(os.read(0, os.fstat(0).st_size)).readline\\n\\ndef binary_search(c1, c2):\\n    m = (c1 + c2 + 1) // 2\\n    while abs(c1 - c2) > 1:\\n        m = (c1 + c2 + 1) // 2\\n        if ok(m):\\n            c1 = m\\n        else:\\n            c2 = m\\n    m = max(m - 1, 1)\\n    while ok(m):\\n        m += 1\\n    return m - 1\\n\\ndef ok(m):\\n    # 添加边界检查，确保索引不会越界\\n    if m > n or m < 0:\\n        return False\\n    \\n    c = [0] * k\\n    s0 = 0\\n    for i in range(n - 1, n - m, -1):\\n        si = s[i] - 97\\n        if 0 <= si < k:  # 检查数组索引是否在有效范围内\\n            c[si] += 1\\n            s0 += 1\\n    for i in range(n - m, -1, -1):\\n        si = s[i] - 97\\n        if 0 <= si < k:  # 检查数组索引是否在有效范围内\\n            c[si] += 1\\n            s0 += 1\\n        u = i + m - 1\\n        for j in range(k):\\n            if 0 <= j < k and 0 <= i < n:  # 检查二维数组索引是否在有效范围内\\n                if not c[j] ^ s0:\\n                    x[j][i] = i\\n                else:\\n                    x[j][i] = x[j][i + 1]\\n        su = s[u] - 97\\n        if 0 <= su < k:  # 检查数组索引是否在有效范围内\\n            c[su] -= 1\\n            s0 -= 1\\n    dp = [inf] * l\\n    dp[0] = 0\\n    for i in range(l):\\n        dpi = dp[i]\\n        if dpi < n:  # 添加检查，防止越界访问\\n            for j in range(k):\\n                if i & pow2[j]:\\n                    continue\\n                u = x[j][dpi]\\n                v = i ^ pow2[j]\\n                dp[v] = min(dp[v], u + m)\\n    return dp[-1] != inf\\n\\nn, k = map(int, input().split())\\ns = list(input().rstrip())\\npow2 = [1]\\nfor _ in range(k):\\n    pow2.append(2 * pow2[-1])\\ninf = 10**9 + 1\\nl = pow2[k]\\nx = [[inf] * (n + 1) for _ in range(k)]\\nans = binary_search(0, n // k + 1)\\nprint(ans)''',\\n        'repair_method': '通过添加数组索引的边界检查，确保访问数组元素时不会越界，修复了CWE-129和CWE-125类型的漏洞。同时对ok函数的输入参数进行了有效性验证，修复了CWE-20和CWE-416类型的漏洞。'\\n    }\\n]\\n```\"},\n",
       " 'source': 'Python_461356.json'}"
      ]
     },
     "execution_count": 49,
     "metadata": {},
     "output_type": "execute_result"
    }
   ],
   "source": [
    "with open('./small_sample_output_dir/split0_output_summary_five_models.json','r') as f:\n",
    "    data = json.load(f)\n",
    "\n",
    "data[0]"
   ]
  },
  {
   "cell_type": "code",
   "execution_count": 51,
   "metadata": {},
   "outputs": [],
   "source": [
    "# 先统计总共出现了多少个CWE类型\n",
    "statistics_data = []\n",
    "model_list = ['gpt4o', 'deepseekv3', 'claude3.5-1022', 'gemini1.5-pro-latest', 'yi-lightning']\n",
    "for index, item in enumerate(data):\n",
    "    js = {\n",
    "        'index': index,\n",
    "        'question': item['question'],\n",
    "        'cwe_list': {\n",
    "            'gpt4o': [],\n",
    "            'deepseekv3': [],\n",
    "            'claude3.5-1022': [],\n",
    "            'gemini1.5-pro-latest': [],\n",
    "            'yi-lightning': []\n",
    "        },\n",
    "        'cwe_count': {\n",
    "            'gpt4o': 0,\n",
    "            'deepseekv3': 0,\n",
    "            'claude3.5-1022': 0,\n",
    "            'gemini1.5-pro-latest': 0,\n",
    "            'yi-lightning': 0\n",
    "        }\n",
    "    }\n",
    "    for model in model_list:\n",
    "        cwe_list = get_cwe_list(item[model]['vulnerability_analysis'])\n",
    "        js['cwe_list'][model] = cwe_list\n",
    "        js['cwe_count'][model] = len(cwe_list)\n",
    "    statistics_data.append(js)"
   ]
  },
  {
   "cell_type": "code",
   "execution_count": 53,
   "metadata": {},
   "outputs": [
    {
     "data": {
      "text/plain": [
       "({'CWE-20': 2297,\n",
       "  'CWE-125': 1941,\n",
       "  'CWE-787': 1311,\n",
       "  'CWE-129': 28,\n",
       "  'CWE-416': 216,\n",
       "  'CWE-476': 33,\n",
       "  'CWE-755': 1,\n",
       "  'CWE-561': 12,\n",
       "  'CWE-788': 3,\n",
       "  'CWE-other': 80,\n",
       "  'CWE-789': 6,\n",
       "  'CWE-22': 106,\n",
       "  'CWE-457': 38,\n",
       "  'CWE-400': 26,\n",
       "  'CWE-252': 5,\n",
       "  'CWE-522': 3,\n",
       "  'CWE-459': 9,\n",
       "  'CWE-362': 6,\n",
       "  'CWE-390': 1,\n",
       "  'CWE-352': 36,\n",
       "  'CWE-209': 20,\n",
       "  'CWE-404': 13,\n",
       "  'CWE-601': 3,\n",
       "  'CWE-79': 51,\n",
       "  'CWE-434': 32,\n",
       "  'CWE-674': 5,\n",
       "  'CWE-190': 42,\n",
       "  'CWE-197': 4,\n",
       "  'CWE-682': 2,\n",
       "  'CWE-369': 5,\n",
       "  'CWE-691': 1,\n",
       "  'CWE-248': 10,\n",
       "  'CWE-396': 4,\n",
       "  'CWE-665': 5,\n",
       "  'CWE-401': 9,\n",
       "  'CWE-284': 2,\n",
       "  'CWE-502': 4,\n",
       "  'CWE-681': 1,\n",
       "  'CWE-121': 1,\n",
       "  'CWE-834': 1,\n",
       "  'CWE-664': 1,\n",
       "  'CWE-89': 23,\n",
       "  'CWE-703': 2,\n",
       "  'CWE-412': 1,\n",
       "  'CWE-120': 13,\n",
       "  'CWE-398': 3,\n",
       "  'CWE-470': 2,\n",
       "  'CWE-732': 5,\n",
       "  'CWE-835': 2,\n",
       "  'CWE-676': 3,\n",
       "  'CWE-563': 1,\n",
       "  'CWE-642': 1,\n",
       "  'CWE-366': 2,\n",
       "  'CWE-119': 10,\n",
       "  'CWE-134': 2,\n",
       "  'CWE-200': 2,\n",
       "  'CWE-758': 3,\n",
       "  'CWE-226': 1,\n",
       "  'CWE-273': 1,\n",
       "  'CWE-918': 1,\n",
       "  'CWE-391': 3,\n",
       "  'CWE-484': 2,\n",
       "  'CWE-778': 1,\n",
       "  'CWE-785': 1,\n",
       "  'CWE-394': 1,\n",
       "  'CWE-395': 1,\n",
       "  'CWE-78': 11,\n",
       "  'CWE-597': 2,\n",
       "  'CWE-414': 1,\n",
       "  'CWE-833': 1,\n",
       "  'CWE-367': 2,\n",
       "  'CWE-1339': 1,\n",
       "  'CWE-749': 2,\n",
       "  'CWE-704': 2,\n",
       "  'CWE-306': 1,\n",
       "  'CWE-680': 1,\n",
       "  'CWE-570': 1,\n",
       "  'CWE-23': 1,\n",
       "  'CWE-126': 1,\n",
       "  'CWE-477': 1,\n",
       "  'CWE-359': 1,\n",
       "  'CWE-798': 1,\n",
       "  'CWE-475': 1,\n",
       "  'CWE-562': 1,\n",
       "  'CWE-498': 1,\n",
       "  'CWE-242': 1},\n",
       " 86)"
      ]
     },
     "execution_count": 53,
     "metadata": {},
     "output_type": "execute_result"
    }
   ],
   "source": [
    "cwe_count = {}\n",
    "for item in statistics_data:\n",
    "    for model in model_list:\n",
    "        for cwe in item['cwe_list'][model]:\n",
    "            cwe_count[cwe] = cwe_count.get(cwe, 0) + 1\n",
    "\n",
    "cwe_count,len(cwe_count.keys())"
   ]
  },
  {
   "cell_type": "code",
   "execution_count": 54,
   "metadata": {},
   "outputs": [
    {
     "data": {
      "text/plain": [
       "{'index': 0,\n",
       " 'question': 'import sys, os, io\\r\\ninput = io.BytesIO(os.read(0, os.fstat(0).st_size)).readline\\r\\n\\r\\ndef binary_search(c1, c2):\\r\\n    m = (c1 + c2 + 1) // 2\\r\\n    while abs(c1 - c2) > 1:\\r\\n        m = (c1 + c2 + 1) // 2\\r\\n        if ok(m):\\r\\n            c1 = m\\r\\n        else:\\r\\n            c2 = m\\r\\n    m = max(m - 1, 1)\\r\\n    while ok(m):\\r\\n        m += 1\\r\\n    return m - 1\\r\\n\\r\\ndef ok(m):\\r\\n    c = [0] * k\\r\\n    s0 = 0\\r\\n    for i in range(n - 1, n - m, -1):\\r\\n        si = s[i] - 97\\r\\n        if si >= 0:\\r\\n            c[si] += 1\\r\\n            s0 += 1\\r\\n    for i in range(n - m, -1, -1):\\r\\n        si = s[i] - 97\\r\\n        if si >= 0:\\r\\n            c[si] += 1\\r\\n            s0 += 1\\r\\n        u = i + m - 1\\r\\n        for j in range(k):\\r\\n            if not c[j] ^ s0:\\r\\n                x[j][i] = i\\r\\n            else:\\r\\n                x[j][i] = x[j][i + 1]\\r\\n        su = s[u] - 97\\r\\n        if su >= 0:\\r\\n            c[su] -= 1\\r\\n            s0 -= 1\\r\\n    dp = [inf] * l\\r\\n    dp[0] = 0\\r\\n    for i in range(l):\\r\\n        dpi = dp[i]\\r\\n        if dpi >= n:\\r\\n            continue\\r\\n        for j in range(k):\\r\\n            if i & pow2[j]:\\r\\n                continue\\r\\n            u = x[j][dpi]\\r\\n            v = i ^ pow2[j]\\r\\n            dp[v] = min(dp[v], u + m)\\r\\n    return True if dp[-1] ^ inf else False\\r\\n\\r\\nn, k = map(int, input().split())\\r\\ns = list(input().rstrip())\\r\\npow2 = [1]\\r\\nfor _ in range(k):\\r\\n    pow2.append(2 * pow2[-1])\\r\\ninf = pow(10, 9) + 1\\r\\nl = pow2[k]\\r\\nx = [[inf] * (n + 1) for _ in range(k)]\\r\\nans = binary_search(0, n // k + 1)\\r\\nprint(ans)',\n",
       " 'cwe_list': {'gpt4o': ['CWE-20', 'CWE-125', 'CWE-125', 'CWE-787', 'CWE-20'],\n",
       "  'deepseekv3': ['CWE-125', 'CWE-20', 'CWE-125'],\n",
       "  'claude3.5-1022': ['CWE-20', 'CWE-125', 'CWE-787'],\n",
       "  'gemini1.5-pro-latest': ['CWE-787',\n",
       "   'CWE-787',\n",
       "   'CWE-787',\n",
       "   'CWE-787',\n",
       "   'CWE-787'],\n",
       "  'yi-lightning': ['CWE-129', 'CWE-125', 'CWE-20', 'CWE-416']},\n",
       " 'cwe_count': {'gpt4o': 5,\n",
       "  'deepseekv3': 3,\n",
       "  'claude3.5-1022': 3,\n",
       "  'gemini1.5-pro-latest': 5,\n",
       "  'yi-lightning': 4}}"
      ]
     },
     "execution_count": 54,
     "metadata": {},
     "output_type": "execute_result"
    }
   ],
   "source": [
    "statistics_data[0]"
   ]
  },
  {
   "cell_type": "code",
   "execution_count": 56,
   "metadata": {},
   "outputs": [
    {
     "data": {
      "text/plain": [
       "['CWE-20',\n",
       " 'CWE-125',\n",
       " 'CWE-787',\n",
       " 'CWE-129',\n",
       " 'CWE-416',\n",
       " 'CWE-476',\n",
       " 'CWE-755',\n",
       " 'CWE-561',\n",
       " 'CWE-788',\n",
       " 'CWE-other',\n",
       " 'CWE-789',\n",
       " 'CWE-22',\n",
       " 'CWE-457',\n",
       " 'CWE-400',\n",
       " 'CWE-252',\n",
       " 'CWE-522',\n",
       " 'CWE-459',\n",
       " 'CWE-362',\n",
       " 'CWE-390',\n",
       " 'CWE-352',\n",
       " 'CWE-209',\n",
       " 'CWE-404',\n",
       " 'CWE-601',\n",
       " 'CWE-79',\n",
       " 'CWE-434',\n",
       " 'CWE-674',\n",
       " 'CWE-190',\n",
       " 'CWE-197',\n",
       " 'CWE-682',\n",
       " 'CWE-369',\n",
       " 'CWE-691',\n",
       " 'CWE-248',\n",
       " 'CWE-396',\n",
       " 'CWE-665',\n",
       " 'CWE-401',\n",
       " 'CWE-284',\n",
       " 'CWE-502',\n",
       " 'CWE-681',\n",
       " 'CWE-121',\n",
       " 'CWE-834',\n",
       " 'CWE-664',\n",
       " 'CWE-89',\n",
       " 'CWE-703',\n",
       " 'CWE-412',\n",
       " 'CWE-120',\n",
       " 'CWE-398',\n",
       " 'CWE-470',\n",
       " 'CWE-732',\n",
       " 'CWE-835',\n",
       " 'CWE-676',\n",
       " 'CWE-563',\n",
       " 'CWE-642',\n",
       " 'CWE-366',\n",
       " 'CWE-119',\n",
       " 'CWE-134',\n",
       " 'CWE-200',\n",
       " 'CWE-758',\n",
       " 'CWE-226',\n",
       " 'CWE-273',\n",
       " 'CWE-918',\n",
       " 'CWE-391',\n",
       " 'CWE-484',\n",
       " 'CWE-778',\n",
       " 'CWE-785',\n",
       " 'CWE-394',\n",
       " 'CWE-395',\n",
       " 'CWE-78',\n",
       " 'CWE-597',\n",
       " 'CWE-414',\n",
       " 'CWE-833',\n",
       " 'CWE-367',\n",
       " 'CWE-1339',\n",
       " 'CWE-749',\n",
       " 'CWE-704',\n",
       " 'CWE-306',\n",
       " 'CWE-680',\n",
       " 'CWE-570',\n",
       " 'CWE-23',\n",
       " 'CWE-126',\n",
       " 'CWE-477',\n",
       " 'CWE-359',\n",
       " 'CWE-798',\n",
       " 'CWE-475',\n",
       " 'CWE-562',\n",
       " 'CWE-498',\n",
       " 'CWE-242']"
      ]
     },
     "execution_count": 56,
     "metadata": {},
     "output_type": "execute_result"
    }
   ],
   "source": [
    "cwe_keys = list(cwe_count.keys())\n",
    "# 将cwe_keys转换为数字\n",
    "cwe_keys_to_number = {cwe: i for i, cwe in enumerate(cwe_keys)}\n",
    "cwe_keys"
   ]
  },
  {
   "cell_type": "code",
   "execution_count": null,
   "metadata": {},
   "outputs": [
    {
     "data": {
      "text/plain": [
       "array([[[1., 1., 1., ..., 0., 0., 0.],\n",
       "        [1., 1., 0., ..., 0., 0., 0.],\n",
       "        [1., 1., 1., ..., 0., 0., 0.],\n",
       "        [0., 0., 1., ..., 0., 0., 0.],\n",
       "        [1., 1., 0., ..., 0., 0., 0.]],\n",
       "\n",
       "       [[0., 0., 0., ..., 0., 0., 0.],\n",
       "        [0., 0., 0., ..., 0., 0., 0.],\n",
       "        [1., 1., 0., ..., 0., 0., 0.],\n",
       "        [1., 1., 0., ..., 0., 0., 0.],\n",
       "        [1., 0., 0., ..., 0., 0., 0.]],\n",
       "\n",
       "       [[0., 0., 0., ..., 0., 0., 0.],\n",
       "        [0., 0., 0., ..., 0., 0., 0.],\n",
       "        [1., 0., 0., ..., 0., 0., 0.],\n",
       "        [0., 0., 0., ..., 0., 0., 0.],\n",
       "        [0., 1., 0., ..., 0., 0., 0.]],\n",
       "\n",
       "       ...,\n",
       "\n",
       "       [[1., 1., 1., ..., 0., 0., 0.],\n",
       "        [1., 1., 0., ..., 0., 0., 0.],\n",
       "        [1., 1., 1., ..., 0., 0., 0.],\n",
       "        [0., 0., 1., ..., 0., 0., 0.],\n",
       "        [1., 1., 0., ..., 0., 0., 0.]],\n",
       "\n",
       "       [[1., 1., 0., ..., 0., 0., 0.],\n",
       "        [1., 1., 0., ..., 0., 0., 0.],\n",
       "        [1., 1., 0., ..., 0., 0., 0.],\n",
       "        [0., 0., 1., ..., 0., 0., 0.],\n",
       "        [0., 1., 0., ..., 0., 0., 0.]],\n",
       "\n",
       "       [[1., 1., 1., ..., 0., 0., 0.],\n",
       "        [1., 1., 0., ..., 0., 0., 0.],\n",
       "        [1., 1., 0., ..., 0., 0., 0.],\n",
       "        [0., 0., 1., ..., 0., 0., 0.],\n",
       "        [0., 1., 0., ..., 0., 0., 0.]]])"
      ]
     },
     "execution_count": 60,
     "metadata": {},
     "output_type": "execute_result"
    }
   ],
   "source": [
    "# 是一个三维的矩阵，横轴为86个cwe类型的数量，纵轴为5，深度为500，纵轴表示5个模型，如gpt4o,deepseekv3,claude3.5-1022,gemini1.5-pro-latest,yi-lightning，，横轴表示CWE类型，深度表示500条数据，矩阵的值为0或1，表示该模型是否是该CWE类型，如果结果中有这个CWE类型，则voting_matrix_3d[0][0][0] = 1，其他为0\n",
    "import numpy as np\n",
    "voting_matrix_3d = np.zeros((500, 5, 86))\n",
    "\n",
    "MODEL_TO_INDEX = {model: i for i, model in enumerate(model_list)}\n",
    "\n",
    "for index, item in enumerate(statistics_data):\n",
    "    for model in model_list:\n",
    "        for cwe in item['cwe_list'][model]:\n",
    "            voting_matrix_3d[index][MODEL_TO_INDEX[model]][cwe_keys_to_number[cwe]] = 1\n",
    "\n",
    "voting_matrix_3d"
   ]
  }
 ],
 "metadata": {
  "kernelspec": {
   "display_name": "bert",
   "language": "python",
   "name": "python3"
  },
  "language_info": {
   "codemirror_mode": {
    "name": "ipython",
    "version": 3
   },
   "file_extension": ".py",
   "mimetype": "text/x-python",
   "name": "python",
   "nbconvert_exporter": "python",
   "pygments_lexer": "ipython3",
   "version": "3.9.20"
  }
 },
 "nbformat": 4,
 "nbformat_minor": 2
}
