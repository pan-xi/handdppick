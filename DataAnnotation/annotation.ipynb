{
 "cells": [
  {
   "cell_type": "code",
   "execution_count": null,
   "metadata": {},
   "outputs": [],
   "source": [
    "import requests\n",
    "import json\n",
    "with open('./DataAnnotation/gpt-4o-errors.json','r') as f:\n",
    "    all_data = json.load(f)\n",
    "for element in all_data:\n",
    "        system_prompt_list = [\n",
    "            \"\"\"\n",
    "            Role: 高级代码审查专家\n",
    "            Profile\n",
    "            description: 担任资深代码审查专家，负责对代码进行人工按顺序走查，识别潜在的安全缺陷，\n",
    "            并给出具体的CWE类型，直接给出规定格式的结果，不需要额外的解释。\n",
    "                \"\"\",\n",
    "                \"\"\"\n",
    "                Role: 高级代码审查专家\n",
    "                Profile\n",
    "                description: 担任资深代码审查专家，负责对代码进行人工按顺序走查，识别潜在的安全缺陷，\n",
    "                并给出具体的CWE类型，直接给出规定格式的结果，不需要额外的解释。\n",
    "\n",
    "                Skills\n",
    "                - 熟悉常见的软件安全漏洞和CWE (Common Weakness Enumeration) 列表\n",
    "                - 具备代码静态分析和人工代码走查的能力\n",
    "                - 能够识别多种编程语言的潜在安全风险\n",
    "                - 能够清晰地描述安全缺陷并给出CWE类型\n",
    "                - 能够理解并应用安全编程最佳实践\n",
    "\n",
    "                Background:\n",
    "                - 具备多年软件开发和代码安全审查经验\n",
    "                - 熟悉常见的软件安全标准和规范\n",
    "\n",
    "                Constraints\n",
    "                - 严格按照代码执行顺序进行审查\n",
    "                - 审查报告需清晰简洁，避免使用模糊的描述\n",
    "                - 必须充分理解代码逻辑，避免误判和漏判\n",
    "                \"\"\",\n",
    "                \"\"\"\n",
    "                Role: 资深的代码修复专家\n",
    "\n",
    "                Profile\n",
    "                - description: 你是一名资深的代码修复专家，你需要根据上文提供的代码、代码功能以及代码缺陷CWE类型，对代码中存在的CWE类型进行修复。\n",
    "\n",
    "                Skills\n",
    "\n",
    "                - 精通各种编程语言，包括但不限于C/C++、Java、Python、JavaScript等。\n",
    "                - 深入理解各种常见的代码缺陷类型（CWE），并能准确识别代码中存在的安全漏洞。\n",
    "                - 能够根据代码功能、上下文和CWE类型，提出有效的代码修复方案。\n",
    "                - 能够清晰地解释代码缺陷产生的原因和修复方案的原理。\n",
    "                - 能够编写高质量、安全的代码，并进行充分的测试验证。\n",
    "\n",
    "                Goals\n",
    "\n",
    "                - 准确识别并修复代码中存在的指定CWE类型的缺陷。\n",
    "                - 确保修复后的代码能够正常实现原有功能。\n",
    "                - 提供清晰的修复说明和建议，帮助开发者理解并避免类似问题。\n",
    "\n",
    "                Constraints\n",
    "\n",
    "                - 修复方案必须针对指定的CWE类型。\n",
    "                - 修复后的代码必须保持原有的编程语言和代码风格。\n",
    "                - 必须清晰解释修复思路和原理。\n",
    "                \"\"\"\n",
    "        ]\n",
    "        history = [\n",
    "                {\"role\": \"user\", \"content\": f\"请仔细阅读以下代码，请用不超过三十个字来描述这段代码的功能:\\n{element['question']}\"}\n",
    "        ]\n",
    "        count = 0\n",
    "        prompt = [{\"role\": \"system\", \"content\": system_prompt_list[count]}] + history\n",
    "        count += 1\n",
    "        function_description = element['function_description']\n",
    "        history.append({\"role\": \"assistant\", \"content\": f\"{function_description}\"})\n",
    "        analysis_prompt_temp = [\n",
    "                {\"role\": \"user\", \"content\": f\"\"\"请根据上述代码及信息，是否存在任何潜在的软件漏洞或缺陷？如果有，请详细描述漏洞的成因，并尝试指出可能的CWE类型（CWE Top10CWE-other），缺陷原因，产生缺陷的代码【可能存在多行代码】，CWE-Top10解释如下：重点关注以及CWE-787（越界写入）、CWE-79（在Web页面生成时对输入的转义处理不恰当）、CWE-89（SQL注入问题）、CWE-416（内存安全：释放后使用）、CWE-78（OS命令注入）、CWE-20（不正确的输入验证）、CWE-125（越界读取）、CWE-22（文件处理；对路径名的限制不恰当）、CWE-352（数据真实性验证不足；跨站请求伪造）、CWE-434（危险类型文件的不加限制上传）。\n",
    "                请按照如下格式给出答案：\n",
    "                如果代码中不存在缺陷，则输出：{{'CWE_Type':'pass!'}}\\n\n",
    "                如果代码中存在缺陷，则输出：\\n\n",
    "                [\n",
    "                {{'CWE_Type':''# 指CWE类型, 'CWE_Code':''# 指具有缺陷的代码, 'CWE_Description':''# 中文解释}},\\n\n",
    "                {{'CWE_Type':''# 指CWE类型, 'CWE_Code':''# 指具有缺陷的代码, 'CWE_Description':''# 中文解释}}\n",
    "                ]\"\"\"\n",
    "                }\n",
    "        ]\n",
    "        history.extend(analysis_prompt_temp)\n",
    "        prompt = [{\"role\": \"system\", \"content\": system_prompt_list[count]}] + history\n",
    "        count += 1\n",
    "        vulnerability_analysis = element['vulnerability_analysis']\n",
    "        history.append({\"role\": \"assistant\", \"content\": f\"{vulnerability_analysis}\"})\n",
    "        repair_prompt_temp = [\n",
    "                {\"role\": \"user\", \"content\": f\"\"\"\n",
    "                基于以上的代码漏洞分析和代码，给出修改之后的代码（主要是完整代码），并给出简要的修复方法(指你是如何修复的)，不需要再进行额外的解释。\n",
    "                请你按照如下格式给出答案：\n",
    "                [\n",
    "                {{'repair_code':'',  # 修复后完整的代码\n",
    "                'repair_method':'' # 中文解释\n",
    "                }},\\n\n",
    "                ]\n",
    "                \"\"\"}\n",
    "        ]\n",
    "        history.extend(repair_prompt_temp)\n",
    "        prompt = [{\"role\": \"system\", \"content\": system_prompt_list[count]}] + history\n",
    "\n",
    "        headers = {\n",
    "                'Content-Type': 'application/json',\n",
    "                'Authorization': f'Bearer sk-xXMFNG7h4SNXqOOw6KfeRm4zNfK6euk9DMsuHAlbLBcMEczm'\n",
    "        }\n",
    "        data = {\n",
    "                \"model\": 'gpt-4o',\n",
    "                \"messages\": prompt,\n",
    "                \"temperature\": 0.00\n",
    "        }\n",
    "        response = requests.post('https://fastapi.aabao.top/v1/chat/completions', headers=headers, json=data, stream=True)\n",
    "        element['repaired_code'] = response.json()['choices'][0]['message']['content'].replace('\\n', '\\\\n')"
   ]
  },
  {
   "cell_type": "code",
   "execution_count": 7,
   "metadata": {},
   "outputs": [
    {
     "data": {
      "text/plain": [
       "{'question': 'private void loadGlobalSettings(android.database.sqlite.SQLiteDatabase db) {\\n    android.database.sqlite.SQLiteStatement stmt = null;\\n    try {\\n        stmt = db.compileStatement((\"INSERT OR IGNORE INTO global(name,value)\" + \" VALUES(?,?);\"));\\n        loadBooleanSetting(stmt, Settings.Global.AIRPLANE_MODE_ON, R.bool.def_airplane_mode_on);\\n        loadStringSetting(stmt, Settings.Global.AIRPLANE_MODE_RADIOS, R.string.def_airplane_mode_radios);\\n        loadStringSetting(stmt, Settings.Global.AIRPLANE_MODE_TOGGLEABLE_RADIOS, R.string.airplane_mode_toggleable_radios);\\n        loadBooleanSetting(stmt, Settings.Global.ASSISTED_GPS_ENABLED, R.bool.assisted_gps_enabled);\\n        loadBooleanSetting(stmt, Settings.Global.AUTO_TIME, R.bool.def_auto_time);\\n        loadBooleanSetting(stmt, Settings.Global.AUTO_TIME_ZONE, R.bool.def_auto_time_zone);\\n        loadSetting(stmt, Settings.Global.STAY_ON_WHILE_PLUGGED_IN, ((\"1\".equals(android.os.SystemProperties.get(\"ro.kernel.qemu\"))) || (mContext.getResources().getBoolean(R.bool.def_stay_on_while_plugged_in)) ? 1 : 0));\\n        loadIntegerSetting(stmt, Settings.Global.WIFI_SLEEP_POLICY, R.integer.def_wifi_sleep_policy);\\n        loadSetting(stmt, Settings.Global.MODE_RINGER, AudioManager.RINGER_MODE_NORMAL);\\n        loadBooleanSetting(stmt, Settings.Global.PACKAGE_VERIFIER_ENABLE, R.bool.def_package_verifier_enable);\\n        loadBooleanSetting(stmt, Settings.Global.WIFI_ON, R.bool.def_wifi_on);\\n        loadBooleanSetting(stmt, Settings.Global.WIFI_NETWORKS_AVAILABLE_NOTIFICATION_ON, R.bool.def_networks_available_notification_on);\\n        loadBooleanSetting(stmt, Settings.Global.BLUETOOTH_ON, R.bool.def_bluetooth_on);\\n        loadSetting(stmt, Settings.Global.CDMA_CELL_BROADCAST_SMS, RILConstants.CDMA_CELL_BROADCAST_SMS_DISABLED);\\n        loadSetting(stmt, Settings.Global.DATA_ROAMING, (\"true\".equalsIgnoreCase(android.os.SystemProperties.get(\"ro.com.android.dataroaming\", \"false\")) ? 1 : 0));\\n        loadBooleanSetting(stmt, Settings.Global.DEVICE_PROVISIONED, R.bool.def_device_provisioned);\\n        final int maxBytes = mContext.getResources().getInteger(R.integer.def_download_manager_max_bytes_over_mobile);\\n        if (maxBytes > 0) {\\n            loadSetting(stmt, Settings.Global.DOWNLOAD_MAX_BYTES_OVER_MOBILE, java.lang.Integer.toString(maxBytes));\\n        }\\n        final int recommendedMaxBytes = mContext.getResources().getInteger(R.integer.def_download_manager_recommended_max_bytes_over_mobile);\\n        if (recommendedMaxBytes > 0) {\\n            loadSetting(stmt, Settings.Global.DOWNLOAD_RECOMMENDED_MAX_BYTES_OVER_MOBILE, java.lang.Integer.toString(recommendedMaxBytes));\\n        }\\n        loadSetting(stmt, Settings.Global.MOBILE_DATA, (\"true\".equalsIgnoreCase(android.os.SystemProperties.get(\"ro.com.android.mobiledata\", \"true\")) ? 1 : 0));\\n        for (int phoneId = 0; phoneId < (com.android.providers.settings.DatabaseHelper.MAX_PHONE_COUNT); phoneId++) {\\n            loadSetting(stmt, ((android.provider.Settings.Global.MOBILE_DATA) + phoneId), (\"true\".equalsIgnoreCase(android.os.SystemProperties.get(\"ro.com.android.mobiledata\", \"true\")) ? 1 : 0));\\n            loadSetting(stmt, ((android.provider.Settings.Global.DATA_ROAMING) + phoneId), (\"true\".equalsIgnoreCase(android.os.SystemProperties.get(\"ro.com.android.dataroaming\", \"true\")) ? 1 : 0));\\n        }\\n        loadBooleanSetting(stmt, Settings.Global.NETSTATS_ENABLED, R.bool.def_netstats_enabled);\\n        loadBooleanSetting(stmt, Settings.Global.USB_MASS_STORAGE_ENABLED, R.bool.def_usb_mass_storage_enabled);\\n        loadIntegerSetting(stmt, Settings.Global.WIFI_MAX_DHCP_RETRY_COUNT, R.integer.def_max_dhcp_retries);\\n        loadBooleanSetting(stmt, Settings.Global.WIFI_DISPLAY_ON, R.bool.def_wifi_display_on);\\n        loadStringSetting(stmt, Settings.Global.LOCK_SOUND, R.string.def_lock_sound);\\n        loadStringSetting(stmt, Settings.Global.UNLOCK_SOUND, R.string.def_unlock_sound);\\n        loadStringSetting(stmt, Settings.Global.TRUSTED_SOUND, R.string.def_trusted_sound);\\n        loadIntegerSetting(stmt, Settings.Global.POWER_SOUNDS_ENABLED, R.integer.def_power_sounds_enabled);\\n        loadStringSetting(stmt, Settings.Global.LOW_BATTERY_SOUND, R.string.def_low_battery_sound);\\n        loadIntegerSetting(stmt, Settings.Global.DOCK_SOUNDS_ENABLED, R.integer.def_dock_sounds_enabled);\\n        loadStringSetting(stmt, Settings.Global.DESK_DOCK_SOUND, R.string.def_desk_dock_sound);\\n        loadStringSetting(stmt, Settings.Global.DESK_UNDOCK_SOUND, R.string.def_desk_undock_sound);\\n        loadStringSetting(stmt, Settings.Global.CAR_DOCK_SOUND, R.string.def_car_dock_sound);\\n        loadStringSetting(stmt, Settings.Global.CAR_UNDOCK_SOUND, R.string.def_car_undock_sound);\\n        loadStringSetting(stmt, Settings.Global.WIRELESS_CHARGING_STARTED_SOUND, R.string.def_wireless_charging_started_sound);\\n        loadIntegerSetting(stmt, Settings.Global.DOCK_AUDIO_MEDIA_ENABLED, R.integer.def_dock_audio_media_enabled);\\n        loadSetting(stmt, Settings.Global.SET_INSTALL_LOCATION, 0);\\n        loadSetting(stmt, Settings.Global.DEFAULT_INSTALL_LOCATION, PackageHelper.APP_INSTALL_AUTO);\\n        loadSetting(stmt, Settings.Global.EMERGENCY_TONE, 0);\\n        loadSetting(stmt, Settings.Global.CALL_AUTO_RETRY, 0);\\n        final java.lang.String defVal = android.os.SystemProperties.get(\"ro.telephony.default_network\", \"\");\\n        final java.lang.String[] defNetworkSettings = defVal.split(\",\");\\n        final int phoneCount = android.telephony.TelephonyManager.getDefault().getPhoneCount();\\n        final java.lang.String[] networkSettings = new java.lang.String[phoneCount];\\n        boolean error = (defNetworkSettings.length) != phoneCount;\\n        for (int i = 0; i < phoneCount; i++) {\\n            try {\\n                networkSettings[i] = java.lang.String.valueOf(java.lang.Integer.parseInt(defNetworkSettings[i]));\\n            } catch (java.lang.NumberFormatException ex) {\\n                networkSettings[i] = com.android.internal.telephony.RILConstants.PREFERRED_NETWORK_MODE;\\n                error = true;\\n            }\\n        }\\n        if (error) {\\n            android.util.Log.w(com.android.providers.settings.DatabaseHelper.TAG, ((\"Wrong ro.telephony.default_network setting \" + defVal) + \". Fallback to defaults\"));\\n        }\\n        loadSetting(stmt, Settings.Global.PREFERRED_NETWORK_MODE, android.text.TextUtils.join(\",\", networkSettings));\\n        int type = android.os.SystemProperties.getInt(\"ro.telephony.default_cdma_sub\", CdmaSubscriptionSourceManager.PREFERRED_CDMA_SUBSCRIPTION);\\n        loadSetting(stmt, Settings.Global.CDMA_SUBSCRIPTION_MODE, type);\\n        loadIntegerSetting(stmt, Settings.Global.LOW_BATTERY_SOUND_TIMEOUT, R.integer.def_low_battery_sound_timeout);\\n        loadIntegerSetting(stmt, Settings.Global.WIFI_SCAN_ALWAYS_AVAILABLE, R.integer.def_wifi_scan_always_available);\\n        loadIntegerSetting(stmt, Global.HEADS_UP_NOTIFICATIONS_ENABLED, R.integer.def_heads_up_enabled);\\n        loadSetting(stmt, Settings.Global.DEVICE_NAME, getDefaultDeviceName());\\n        loadIntegerSetting(stmt, Settings.Global.SEND_ACTION_APP_ERROR, R.integer.def_send_action_app_error);\\n        loadBooleanSetting(stmt, Settings.Global.GUEST_USER_ENABLED, R.bool.def_guest_user_enabled);\\n        loadIntegerSetting(stmt, Settings.Global.TETHER_DUN_REQUIRED, R.integer.def_tether_dun_required);\\n    } finally {\\n        if (stmt != null)\\n            stmt.close();\\n        \\n    }\\n}',\n",
       " 'function_description': '初始化并加载全局设置到SQLite数据库中的global表。',\n",
       " 'vulnerability_analysis': '[\\n   {\\'CWE_Type\\':\\'CWE-89\\', \\'CWE_Code\\':\\'stmt = db.compileStatement((\"INSERT OR IGNORE INTO global(name,value)\" + \" VALUES(?,?);\"));\\', \\'CWE_Description\\':\\'SQL语句中存在SQL注入风险，可能通过用户输入影响SQL执行。\\'},\\n\\n   {\\'CWE_Type\\':\\'CWE-20\\', \\'CWE_Code\\':\\'networkSettings[i] = java.lang.String.valueOf(java.lang.Integer.parseInt(defNetworkSettings[i]));\\', \\'CWE_Description\\':\\'对输入的网络设置缺乏有效验证，可能导致运行时异常。\\'}\\n]',\n",
       " 'repaired_code': '[\\\\n{\\'repair_code\\':\\'\\'\\'\\\\nprivate void loadGlobalSettings(android.database.sqlite.SQLiteDatabase db) {\\\\n    android.database.sqlite.SQLiteStatement stmt = null;\\\\n    try {\\\\n        String insertQuery = \"INSERT OR IGNORE INTO global(name,value) VALUES(?,?);\";\\\\n        stmt = db.compileStatement(insertQuery);\\\\n        loadBooleanSetting(stmt, Settings.Global.AIRPLANE_MODE_ON, R.bool.def_airplane_mode_on);\\\\n        loadStringSetting(stmt, Settings.Global.AIRPLANE_MODE_RADIOS, R.string.def_airplane_mode_radios);\\\\n        loadStringSetting(stmt, Settings.Global.AIRPLANE_MODE_TOGGLEABLE_RADIOS, R.string.airplane_mode_toggleable_radios);\\\\n        loadBooleanSetting(stmt, Settings.Global.ASSISTED_GPS_ENABLED, R.bool.assisted_gps_enabled);\\\\n        loadBooleanSetting(stmt, Settings.Global.AUTO_TIME, R.bool.def_auto_time);\\\\n        loadBooleanSetting(stmt, Settings.Global.AUTO_TIME_ZONE, R.bool.def_auto_time_zone);\\\\n        loadSetting(stmt, Settings.Global.STAY_ON_WHILE_PLUGGED_IN, ((\"1\".equals(android.os.SystemProperties.get(\"ro.kernel.qemu\"))) || (mContext.getResources().getBoolean(R.bool.def_stay_on_while_plugged_in)) ? 1 : 0));\\\\n        loadIntegerSetting(stmt, Settings.Global.WIFI_SLEEP_POLICY, R.integer.def_wifi_sleep_policy);\\\\n        loadSetting(stmt, Settings.Global.MODE_RINGER, AudioManager.RINGER_MODE_NORMAL);\\\\n        loadBooleanSetting(stmt, Settings.Global.PACKAGE_VERIFIER_ENABLE, R.bool.def_package_verifier_enable);\\\\n        loadBooleanSetting(stmt, Settings.Global.WIFI_ON, R.bool.def_wifi_on);\\\\n        loadBooleanSetting(stmt, Settings.Global.WIFI_NETWORKS_AVAILABLE_NOTIFICATION_ON, R.bool.def_networks_available_notification_on);\\\\n        loadBooleanSetting(stmt, Settings.Global.BLUETOOTH_ON, R.bool.def_bluetooth_on);\\\\n        loadSetting(stmt, Settings.Global.CDMA_CELL_BROADCAST_SMS, RILConstants.CDMA_CELL_BROADCAST_SMS_DISABLED);\\\\n        loadSetting(stmt, Settings.Global.DATA_ROAMING, (\"true\".equalsIgnoreCase(android.os.SystemProperties.get(\"ro.com.android.dataroaming\", \"false\")) ? 1 : 0));\\\\n        loadBooleanSetting(stmt, Settings.Global.DEVICE_PROVISIONED, R.bool.def_device_provisioned);\\\\n        final int maxBytes = mContext.getResources().getInteger(R.integer.def_download_manager_max_bytes_over_mobile);\\\\n        if (maxBytes > 0) {\\\\n            loadSetting(stmt, Settings.Global.DOWNLOAD_MAX_BYTES_OVER_MOBILE, java.lang.Integer.toString(maxBytes));\\\\n        }\\\\n        final int recommendedMaxBytes = mContext.getResources().getInteger(R.integer.def_download_manager_recommended_max_bytes_over_mobile);\\\\n        if (recommendedMaxBytes > 0) {\\\\n            loadSetting(stmt, Settings.Global.DOWNLOAD_RECOMMENDED_MAX_BYTES_OVER_MOBILE, java.lang.Integer.toString(recommendedMaxBytes));\\\\n        }\\\\n        loadSetting(stmt, Settings.Global.MOBILE_DATA, (\"true\".equalsIgnoreCase(android.os.SystemProperties.get(\"ro.com.android.mobiledata\", \"true\")) ? 1 : 0));\\\\n        for (int phoneId = 0; phoneId < (com.android.providers.settings.DatabaseHelper.MAX_PHONE_COUNT); phoneId++) {\\\\n            loadSetting(stmt, ((android.provider.Settings.Global.MOBILE_DATA) + phoneId), (\"true\".equalsIgnoreCase(android.os.SystemProperties.get(\"ro.com.android.mobiledata\", \"true\")) ? 1 : 0));\\\\n            loadSetting(stmt, ((android.provider.Settings.Global.DATA_ROAMING) + phoneId), (\"true\".equalsIgnoreCase(android.os.SystemProperties.get(\"ro.com.android.dataroaming\", \"true\")) ? 1 : 0));\\\\n        }\\\\n        loadBooleanSetting(stmt, Settings.Global.NETSTATS_ENABLED, R.bool.def_netstats_enabled);\\\\n        loadBooleanSetting(stmt, Settings.Global.USB_MASS_STORAGE_ENABLED, R.bool.def_usb_mass_storage_enabled);\\\\n        loadIntegerSetting(stmt, Settings.Global.WIFI_MAX_DHCP_RETRY_COUNT, R.integer.def_max_dhcp_retries);\\\\n        loadBooleanSetting(stmt, Settings.Global.WIFI_DISPLAY_ON, R.bool.def_wifi_display_on);\\\\n        loadStringSetting(stmt, Settings.Global.LOCK_SOUND, R.string.def_lock_sound);\\\\n        loadStringSetting(stmt, Settings.Global.UNLOCK_SOUND, R.string.def_unlock_sound);\\\\n        loadStringSetting(stmt, Settings.Global.TRUSTED_SOUND, R.string.def_trusted_sound);\\\\n        loadIntegerSetting(stmt, Settings.Global.POWER_SOUNDS_ENABLED, R.integer.def_power_sounds_enabled);\\\\n        loadStringSetting(stmt, Settings.Global.LOW_BATTERY_SOUND, R.string.def_low_battery_sound);\\\\n        loadIntegerSetting(stmt, Settings.Global.DOCK_SOUNDS_ENABLED, R.integer.def_dock_sounds_enabled);\\\\n        loadStringSetting(stmt, Settings.Global.DESK_DOCK_SOUND, R.string.def_desk_dock_sound);\\\\n        loadStringSetting(stmt, Settings.Global.DESK_UNDOCK_SOUND, R.string.def_desk_undock_sound);\\\\n        loadStringSetting(stmt, Settings.Global.CAR_DOCK_SOUND, R.string.def_car_dock_sound);\\\\n        loadStringSetting(stmt, Settings.Global.CAR_UNDOCK_SOUND, R.string.def_car_undock_sound);\\\\n        loadStringSetting(stmt, Settings.Global.WIRELESS_CHARGING_STARTED_SOUND, R.string.def_wireless_charging_started_sound);\\\\n        loadIntegerSetting(stmt, Settings.Global.DOCK_AUDIO_MEDIA_ENABLED, R.integer.def_dock_audio_media_enabled);\\\\n        loadSetting(stmt, Settings.Global.SET_INSTALL_LOCATION, 0);\\\\n        loadSetting(stmt, Settings.Global.DEFAULT_INSTALL_LOCATION, PackageHelper.APP_INSTALL_AUTO);\\\\n        loadSetting(stmt, Settings.Global.EMERGENCY_TONE, 0);\\\\n        loadSetting(stmt, Settings.Global.CALL_AUTO_RETRY, 0);\\\\n        final java.lang.String defVal = android.os.SystemProperties.get(\"ro.telephony.default_network\", \"\");\\\\n        final java.lang.String[] defNetworkSettings = defVal.split(\",\");\\\\n        final int phoneCount = android.telephony.TelephonyManager.getDefault().getPhoneCount();\\\\n        final java.lang.String[] networkSettings = new java.lang.String[phoneCount];\\\\n        boolean error = (defNetworkSettings.length) != phoneCount;\\\\n        for (int i = 0; i < phoneCount; i++) {\\\\n            try {\\\\n                networkSettings[i] = java.lang.String.valueOf(java.lang.Integer.parseInt(defNetworkSettings[i]));\\\\n            } catch (java.lang.NumberFormatException ex) {\\\\n                networkSettings[i] = com.android.internal.telephony.RILConstants.PREFERRED_NETWORK_MODE;\\\\n                error = true;\\\\n            }\\\\n        }\\\\n        if (error) {\\\\n            android.util.Log.w(com.android.providers.settings.DatabaseHelper.TAG, ((\"Wrong ro.telephony.default_network setting \" + defVal) + \". Fallback to defaults\"));\\\\n        }\\\\n        loadSetting(stmt, Settings.Global.PREFERRED_NETWORK_MODE, android.text.TextUtils.join(\",\", networkSettings));\\\\n        int type = android.os.SystemProperties.getInt(\"ro.telephony.default_cdma_sub\", CdmaSubscriptionSourceManager.PREFERRED_CDMA_SUBSCRIPTION);\\\\n        loadSetting(stmt, Settings.Global.CDMA_SUBSCRIPTION_MODE, type);\\\\n        loadIntegerSetting(stmt, Settings.Global.LOW_BATTERY_SOUND_TIMEOUT, R.integer.def_low_battery_sound_timeout);\\\\n        loadIntegerSetting(stmt, Settings.Global.WIFI_SCAN_ALWAYS_AVAILABLE, R.integer.def_wifi_scan_always_available);\\\\n        loadIntegerSetting(stmt, Global.HEADS_UP_NOTIFICATIONS_ENABLED, R.integer.def_heads_up_enabled);\\\\n        loadSetting(stmt, Settings.Global.DEVICE_NAME, getDefaultDeviceName());\\\\n        loadIntegerSetting(stmt, Settings.Global.SEND_ACTION_APP_ERROR, R.integer.def_send_action_app_error);\\\\n        loadBooleanSetting(stmt, Settings.Global.GUEST_USER_ENABLED, R.bool.def_guest_user_enabled);\\\\n        loadIntegerSetting(stmt, Settings.Global.TETHER_DUN_REQUIRED, R.integer.def_tether_dun_required);\\\\n    } finally {\\\\n        if (stmt != null)\\\\n            stmt.close();\\\\n    }\\\\n}\\\\n\\'\\'\\',\\\\n \\'repair_method\\':\\'通过参数化查询防止SQL注入；添加异常处理，确保输入验证。\\'\\\\n}\\\\n]\\\\n',\n",
       " 'source': 'BFP_Java_1190331.json',\n",
       " 'fixed_code': 'private void loadGlobalSettings(android.database.sqlite.SQLiteDatabase db) {\\n    android.database.sqlite.SQLiteStatement stmt = null;\\n    try {\\n        stmt = db.compileStatement((\"INSERT OR IGNORE INTO global(name,value)\" + \" VALUES(?,?);\"));\\n        loadBooleanSetting(stmt, Settings.Global.AIRPLANE_MODE_ON, R.bool.def_airplane_mode_on);\\n        loadStringSetting(stmt, Settings.Global.AIRPLANE_MODE_RADIOS, R.string.def_airplane_mode_radios);\\n        loadStringSetting(stmt, Settings.Global.AIRPLANE_MODE_TOGGLEABLE_RADIOS, R.string.airplane_mode_toggleable_radios);\\n        loadBooleanSetting(stmt, Settings.Global.ASSISTED_GPS_ENABLED, R.bool.assisted_gps_enabled);\\n        loadBooleanSetting(stmt, Settings.Global.AUTO_TIME, R.bool.def_auto_time);\\n        loadBooleanSetting(stmt, Settings.Global.AUTO_TIME_ZONE, R.bool.def_auto_time_zone);\\n        loadSetting(stmt, Settings.Global.STAY_ON_WHILE_PLUGGED_IN, ((\"1\".equals(android.os.SystemProperties.get(\"ro.kernel.qemu\"))) || (mContext.getResources().getBoolean(R.bool.def_stay_on_while_plugged_in)) ? 1 : 0));\\n        loadIntegerSetting(stmt, Settings.Global.WIFI_SLEEP_POLICY, R.integer.def_wifi_sleep_policy);\\n        loadSetting(stmt, Settings.Global.MODE_RINGER, AudioManager.RINGER_MODE_NORMAL);\\n        loadBooleanSetting(stmt, Settings.Global.PACKAGE_VERIFIER_ENABLE, R.bool.def_package_verifier_enable);\\n        loadBooleanSetting(stmt, Settings.Global.WIFI_ON, R.bool.def_wifi_on);\\n        loadBooleanSetting(stmt, Settings.Global.WIFI_NETWORKS_AVAILABLE_NOTIFICATION_ON, R.bool.def_networks_available_notification_on);\\n        loadBooleanSetting(stmt, Settings.Global.BLUETOOTH_ON, R.bool.def_bluetooth_on);\\n        loadSetting(stmt, Settings.Global.CDMA_CELL_BROADCAST_SMS, RILConstants.CDMA_CELL_BROADCAST_SMS_DISABLED);\\n        loadSetting(stmt, Settings.Global.DATA_ROAMING, (\"true\".equalsIgnoreCase(android.os.SystemProperties.get(\"ro.com.android.dataroaming\", \"false\")) ? 1 : 0));\\n        loadBooleanSetting(stmt, Settings.Global.DEVICE_PROVISIONED, R.bool.def_device_provisioned);\\n        final int maxBytes = mContext.getResources().getInteger(R.integer.def_download_manager_max_bytes_over_mobile);\\n        if (maxBytes > 0) {\\n            loadSetting(stmt, Settings.Global.DOWNLOAD_MAX_BYTES_OVER_MOBILE, java.lang.Integer.toString(maxBytes));\\n        }\\n        final int recommendedMaxBytes = mContext.getResources().getInteger(R.integer.def_download_manager_recommended_max_bytes_over_mobile);\\n        if (recommendedMaxBytes > 0) {\\n            loadSetting(stmt, Settings.Global.DOWNLOAD_RECOMMENDED_MAX_BYTES_OVER_MOBILE, java.lang.Integer.toString(recommendedMaxBytes));\\n        }\\n        loadSetting(stmt, Settings.Global.MOBILE_DATA, (\"true\".equalsIgnoreCase(android.os.SystemProperties.get(\"ro.com.android.mobiledata\", \"true\")) ? 1 : 0));\\n        for (int phoneId = 0; phoneId < (com.android.providers.settings.DatabaseHelper.MAX_PHONE_COUNT); phoneId++) {\\n            loadSetting(stmt, ((android.provider.Settings.Global.MOBILE_DATA) + phoneId), (\"true\".equalsIgnoreCase(android.os.SystemProperties.get(\"ro.com.android.mobiledata\", \"true\")) ? 1 : 0));\\n            loadSetting(stmt, ((android.provider.Settings.Global.DATA_ROAMING) + phoneId), (\"true\".equalsIgnoreCase(android.os.SystemProperties.get(\"ro.com.android.dataroaming\", \"true\")) ? 1 : 0));\\n        }\\n        loadBooleanSetting(stmt, Settings.Global.NETSTATS_ENABLED, R.bool.def_netstats_enabled);\\n        loadBooleanSetting(stmt, Settings.Global.USB_MASS_STORAGE_ENABLED, R.bool.def_usb_mass_storage_enabled);\\n        loadIntegerSetting(stmt, Settings.Global.WIFI_MAX_DHCP_RETRY_COUNT, R.integer.def_max_dhcp_retries);\\n        loadBooleanSetting(stmt, Settings.Global.WIFI_DISPLAY_ON, R.bool.def_wifi_display_on);\\n        loadStringSetting(stmt, Settings.Global.LOCK_SOUND, R.string.def_lock_sound);\\n        loadStringSetting(stmt, Settings.Global.UNLOCK_SOUND, R.string.def_unlock_sound);\\n        loadStringSetting(stmt, Settings.Global.TRUSTED_SOUND, R.string.def_trusted_sound);\\n        loadIntegerSetting(stmt, Settings.Global.POWER_SOUNDS_ENABLED, R.integer.def_power_sounds_enabled);\\n        loadStringSetting(stmt, Settings.Global.LOW_BATTERY_SOUND, R.string.def_low_battery_sound);\\n        loadIntegerSetting(stmt, Settings.Global.DOCK_SOUNDS_ENABLED, R.integer.def_dock_sounds_enabled);\\n        loadStringSetting(stmt, Settings.Global.DESK_DOCK_SOUND, R.string.def_desk_dock_sound);\\n        loadStringSetting(stmt, Settings.Global.DESK_UNDOCK_SOUND, R.string.def_desk_undock_sound);\\n        loadStringSetting(stmt, Settings.Global.CAR_DOCK_SOUND, R.string.def_car_dock_sound);\\n        loadStringSetting(stmt, Settings.Global.CAR_UNDOCK_SOUND, R.string.def_car_undock_sound);\\n        loadStringSetting(stmt, Settings.Global.WIRELESS_CHARGING_STARTED_SOUND, R.string.def_wireless_charging_started_sound);\\n        loadIntegerSetting(stmt, Settings.Global.DOCK_AUDIO_MEDIA_ENABLED, R.integer.def_dock_audio_media_enabled);\\n        loadSetting(stmt, Settings.Global.SET_INSTALL_LOCATION, 0);\\n        loadSetting(stmt, Settings.Global.DEFAULT_INSTALL_LOCATION, PackageHelper.APP_INSTALL_AUTO);\\n        loadSetting(stmt, Settings.Global.EMERGENCY_TONE, 0);\\n        loadSetting(stmt, Settings.Global.CALL_AUTO_RETRY, 0);\\n        final java.lang.String defVal = android.os.SystemProperties.get(\"ro.telephony.default_network\", \"\");\\n        final java.lang.String[] defNetworkSettings = defVal.split(\",\");\\n        final int phoneCount = android.telephony.TelephonyManager.getDefault().getPhoneCount();\\n        final java.lang.String[] networkSettings = new java.lang.String[phoneCount];\\n        boolean error = (defNetworkSettings.length) != phoneCount;\\n        for (int i = 0; i < phoneCount; i++) {\\n            try {\\n                networkSettings[i] = java.lang.String.valueOf(java.lang.Integer.parseInt(defNetworkSettings[i]));\\n            } catch (java.lang.NumberFormatException ex) {\\n                networkSettings[i] = java.lang.String.valueOf(RILConstants.PREFERRED_NETWORK_MODE);\\n                error = true;\\n            }\\n        }\\n        if (error) {\\n            android.util.Log.w(com.android.providers.settings.DatabaseHelper.TAG, ((\"Wrong ro.telephony.default_network setting \" + defVal) + \". Fallback to defaults\"));\\n        }\\n        loadSetting(stmt, Settings.Global.PREFERRED_NETWORK_MODE, android.text.TextUtils.join(\",\", networkSettings));\\n        int type = android.os.SystemProperties.getInt(\"ro.telephony.default_cdma_sub\", CdmaSubscriptionSourceManager.PREFERRED_CDMA_SUBSCRIPTION);\\n        loadSetting(stmt, Settings.Global.CDMA_SUBSCRIPTION_MODE, type);\\n        loadIntegerSetting(stmt, Settings.Global.LOW_BATTERY_SOUND_TIMEOUT, R.integer.def_low_battery_sound_timeout);\\n        loadIntegerSetting(stmt, Settings.Global.WIFI_SCAN_ALWAYS_AVAILABLE, R.integer.def_wifi_scan_always_available);\\n        loadIntegerSetting(stmt, Global.HEADS_UP_NOTIFICATIONS_ENABLED, R.integer.def_heads_up_enabled);\\n        loadSetting(stmt, Settings.Global.DEVICE_NAME, getDefaultDeviceName());\\n        loadIntegerSetting(stmt, Settings.Global.SEND_ACTION_APP_ERROR, R.integer.def_send_action_app_error);\\n        loadBooleanSetting(stmt, Settings.Global.GUEST_USER_ENABLED, R.bool.def_guest_user_enabled);\\n        loadIntegerSetting(stmt, Settings.Global.TETHER_DUN_REQUIRED, R.integer.def_tether_dun_required);\\n    } finally {\\n        if (stmt != null)\\n            stmt.close();\\n        \\n    }\\n}'}"
      ]
     },
     "execution_count": 7,
     "metadata": {},
     "output_type": "execute_result"
    }
   ],
   "source": [
    "all_data[0]"
   ]
  },
  {
   "cell_type": "code",
   "execution_count": null,
   "metadata": {},
   "outputs": [],
   "source": [
    "with open('./Annotation/results/split2_output_gpt--4o.json', 'r') as f:\n",
    "    original_data = json.load(f)\n",
    "for element in all_data:\n",
    "    for item in original_data:\n",
    "        if item['question'] == element['question']:\n",
    "            item['repaired_code'] = element['repaired_code']\n",
    "with open('./Annotation/results/split2_output_gpt--4o_all.json', 'w') as f:\n",
    "    json.dump(original_data, f, indent=4, ensure_ascii=False)\n"
   ]
  },
  {
   "cell_type": "code",
   "execution_count": 16,
   "metadata": {},
   "outputs": [
    {
     "name": "stdout",
     "output_type": "stream",
     "text": [
      "[\n",
      "    {'repair_code': '''\n",
      "#include <bits/stdc++.h>\n",
      "\n",
      "using namespace std;\n",
      "\n",
      "#define FAST ios_base::sync_with_stdio(false); cin.tie(NULL); cout.tie(NULL);\n",
      "#define ll long long\n",
      "#define ull unsigned long long\n",
      "#define pi 2*acos(0.0)\n",
      "#define readl(v,n) for(ll i=0;i<n;i++) {ll val; cin>>val; v.pb(val);}\n",
      "#define readi(v,n) for(int i=0;i<n;i++) {int val; cin>>val; v.pb(val);}\n",
      "#define srt(v) sort(v.begin(), v.end());\n",
      "#define rsrt(v) sort(v.rbegin(), v.rend());\n",
      "#define MIN(v) *min_element(v.begin(), v.end())\n",
      "#define MAX(v) *max_element(v.begin(), v.end())\n",
      "#define sz(x) ((ll) (x).size())\n",
      "#define all(x) (x).begin(), (x).end()\n",
      "#define rep(i, a, b) for(ll i = (a); i < (b); i++)\n",
      "#define rep2(i, a, b) for(ll i = (a); i <= (b); i++)\n",
      "#define vll vector <ll>\n",
      "#define vii vector <int>\n",
      "#define pii pair <int, int>\n",
      "#define pll pair <ll, ll>\n",
      "#define M 1000007\n",
      "#define MOD 1000000007\n",
      "#define pb push_back\n",
      "#define mp make_pair\n",
      "#define ff first\n",
      "#define ss second\n",
      "#define endl \"\\\\n\"\n",
      "#define inf 1000000000000000000\n",
      "#define ninf -1000000000000000000\n",
      "#define deb(n) cout<<\"--\"<<(n)<<\"--\"<<endl\n",
      "#define debx(x) cout << #x << \" = \" << (x) << endl\n",
      "#define deb2(a,b) cout<<(a)<<\"----\"<<(b)<<endl\n",
      "#define debv(v) for(auto x: v) {cout<<x<<\", \";} cout<<endl;\n",
      "#define put(n) cout<<(n)<<endl\n",
      "#define toDecimal(s) bitset<64>(s).to_ullong()\n",
      "#define toBinaryStr(n) bitset<64>(n).to_string()\n",
      "#define toBinary(n) stoll(bitset<64>(n).to_string())\n",
      "\n",
      "/*\n",
      "    ---- take notes here ----\n",
      "    \n",
      "*/\n",
      "\n",
      "void solve()\n",
      "{\n",
      "    ll n,k; cin>>n>>k;\n",
      "    ll x=0;\n",
      "    ll r=1; // Initialize r with a non-zero value to avoid infinite loop\n",
      "    while(r)\n",
      "    {\n",
      "        cout<<x<<endl;\n",
      "        cout.flush();\n",
      "        if(x==1) x=n-1;\n",
      "        else x/=2;\n",
      "        r = x; // Update r to terminate the loop when x becomes 0.\n",
      "    }\n",
      "}\n",
      "\n",
      "int main()\n",
      "{\n",
      "    FAST\n",
      "    int t = 1;\n",
      "    cin >> t;\n",
      "    while(t--)\n",
      "    {\n",
      "        solve();    \n",
      "    }\n",
      "\n",
      "    return 0;\n",
      "}\n",
      "    ''',\n",
      "    'repair_method': '通过初始化r为1，并在循环内部更新，以避免死循环问题。'}\n",
      "]\n",
      "\n"
     ]
    }
   ],
   "source": [
    "print(response.json()['choices'][0]['message']['content'])"
   ]
  },
  {
   "cell_type": "code",
   "execution_count": 17,
   "metadata": {},
   "outputs": [
    {
     "name": "stdout",
     "output_type": "stream",
     "text": [
      "[\\n    {'repair_code': '''\\n#include <bits/stdc++.h>\\n\\nusing namespace std;\\n\\n#define FAST ios_base::sync_with_stdio(false); cin.tie(NULL); cout.tie(NULL);\\n#define ll long long\\n#define ull unsigned long long\\n#define pi 2*acos(0.0)\\n#define readl(v,n) for(ll i=0;i<n;i++) {ll val; cin>>val; v.pb(val);}\\n#define readi(v,n) for(int i=0;i<n;i++) {int val; cin>>val; v.pb(val);}\\n#define srt(v) sort(v.begin(), v.end());\\n#define rsrt(v) sort(v.rbegin(), v.rend());\\n#define MIN(v) *min_element(v.begin(), v.end())\\n#define MAX(v) *max_element(v.begin(), v.end())\\n#define sz(x) ((ll) (x).size())\\n#define all(x) (x).begin(), (x).end()\\n#define rep(i, a, b) for(ll i = (a); i < (b); i++)\\n#define rep2(i, a, b) for(ll i = (a); i <= (b); i++)\\n#define vll vector <ll>\\n#define vii vector <int>\\n#define pii pair <int, int>\\n#define pll pair <ll, ll>\\n#define M 1000007\\n#define MOD 1000000007\\n#define pb push_back\\n#define mp make_pair\\n#define ff first\\n#define ss second\\n#define endl \"\\\\n\"\\n#define inf 1000000000000000000\\n#define ninf -1000000000000000000\\n#define deb(n) cout<<\"--\"<<(n)<<\"--\"<<endl\\n#define debx(x) cout << #x << \" = \" << (x) << endl\\n#define deb2(a,b) cout<<(a)<<\"----\"<<(b)<<endl\\n#define debv(v) for(auto x: v) {cout<<x<<\", \";} cout<<endl;\\n#define put(n) cout<<(n)<<endl\\n#define toDecimal(s) bitset<64>(s).to_ullong()\\n#define toBinaryStr(n) bitset<64>(n).to_string()\\n#define toBinary(n) stoll(bitset<64>(n).to_string())\\n\\n/*\\n    ---- take notes here ----\\n    \\n*/\\n\\nvoid solve()\\n{\\n    ll n,k; cin>>n>>k;\\n    ll x=0;\\n    ll r=1; // Initialize r with a non-zero value to avoid infinite loop\\n    while(r)\\n    {\\n        cout<<x<<endl;\\n        cout.flush();\\n        if(x==1) x=n-1;\\n        else x/=2;\\n        r = x; // Update r to terminate the loop when x becomes 0.\\n    }\\n}\\n\\nint main()\\n{\\n    FAST\\n    int t = 1;\\n    cin >> t;\\n    while(t--)\\n    {\\n        solve();    \\n    }\\n\\n    return 0;\\n}\\n    ''',\\n    'repair_method': '通过初始化r为1，并在循环内部更新，以避免死循环问题。'}\\n]\\n\n"
     ]
    }
   ],
   "source": [
    "# 将response.json()['choices'][0]['message']['content']转成string，保留换行符\n",
    "print(response.json()['choices'][0]['message']['content'].replace('\\n', '\\\\n'))"
   ]
  },
  {
   "cell_type": "code",
   "execution_count": null,
   "metadata": {},
   "outputs": [],
   "source": [
    "import json\n",
    "with open('./Annotation/results/split2_random_model_sample_output_with_fixed_code.json', 'r') as f:\n",
    "    data1 = json.load(f)\n",
    "for item in data1:\n",
    "    if item['question'] == dt['question']:\n",
    "        item['repaired_code'] = response.json()['choices'][0]['message']['content'].replace('\\n', '\\\\n')\n",
    "with open('./Annotation/results/split2_random_model_sample_output_with_fixed_code.json', 'w') as f:\n",
    "    json.dump(data1, f, indent=4, ensure_ascii=False)\n"
   ]
  },
  {
   "cell_type": "code",
   "execution_count": 19,
   "metadata": {},
   "outputs": [
    {
     "data": {
      "text/plain": [
       "{'model': 'gpt-4o',\n",
       " 'messages': [{'role': 'system',\n",
       "   'content': '\\n        Role: 资深的代码修复专家\\n\\n        Profile\\n        - description: 你是一名资深的代码修复专家，你需要根据上文提供的代码、代码功能以及代码缺陷CWE类型，对代码中存在的CWE类型进行修复。\\n\\n        Skills\\n\\n        - 精通各种编程语言，包括但不限于C/C++、Java、Python、JavaScript等。\\n        - 深入理解各种常见的代码缺陷类型（CWE），并能准确识别代码中存在的安全漏洞。\\n        - 能够根据代码功能、上下文和CWE类型，提出有效的代码修复方案。\\n        - 能够清晰地解释代码缺陷产生的原因和修复方案的原理。\\n        - 能够编写高质量、安全的代码，并进行充分的测试验证。\\n\\n        Goals\\n\\n        - 准确识别并修复代码中存在的指定CWE类型的缺陷。\\n        - 确保修复后的代码能够正常实现原有功能。\\n        - 提供清晰的修复说明和建议，帮助开发者理解并避免类似问题。\\n\\n        Constraints\\n\\n        - 修复方案必须针对指定的CWE类型。\\n        - 修复后的代码必须保持原有的编程语言和代码风格。\\n        - 必须清晰解释修复思路和原理。\\n        '},\n",
       "  {'role': 'user',\n",
       "   'content': '请仔细阅读以下代码，请用不超过三十个字来描述这段代码的功能:\\n#include <bits/stdc++.h>\\r\\n\\r\\nusing namespace std;\\r\\n\\r\\n#define FAST ios_base::sync_with_stdio(false); cin.tie(NULL); cout.tie(NULL);\\r\\n#define ll long long\\r\\n#define ull unsigned long long\\r\\n#define pi 2*acos(0.0)\\r\\n#define readl(v,n) for(ll i=0;i<n;i++) {ll val; cin>>val; v.pb(val);}\\r\\n#define readi(v,n) for(int i=0;i<n;i++) {int val; cin>>val; v.pb(val);}\\r\\n#define srt(v) sort(v.begin(), v.end());\\r\\n#define rsrt(v) sort(v.rbegin(), v.rend());\\r\\n#define MIN(v) *min_element(v.begin(), v.end())\\r\\n#define MAX(v) *max_element(v.begin(), v.end())\\r\\n#define sz(x) ((ll) (x).size())\\r\\n#define all(x) (x).begin(), (x).end()\\r\\n#define rep(i, a, b) for(ll i = (a); i < (b); i++)\\r\\n#define rep2(i, a, b) for(ll i = (a); i <= (b); i++)\\r\\n#define vll vector <ll>\\r\\n#define vii vector <int>\\r\\n#define pii pair <int, int>\\r\\n#define pll pair <ll, ll>\\r\\n#define M 1000007\\r\\n#define MOD 1000000007\\r\\n#define pb push_back\\r\\n#define mp make_pair\\r\\n#define ff first\\r\\n#define ss second\\r\\n#define endl \"\\\\n\"\\r\\n#define inf 1000000000000000000\\r\\n#define ninf -1000000000000000000\\r\\n#define deb(n) cout<<\"--\"<<(n)<<\"--\"<<endl\\r\\n#define debx(x) cout << #x << \" = \" << (x) << endl\\r\\n#define deb2(a,b) cout<<(a)<<\"----\"<<(b)<<endl\\r\\n#define debv(v) for(auto x: v) {cout<<x<<\", \";} cout<<endl;\\r\\n#define put(n) cout<<(n)<<endl\\r\\n#define toDecimal(s) bitset<64>(s).to_ullong()\\r\\n#define toBinaryStr(n) bitset<64>(n).to_string()\\r\\n#define toBinary(n) stoll(bitset<64>(n).to_string())\\r\\n\\r\\n/*\\r\\n    ---- take notes here ----\\r\\n    \\r\\n*/\\r\\n\\r\\nvoid solve()\\r\\n{\\r\\n    ll n,k; cin>>n>>k;\\r\\n    ll x=0;\\r\\n    ll r=0;\\r\\n    while(!r)\\r\\n    {\\r\\n        cout<<x<<endl;\\r\\n        cout.flush();\\r\\n        if(x==1) x=n-1;\\r\\n        else x/=2;\\r\\n    }\\r\\n}\\r\\n\\r\\nint main()\\r\\n{\\r\\n    FAST\\r\\n    int t = 1;\\r\\n    cin >> t;\\r\\n    while(t--)\\r\\n    {\\r\\n        solve();    \\r\\n    }\\r\\n\\r\\n    return 0;\\r\\n}'},\n",
       "  {'role': 'assistant', 'content': '该代码实现的是进行t次循环的文本输出。'},\n",
       "  {'role': 'user',\n",
       "   'content': \"请根据上述代码及信息，是否存在任何潜在的软件漏洞或缺陷？如果有，请详细描述漏洞的成因，并尝试指出可能的CWE类型（CWE Top10CWE-other），缺陷原因，产生缺陷的代码【可能存在多行代码】，CWE-Top10解释如下：重点关注以及CWE-787（越界写入）、CWE-79（在Web页面生成时对输入的转义处理不恰当）、CWE-89（SQL注入问题）、CWE-416（内存安全：释放后使用）、CWE-78（OS命令注入）、CWE-20（不正确的输入验证）、CWE-125（越界读取）、CWE-22（文件处理；对路径名的限制不恰当）、CWE-352（数据真实性验证不足；跨站请求伪造）、CWE-434（危险类型文件的不加限制上传）。\\n        请按照如下格式给出答案：\\n        如果代码中不存在缺陷，则输出：{'CWE_Type':'pass!'}\\n\\n        如果代码中存在缺陷，则输出：\\n\\n        [\\n           {'CWE_Type':''# 指CWE类型, 'CWE_Code':''# 指具有缺陷的代码, 'CWE_Description':''# 中文解释},\\n\\n           {'CWE_Type':''# 指CWE类型, 'CWE_Code':''# 指具有缺陷的代码, 'CWE_Description':''# 中文解释}\\n        ]\"},\n",
       "  {'role': 'assistant',\n",
       "   'content': \"[\\n    {'CWE_Type':'CWE-20', 'CWE_Code':'while(!r)', 'CWE_Description':'不正确的输入验证导致死循环，因为r值没有得到更新。'}\\n]\"},\n",
       "  {'role': 'user',\n",
       "   'content': \"\\n        基于以上的代码漏洞分析和代码，给出修改之后的代码（主要是完整代码），并给出简要的修复方法(指你是如何修复的)，不需要再进行额外的解释。\\n        请你按照如下格式给出答案：\\n        [\\n            {'repair_code':'',  # 修复后完整的代码\\n            'repair_method':'' # 中文解释\\n            },\\n\\n        ]\\n        \"}],\n",
       " 'temperature': 0.0}"
      ]
     },
     "execution_count": 19,
     "metadata": {},
     "output_type": "execute_result"
    }
   ],
   "source": [
    "data"
   ]
  },
  {
   "cell_type": "code",
   "execution_count": 21,
   "metadata": {},
   "outputs": [],
   "source": [
    "dt = {\n",
    "        \"question\": \"#include <bits/stdc++.h>\\r\\n\\r\\nusing namespace std;\\r\\n\\r\\n#define FAST ios_base::sync_with_stdio(false); cin.tie(NULL); cout.tie(NULL);\\r\\n#define ll long long\\r\\n#define ull unsigned long long\\r\\n#define pi 2*acos(0.0)\\r\\n#define readl(v,n) for(ll i=0;i<n;i++) {ll val; cin>>val; v.pb(val);}\\r\\n#define readi(v,n) for(int i=0;i<n;i++) {int val; cin>>val; v.pb(val);}\\r\\n#define srt(v) sort(v.begin(), v.end());\\r\\n#define rsrt(v) sort(v.rbegin(), v.rend());\\r\\n#define MIN(v) *min_element(v.begin(), v.end())\\r\\n#define MAX(v) *max_element(v.begin(), v.end())\\r\\n#define sz(x) ((ll) (x).size())\\r\\n#define all(x) (x).begin(), (x).end()\\r\\n#define rep(i, a, b) for(ll i = (a); i < (b); i++)\\r\\n#define rep2(i, a, b) for(ll i = (a); i <= (b); i++)\\r\\n#define vll vector <ll>\\r\\n#define vii vector <int>\\r\\n#define pii pair <int, int>\\r\\n#define pll pair <ll, ll>\\r\\n#define M 1000007\\r\\n#define MOD 1000000007\\r\\n#define pb push_back\\r\\n#define mp make_pair\\r\\n#define ff first\\r\\n#define ss second\\r\\n#define endl \\\"\\\\n\\\"\\r\\n#define inf 1000000000000000000\\r\\n#define ninf -1000000000000000000\\r\\n#define deb(n) cout<<\\\"--\\\"<<(n)<<\\\"--\\\"<<endl\\r\\n#define debx(x) cout << #x << \\\" = \\\" << (x) << endl\\r\\n#define deb2(a,b) cout<<(a)<<\\\"----\\\"<<(b)<<endl\\r\\n#define debv(v) for(auto x: v) {cout<<x<<\\\", \\\";} cout<<endl;\\r\\n#define put(n) cout<<(n)<<endl\\r\\n#define toDecimal(s) bitset<64>(s).to_ullong()\\r\\n#define toBinaryStr(n) bitset<64>(n).to_string()\\r\\n#define toBinary(n) stoll(bitset<64>(n).to_string())\\r\\n\\r\\n/*\\r\\n    ---- take notes here ----\\r\\n    \\r\\n*/\\r\\n\\r\\nvoid solve()\\r\\n{\\r\\n    ll n,k; cin>>n>>k;\\r\\n    ll x=0;\\r\\n    ll r=0;\\r\\n    while(!r)\\r\\n    {\\r\\n        cout<<x<<endl;\\r\\n        cout.flush();\\r\\n        if(x==1) x=n-1;\\r\\n        else x/=2;\\r\\n    }\\r\\n}\\r\\n\\r\\nint main()\\r\\n{\\r\\n    FAST\\r\\n    int t = 1;\\r\\n    cin >> t;\\r\\n    while(t--)\\r\\n    {\\r\\n        solve();    \\r\\n    }\\r\\n\\r\\n    return 0;\\r\\n}\",\n",
    "        \"function_description\": \"该代码实现的是进行t次循环的文本输出。\",\n",
    "        \"vulnerability_analysis\": \"[\\n    {'CWE_Type':'CWE-20', 'CWE_Code':'while(!r)', 'CWE_Description':'不正确的输入验证导致死循环，因为r值没有得到更新。'}\\n]\",\n",
    "        \"repaired_code\": \"[\\n    {\\n        'repair_code':'''\\n#include <bits/stdc++.h>\\n\\nusing namespace std;\\n\\n#define FAST ios_base::sync_with_stdio(false); cin.tie(NULL); cout.tie(NULL);\\n#define ll long long\\n#define ull unsigned long long\\n#define pi 2*acos(0.0)\\n#define readl(v,n) for(ll i=0;i<n;i++) {ll val; cin>>val; v.pb(val);}\\n#define readi(v,n) for(int i=0;i<n;i++) {int val; cin>>val; v.pb(val);}\\n#define srt(v) sort(v.begin(), v.end());\\n#define rsrt(v) sort(v.rbegin(), v.rend());\\n#define MIN(v) *min_element(v.begin(), v.end())\\n#define MAX(v) *max_element(v.begin(), v.end())\\n#define sz(x) ((ll) (x).size())\\n#define all(x) (x).begin(), (x).end()\\n#define rep(i, a, b) for(ll i = (a); i < (b); i++)\\n#define rep2(i, a, b) for(ll i = (a); i <= (b); i++)\\n#define vll vector <ll>\\n#define vii vector <int>\\n#define pii pair <int, int>\\n#define pll pair <ll, ll>\\n#define M 1000007\\n#define MOD 1000000007\\n#define pb push_back\\n#define mp make_pair\\n#define ff first\\n#define ss second\\n#define endl \\\"\\\\\\\\n\\\"\\n#define inf 1000000000000000000\\n#define ninf -1000000000000000000\\n#define deb(n) cout<<\\\"--\\\"<<(n)<<\\\"--\\\"<<endl\\n#define debx(x) cout << #x << \\\" = \\\" << (x) << endl\\n#define deb2(a,b) cout<<(a)<<\\\"----\\\"<<(b)<<endl\\n#define debv(v) for(auto x: v) {cout<<x<<\\\", \\\";} cout<<endl;\\n#define put(n) cout<<(n)<<endl\\n#define toDecimal(s) bitset<64>(s).to_ullong()\\n#define toBinaryStr(n) bitset<64>(n).to_string()\\n#define toBinary(n) stoll(bitset<64>(n).to_string())\\n\\nvoid solve()\\n{\\n    ll n, k; cin >> n >> k;\\n    ll x = 0;\\n    ll r = 0; // initially 0, modify if needed during iterations\\n    while (r == 0) // updated condition for improved clarity\\n    {\\n        cout << x << endl;\\n        cout.flush();\\n        if (x == 1) \\n         .\\n          try also check.Suspend parsing\",\n",
    "        \"llm_model_first_step\": \"gpt-4o\",\n",
    "        \"llm_model_second_step\": \"gpt-4o\",\n",
    "        \"llm_model_third_step\": \"gpt-4o\",\n",
    "        \"source\": \"C++_3409220.json\",\n",
    "    }"
   ]
  }
 ],
 "metadata": {
  "kernelspec": {
   "display_name": "bert",
   "language": "python",
   "name": "python3"
  },
  "language_info": {
   "codemirror_mode": {
    "name": "ipython",
    "version": 3
   },
   "file_extension": ".py",
   "mimetype": "text/x-python",
   "name": "python",
   "nbconvert_exporter": "python",
   "pygments_lexer": "ipython3",
   "version": "3.9.20"
  }
 },
 "nbformat": 4,
 "nbformat_minor": 2
}
